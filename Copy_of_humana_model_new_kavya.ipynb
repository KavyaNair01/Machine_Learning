{
  "nbformat": 4,
  "nbformat_minor": 0,
  "metadata": {
    "colab": {
      "provenance": [],
      "gpuType": "V28",
      "machine_shape": "hm",
      "mount_file_id": "1LwLoGoCfZ-g5-UxrFa6qio2Iu4vufmmH",
      "authorship_tag": "ABX9TyPy2+GIS9LAdAID9OqWXmnY",
      "include_colab_link": true
    },
    "kernelspec": {
      "name": "python3",
      "display_name": "Python 3"
    },
    "language_info": {
      "name": "python"
    },
    "accelerator": "TPU"
  },
  "cells": [
    {
      "cell_type": "markdown",
      "metadata": {
        "id": "view-in-github",
        "colab_type": "text"
      },
      "source": [
        "<a href=\"https://colab.research.google.com/github/KavyaNair01/Machine_Learning/blob/main/Copy_of_humana_model_new_kavya.ipynb\" target=\"_parent\"><img src=\"https://colab.research.google.com/assets/colab-badge.svg\" alt=\"Open In Colab\"/></a>"
      ]
    },
    {
      "cell_type": "code",
      "execution_count": 1,
      "metadata": {
        "id": "aqr8XnLGh1Qz"
      },
      "outputs": [],
      "source": [
        "import pandas as pd\n",
        "import numpy as np"
      ]
    },
    {
      "cell_type": "code",
      "source": [
        "for i in range(50):\n",
        "  if i<10:\n",
        "    tmp=pd.read_csv(f'/content/drive/MyDrive/humana_train_agg.csv/part-0000{i}-a6808de1-d981-4148-99ee-d3a76b82da70-c000.csv')\n",
        "  else:\n",
        "    tmp=pd.read_csv(f'/content/drive/MyDrive/humana_train_agg.csv/part-000{i}-a6808de1-d981-4148-99ee-d3a76b82da70-c000.csv')\n",
        "  if i==0:\n",
        "    df=tmp\n",
        "  else:\n",
        "    df=pd.concat([df,tmp],axis=0,ignore_index=True)\n",
        "\n",
        "\n",
        "df.head()"
      ],
      "metadata": {
        "colab": {
          "base_uri": "https://localhost:8080/",
          "height": 256
        },
        "id": "ISntroXLh_Pq",
        "outputId": "5f89d16c-9dec-4987-a48d-59a2ddb37a60"
      },
      "execution_count": 3,
      "outputs": [
        {
          "output_type": "execute_result",
          "data": {
            "text/plain": [
              "          id  preventive_visit_gap_ind  cms_frailty_ind  \\\n",
              "0  1000073.0                       0.0              0.0   \n",
              "1  1000096.0                       0.0              0.0   \n",
              "2  1000113.0                       1.0              0.0   \n",
              "3  1000240.0                       1.0              0.0   \n",
              "4  1000369.0                       1.0              0.0   \n",
              "\n",
              "   cms_tot_ma_payment_amt  cms_tot_partd_payment_amt  atlas_recfacpth14  \\\n",
              "0                  481.53                       0.00           0.142282   \n",
              "1                 1017.22                      84.62           0.120904   \n",
              "2                  758.85                       0.00           0.093059   \n",
              "3                  377.92                     245.94           0.186335   \n",
              "4                  809.89                      72.90           0.080929   \n",
              "\n",
              "   atlas_ffrpth14  atlas_fsrpth14  atlas_grocpth14  atlas_povertyallagespct  \\\n",
              "0        0.673468        1.380135         0.237137                     11.6   \n",
              "1        0.785878        1.632209         0.211583                     22.4   \n",
              "2        0.645209        0.763084         0.155098                     12.9   \n",
              "3        0.745338        0.790316         0.115656                      8.8   \n",
              "4        0.526039        0.930684         0.222555                     15.2   \n",
              "\n",
              "   ...  TEX_elig_cnt  TFP_elig_cnt  TRC_(MRP)_elig_cnt  TRC_(PED)_elig_cnt  \\\n",
              "0  ...           NaN           NaN                 NaN                 NaN   \n",
              "1  ...           NaN           NaN                 1.0                 1.0   \n",
              "2  ...           8.0           NaN                 NaN                 NaN   \n",
              "3  ...           NaN           NaN                 NaN                 NaN   \n",
              "4  ...           NaN           NaN                 NaN                 NaN   \n",
              "\n",
              "   HEDIS_comp_cnt  Patient_Experience_comp_cnt  Patient_Safety_comp_cnt  \\\n",
              "0             1.0                          2.0                      NaN   \n",
              "1             1.0                          NaN                      2.0   \n",
              "2             NaN                         28.0                      NaN   \n",
              "3             NaN                          NaN                      NaN   \n",
              "4             NaN                          NaN                      2.0   \n",
              "\n",
              "   HEDIS_elig_cnt  Patient_Experience_elig_cnt  Patient_Safety_elig_cnt  \n",
              "0             2.0                          4.0                      NaN  \n",
              "1             4.0                          NaN                      2.0  \n",
              "2             NaN                         36.0                      NaN  \n",
              "3             NaN                          NaN                      NaN  \n",
              "4             NaN                          NaN                      2.0  \n",
              "\n",
              "[5 rows x 357 columns]"
            ],
            "text/html": [
              "\n",
              "  <div id=\"df-df158cfe-8b26-41cf-bbe8-fe4fb1c27a1b\" class=\"colab-df-container\">\n",
              "    <div>\n",
              "<style scoped>\n",
              "    .dataframe tbody tr th:only-of-type {\n",
              "        vertical-align: middle;\n",
              "    }\n",
              "\n",
              "    .dataframe tbody tr th {\n",
              "        vertical-align: top;\n",
              "    }\n",
              "\n",
              "    .dataframe thead th {\n",
              "        text-align: right;\n",
              "    }\n",
              "</style>\n",
              "<table border=\"1\" class=\"dataframe\">\n",
              "  <thead>\n",
              "    <tr style=\"text-align: right;\">\n",
              "      <th></th>\n",
              "      <th>id</th>\n",
              "      <th>preventive_visit_gap_ind</th>\n",
              "      <th>cms_frailty_ind</th>\n",
              "      <th>cms_tot_ma_payment_amt</th>\n",
              "      <th>cms_tot_partd_payment_amt</th>\n",
              "      <th>atlas_recfacpth14</th>\n",
              "      <th>atlas_ffrpth14</th>\n",
              "      <th>atlas_fsrpth14</th>\n",
              "      <th>atlas_grocpth14</th>\n",
              "      <th>atlas_povertyallagespct</th>\n",
              "      <th>...</th>\n",
              "      <th>TEX_elig_cnt</th>\n",
              "      <th>TFP_elig_cnt</th>\n",
              "      <th>TRC_(MRP)_elig_cnt</th>\n",
              "      <th>TRC_(PED)_elig_cnt</th>\n",
              "      <th>HEDIS_comp_cnt</th>\n",
              "      <th>Patient_Experience_comp_cnt</th>\n",
              "      <th>Patient_Safety_comp_cnt</th>\n",
              "      <th>HEDIS_elig_cnt</th>\n",
              "      <th>Patient_Experience_elig_cnt</th>\n",
              "      <th>Patient_Safety_elig_cnt</th>\n",
              "    </tr>\n",
              "  </thead>\n",
              "  <tbody>\n",
              "    <tr>\n",
              "      <th>0</th>\n",
              "      <td>1000073.0</td>\n",
              "      <td>0.0</td>\n",
              "      <td>0.0</td>\n",
              "      <td>481.53</td>\n",
              "      <td>0.00</td>\n",
              "      <td>0.142282</td>\n",
              "      <td>0.673468</td>\n",
              "      <td>1.380135</td>\n",
              "      <td>0.237137</td>\n",
              "      <td>11.6</td>\n",
              "      <td>...</td>\n",
              "      <td>NaN</td>\n",
              "      <td>NaN</td>\n",
              "      <td>NaN</td>\n",
              "      <td>NaN</td>\n",
              "      <td>1.0</td>\n",
              "      <td>2.0</td>\n",
              "      <td>NaN</td>\n",
              "      <td>2.0</td>\n",
              "      <td>4.0</td>\n",
              "      <td>NaN</td>\n",
              "    </tr>\n",
              "    <tr>\n",
              "      <th>1</th>\n",
              "      <td>1000096.0</td>\n",
              "      <td>0.0</td>\n",
              "      <td>0.0</td>\n",
              "      <td>1017.22</td>\n",
              "      <td>84.62</td>\n",
              "      <td>0.120904</td>\n",
              "      <td>0.785878</td>\n",
              "      <td>1.632209</td>\n",
              "      <td>0.211583</td>\n",
              "      <td>22.4</td>\n",
              "      <td>...</td>\n",
              "      <td>NaN</td>\n",
              "      <td>NaN</td>\n",
              "      <td>1.0</td>\n",
              "      <td>1.0</td>\n",
              "      <td>1.0</td>\n",
              "      <td>NaN</td>\n",
              "      <td>2.0</td>\n",
              "      <td>4.0</td>\n",
              "      <td>NaN</td>\n",
              "      <td>2.0</td>\n",
              "    </tr>\n",
              "    <tr>\n",
              "      <th>2</th>\n",
              "      <td>1000113.0</td>\n",
              "      <td>1.0</td>\n",
              "      <td>0.0</td>\n",
              "      <td>758.85</td>\n",
              "      <td>0.00</td>\n",
              "      <td>0.093059</td>\n",
              "      <td>0.645209</td>\n",
              "      <td>0.763084</td>\n",
              "      <td>0.155098</td>\n",
              "      <td>12.9</td>\n",
              "      <td>...</td>\n",
              "      <td>8.0</td>\n",
              "      <td>NaN</td>\n",
              "      <td>NaN</td>\n",
              "      <td>NaN</td>\n",
              "      <td>NaN</td>\n",
              "      <td>28.0</td>\n",
              "      <td>NaN</td>\n",
              "      <td>NaN</td>\n",
              "      <td>36.0</td>\n",
              "      <td>NaN</td>\n",
              "    </tr>\n",
              "    <tr>\n",
              "      <th>3</th>\n",
              "      <td>1000240.0</td>\n",
              "      <td>1.0</td>\n",
              "      <td>0.0</td>\n",
              "      <td>377.92</td>\n",
              "      <td>245.94</td>\n",
              "      <td>0.186335</td>\n",
              "      <td>0.745338</td>\n",
              "      <td>0.790316</td>\n",
              "      <td>0.115656</td>\n",
              "      <td>8.8</td>\n",
              "      <td>...</td>\n",
              "      <td>NaN</td>\n",
              "      <td>NaN</td>\n",
              "      <td>NaN</td>\n",
              "      <td>NaN</td>\n",
              "      <td>NaN</td>\n",
              "      <td>NaN</td>\n",
              "      <td>NaN</td>\n",
              "      <td>NaN</td>\n",
              "      <td>NaN</td>\n",
              "      <td>NaN</td>\n",
              "    </tr>\n",
              "    <tr>\n",
              "      <th>4</th>\n",
              "      <td>1000369.0</td>\n",
              "      <td>1.0</td>\n",
              "      <td>0.0</td>\n",
              "      <td>809.89</td>\n",
              "      <td>72.90</td>\n",
              "      <td>0.080929</td>\n",
              "      <td>0.526039</td>\n",
              "      <td>0.930684</td>\n",
              "      <td>0.222555</td>\n",
              "      <td>15.2</td>\n",
              "      <td>...</td>\n",
              "      <td>NaN</td>\n",
              "      <td>NaN</td>\n",
              "      <td>NaN</td>\n",
              "      <td>NaN</td>\n",
              "      <td>NaN</td>\n",
              "      <td>NaN</td>\n",
              "      <td>2.0</td>\n",
              "      <td>NaN</td>\n",
              "      <td>NaN</td>\n",
              "      <td>2.0</td>\n",
              "    </tr>\n",
              "  </tbody>\n",
              "</table>\n",
              "<p>5 rows × 357 columns</p>\n",
              "</div>\n",
              "    <div class=\"colab-df-buttons\">\n",
              "\n",
              "  <div class=\"colab-df-container\">\n",
              "    <button class=\"colab-df-convert\" onclick=\"convertToInteractive('df-df158cfe-8b26-41cf-bbe8-fe4fb1c27a1b')\"\n",
              "            title=\"Convert this dataframe to an interactive table.\"\n",
              "            style=\"display:none;\">\n",
              "\n",
              "  <svg xmlns=\"http://www.w3.org/2000/svg\" height=\"24px\" viewBox=\"0 -960 960 960\">\n",
              "    <path d=\"M120-120v-720h720v720H120Zm60-500h600v-160H180v160Zm220 220h160v-160H400v160Zm0 220h160v-160H400v160ZM180-400h160v-160H180v160Zm440 0h160v-160H620v160ZM180-180h160v-160H180v160Zm440 0h160v-160H620v160Z\"/>\n",
              "  </svg>\n",
              "    </button>\n",
              "\n",
              "  <style>\n",
              "    .colab-df-container {\n",
              "      display:flex;\n",
              "      gap: 12px;\n",
              "    }\n",
              "\n",
              "    .colab-df-convert {\n",
              "      background-color: #E8F0FE;\n",
              "      border: none;\n",
              "      border-radius: 50%;\n",
              "      cursor: pointer;\n",
              "      display: none;\n",
              "      fill: #1967D2;\n",
              "      height: 32px;\n",
              "      padding: 0 0 0 0;\n",
              "      width: 32px;\n",
              "    }\n",
              "\n",
              "    .colab-df-convert:hover {\n",
              "      background-color: #E2EBFA;\n",
              "      box-shadow: 0px 1px 2px rgba(60, 64, 67, 0.3), 0px 1px 3px 1px rgba(60, 64, 67, 0.15);\n",
              "      fill: #174EA6;\n",
              "    }\n",
              "\n",
              "    .colab-df-buttons div {\n",
              "      margin-bottom: 4px;\n",
              "    }\n",
              "\n",
              "    [theme=dark] .colab-df-convert {\n",
              "      background-color: #3B4455;\n",
              "      fill: #D2E3FC;\n",
              "    }\n",
              "\n",
              "    [theme=dark] .colab-df-convert:hover {\n",
              "      background-color: #434B5C;\n",
              "      box-shadow: 0px 1px 3px 1px rgba(0, 0, 0, 0.15);\n",
              "      filter: drop-shadow(0px 1px 2px rgba(0, 0, 0, 0.3));\n",
              "      fill: #FFFFFF;\n",
              "    }\n",
              "  </style>\n",
              "\n",
              "    <script>\n",
              "      const buttonEl =\n",
              "        document.querySelector('#df-df158cfe-8b26-41cf-bbe8-fe4fb1c27a1b button.colab-df-convert');\n",
              "      buttonEl.style.display =\n",
              "        google.colab.kernel.accessAllowed ? 'block' : 'none';\n",
              "\n",
              "      async function convertToInteractive(key) {\n",
              "        const element = document.querySelector('#df-df158cfe-8b26-41cf-bbe8-fe4fb1c27a1b');\n",
              "        const dataTable =\n",
              "          await google.colab.kernel.invokeFunction('convertToInteractive',\n",
              "                                                    [key], {});\n",
              "        if (!dataTable) return;\n",
              "\n",
              "        const docLinkHtml = 'Like what you see? Visit the ' +\n",
              "          '<a target=\"_blank\" href=https://colab.research.google.com/notebooks/data_table.ipynb>data table notebook</a>'\n",
              "          + ' to learn more about interactive tables.';\n",
              "        element.innerHTML = '';\n",
              "        dataTable['output_type'] = 'display_data';\n",
              "        await google.colab.output.renderOutput(dataTable, element);\n",
              "        const docLink = document.createElement('div');\n",
              "        docLink.innerHTML = docLinkHtml;\n",
              "        element.appendChild(docLink);\n",
              "      }\n",
              "    </script>\n",
              "  </div>\n",
              "\n",
              "\n",
              "<div id=\"df-ba238a56-eade-4bf7-9a8b-5d9cfae584ea\">\n",
              "  <button class=\"colab-df-quickchart\" onclick=\"quickchart('df-ba238a56-eade-4bf7-9a8b-5d9cfae584ea')\"\n",
              "            title=\"Suggest charts\"\n",
              "            style=\"display:none;\">\n",
              "\n",
              "<svg xmlns=\"http://www.w3.org/2000/svg\" height=\"24px\"viewBox=\"0 0 24 24\"\n",
              "     width=\"24px\">\n",
              "    <g>\n",
              "        <path d=\"M19 3H5c-1.1 0-2 .9-2 2v14c0 1.1.9 2 2 2h14c1.1 0 2-.9 2-2V5c0-1.1-.9-2-2-2zM9 17H7v-7h2v7zm4 0h-2V7h2v10zm4 0h-2v-4h2v4z\"/>\n",
              "    </g>\n",
              "</svg>\n",
              "  </button>\n",
              "\n",
              "<style>\n",
              "  .colab-df-quickchart {\n",
              "      --bg-color: #E8F0FE;\n",
              "      --fill-color: #1967D2;\n",
              "      --hover-bg-color: #E2EBFA;\n",
              "      --hover-fill-color: #174EA6;\n",
              "      --disabled-fill-color: #AAA;\n",
              "      --disabled-bg-color: #DDD;\n",
              "  }\n",
              "\n",
              "  [theme=dark] .colab-df-quickchart {\n",
              "      --bg-color: #3B4455;\n",
              "      --fill-color: #D2E3FC;\n",
              "      --hover-bg-color: #434B5C;\n",
              "      --hover-fill-color: #FFFFFF;\n",
              "      --disabled-bg-color: #3B4455;\n",
              "      --disabled-fill-color: #666;\n",
              "  }\n",
              "\n",
              "  .colab-df-quickchart {\n",
              "    background-color: var(--bg-color);\n",
              "    border: none;\n",
              "    border-radius: 50%;\n",
              "    cursor: pointer;\n",
              "    display: none;\n",
              "    fill: var(--fill-color);\n",
              "    height: 32px;\n",
              "    padding: 0;\n",
              "    width: 32px;\n",
              "  }\n",
              "\n",
              "  .colab-df-quickchart:hover {\n",
              "    background-color: var(--hover-bg-color);\n",
              "    box-shadow: 0 1px 2px rgba(60, 64, 67, 0.3), 0 1px 3px 1px rgba(60, 64, 67, 0.15);\n",
              "    fill: var(--button-hover-fill-color);\n",
              "  }\n",
              "\n",
              "  .colab-df-quickchart-complete:disabled,\n",
              "  .colab-df-quickchart-complete:disabled:hover {\n",
              "    background-color: var(--disabled-bg-color);\n",
              "    fill: var(--disabled-fill-color);\n",
              "    box-shadow: none;\n",
              "  }\n",
              "\n",
              "  .colab-df-spinner {\n",
              "    border: 2px solid var(--fill-color);\n",
              "    border-color: transparent;\n",
              "    border-bottom-color: var(--fill-color);\n",
              "    animation:\n",
              "      spin 1s steps(1) infinite;\n",
              "  }\n",
              "\n",
              "  @keyframes spin {\n",
              "    0% {\n",
              "      border-color: transparent;\n",
              "      border-bottom-color: var(--fill-color);\n",
              "      border-left-color: var(--fill-color);\n",
              "    }\n",
              "    20% {\n",
              "      border-color: transparent;\n",
              "      border-left-color: var(--fill-color);\n",
              "      border-top-color: var(--fill-color);\n",
              "    }\n",
              "    30% {\n",
              "      border-color: transparent;\n",
              "      border-left-color: var(--fill-color);\n",
              "      border-top-color: var(--fill-color);\n",
              "      border-right-color: var(--fill-color);\n",
              "    }\n",
              "    40% {\n",
              "      border-color: transparent;\n",
              "      border-right-color: var(--fill-color);\n",
              "      border-top-color: var(--fill-color);\n",
              "    }\n",
              "    60% {\n",
              "      border-color: transparent;\n",
              "      border-right-color: var(--fill-color);\n",
              "    }\n",
              "    80% {\n",
              "      border-color: transparent;\n",
              "      border-right-color: var(--fill-color);\n",
              "      border-bottom-color: var(--fill-color);\n",
              "    }\n",
              "    90% {\n",
              "      border-color: transparent;\n",
              "      border-bottom-color: var(--fill-color);\n",
              "    }\n",
              "  }\n",
              "</style>\n",
              "\n",
              "  <script>\n",
              "    async function quickchart(key) {\n",
              "      const quickchartButtonEl =\n",
              "        document.querySelector('#' + key + ' button');\n",
              "      quickchartButtonEl.disabled = true;  // To prevent multiple clicks.\n",
              "      quickchartButtonEl.classList.add('colab-df-spinner');\n",
              "      try {\n",
              "        const charts = await google.colab.kernel.invokeFunction(\n",
              "            'suggestCharts', [key], {});\n",
              "      } catch (error) {\n",
              "        console.error('Error during call to suggestCharts:', error);\n",
              "      }\n",
              "      quickchartButtonEl.classList.remove('colab-df-spinner');\n",
              "      quickchartButtonEl.classList.add('colab-df-quickchart-complete');\n",
              "    }\n",
              "    (() => {\n",
              "      let quickchartButtonEl =\n",
              "        document.querySelector('#df-ba238a56-eade-4bf7-9a8b-5d9cfae584ea button');\n",
              "      quickchartButtonEl.style.display =\n",
              "        google.colab.kernel.accessAllowed ? 'block' : 'none';\n",
              "    })();\n",
              "  </script>\n",
              "</div>\n",
              "\n",
              "    </div>\n",
              "  </div>\n"
            ],
            "application/vnd.google.colaboratory.intrinsic+json": {
              "type": "dataframe",
              "variable_name": "df"
            }
          },
          "metadata": {},
          "execution_count": 3
        }
      ]
    },
    {
      "cell_type": "code",
      "source": [
        "df_claims2021 = pd.read_csv('/content/claims_2021.csv').drop(['Unnamed: 0', 'dos_year'], axis = 1)\n",
        "df_claims2022 = pd.read_csv('/content/claims_2022.csv').drop(['Unnamed: 0', 'dos_year'], axis = 1)"
      ],
      "metadata": {
        "id": "BWFs2FhsjlnN"
      },
      "execution_count": 4,
      "outputs": []
    },
    {
      "cell_type": "code",
      "source": [
        "df_claims2021.head()"
      ],
      "metadata": {
        "colab": {
          "base_uri": "https://localhost:8080/",
          "height": 255
        },
        "id": "raOZZCWojuY6",
        "outputId": "7d5141b8-023e-44f5-bdee-e32a0359d1fb"
      },
      "execution_count": null,
      "outputs": [
        {
          "output_type": "execute_result",
          "data": {
            "text/plain": [
              "        id  2021_annual_wellness  2021_clm_unique_key  2021_podiatrist_visit  \\\n",
              "0   663402                     0                   44                      0   \n",
              "1  1773501                     0                   36                      0   \n",
              "2  1438794                     0                   28                      0   \n",
              "3   599410                     0                    5                      0   \n",
              "4  1928811                     0                   31                      0   \n",
              "\n",
              "   2021_pcp_visit  2021_fqhc_visit  2021_cardiologist_visit  2021_telehealth  \\\n",
              "0               0                0                       17                0   \n",
              "1               0                0                        7                0   \n",
              "2               0                0                       15                0   \n",
              "3               0                0                        2                0   \n",
              "4               0                0                        6                0   \n",
              "\n",
              "   2021_urgent_care_visit  2021_gastroenterologist_visit  ...  \\\n",
              "0                       0                              3  ...   \n",
              "1                       0                              0  ...   \n",
              "2                       0                              0  ...   \n",
              "3                       0                              0  ...   \n",
              "4                       0                              0  ...   \n",
              "\n",
              "   2021_orthopedist_visit  2021_ophthalmologist_visit  2021_humana_paf  \\\n",
              "0                       0                           0                0   \n",
              "1                       0                           9                0   \n",
              "2                       0                           0                0   \n",
              "3                       1                           2                0   \n",
              "4                       2                           0                0   \n",
              "\n",
              "   2021_optometrist_visit  2021_endocrinologist_visit  2021_radiologist_visit  \\\n",
              "0                       2                           2                      14   \n",
              "1                       0                           5                       3   \n",
              "2                       0                           0                       4   \n",
              "3                       0                           0                       0   \n",
              "4                       1                           0                       1   \n",
              "\n",
              "   2021_physical_therapist_visit  2021_comp_physical_exam  2021_er_visit  \\\n",
              "0                              0                        0              5   \n",
              "1                              0                        0              4   \n",
              "2                              0                        0              0   \n",
              "3                              0                        0              0   \n",
              "4                             21                        0              0   \n",
              "\n",
              "   2021_obgyn_visit  \n",
              "0                 0  \n",
              "1                 0  \n",
              "2                 1  \n",
              "3                 0  \n",
              "4                 0  \n",
              "\n",
              "[5 rows x 24 columns]"
            ],
            "text/html": [
              "\n",
              "  <div id=\"df-83fc0186-b0f3-4d0a-9c63-aee4f5be4eb1\" class=\"colab-df-container\">\n",
              "    <div>\n",
              "<style scoped>\n",
              "    .dataframe tbody tr th:only-of-type {\n",
              "        vertical-align: middle;\n",
              "    }\n",
              "\n",
              "    .dataframe tbody tr th {\n",
              "        vertical-align: top;\n",
              "    }\n",
              "\n",
              "    .dataframe thead th {\n",
              "        text-align: right;\n",
              "    }\n",
              "</style>\n",
              "<table border=\"1\" class=\"dataframe\">\n",
              "  <thead>\n",
              "    <tr style=\"text-align: right;\">\n",
              "      <th></th>\n",
              "      <th>id</th>\n",
              "      <th>2021_annual_wellness</th>\n",
              "      <th>2021_clm_unique_key</th>\n",
              "      <th>2021_podiatrist_visit</th>\n",
              "      <th>2021_pcp_visit</th>\n",
              "      <th>2021_fqhc_visit</th>\n",
              "      <th>2021_cardiologist_visit</th>\n",
              "      <th>2021_telehealth</th>\n",
              "      <th>2021_urgent_care_visit</th>\n",
              "      <th>2021_gastroenterologist_visit</th>\n",
              "      <th>...</th>\n",
              "      <th>2021_orthopedist_visit</th>\n",
              "      <th>2021_ophthalmologist_visit</th>\n",
              "      <th>2021_humana_paf</th>\n",
              "      <th>2021_optometrist_visit</th>\n",
              "      <th>2021_endocrinologist_visit</th>\n",
              "      <th>2021_radiologist_visit</th>\n",
              "      <th>2021_physical_therapist_visit</th>\n",
              "      <th>2021_comp_physical_exam</th>\n",
              "      <th>2021_er_visit</th>\n",
              "      <th>2021_obgyn_visit</th>\n",
              "    </tr>\n",
              "  </thead>\n",
              "  <tbody>\n",
              "    <tr>\n",
              "      <th>0</th>\n",
              "      <td>663402</td>\n",
              "      <td>0</td>\n",
              "      <td>44</td>\n",
              "      <td>0</td>\n",
              "      <td>0</td>\n",
              "      <td>0</td>\n",
              "      <td>17</td>\n",
              "      <td>0</td>\n",
              "      <td>0</td>\n",
              "      <td>3</td>\n",
              "      <td>...</td>\n",
              "      <td>0</td>\n",
              "      <td>0</td>\n",
              "      <td>0</td>\n",
              "      <td>2</td>\n",
              "      <td>2</td>\n",
              "      <td>14</td>\n",
              "      <td>0</td>\n",
              "      <td>0</td>\n",
              "      <td>5</td>\n",
              "      <td>0</td>\n",
              "    </tr>\n",
              "    <tr>\n",
              "      <th>1</th>\n",
              "      <td>1773501</td>\n",
              "      <td>0</td>\n",
              "      <td>36</td>\n",
              "      <td>0</td>\n",
              "      <td>0</td>\n",
              "      <td>0</td>\n",
              "      <td>7</td>\n",
              "      <td>0</td>\n",
              "      <td>0</td>\n",
              "      <td>0</td>\n",
              "      <td>...</td>\n",
              "      <td>0</td>\n",
              "      <td>9</td>\n",
              "      <td>0</td>\n",
              "      <td>0</td>\n",
              "      <td>5</td>\n",
              "      <td>3</td>\n",
              "      <td>0</td>\n",
              "      <td>0</td>\n",
              "      <td>4</td>\n",
              "      <td>0</td>\n",
              "    </tr>\n",
              "    <tr>\n",
              "      <th>2</th>\n",
              "      <td>1438794</td>\n",
              "      <td>0</td>\n",
              "      <td>28</td>\n",
              "      <td>0</td>\n",
              "      <td>0</td>\n",
              "      <td>0</td>\n",
              "      <td>15</td>\n",
              "      <td>0</td>\n",
              "      <td>0</td>\n",
              "      <td>0</td>\n",
              "      <td>...</td>\n",
              "      <td>0</td>\n",
              "      <td>0</td>\n",
              "      <td>0</td>\n",
              "      <td>0</td>\n",
              "      <td>0</td>\n",
              "      <td>4</td>\n",
              "      <td>0</td>\n",
              "      <td>0</td>\n",
              "      <td>0</td>\n",
              "      <td>1</td>\n",
              "    </tr>\n",
              "    <tr>\n",
              "      <th>3</th>\n",
              "      <td>599410</td>\n",
              "      <td>0</td>\n",
              "      <td>5</td>\n",
              "      <td>0</td>\n",
              "      <td>0</td>\n",
              "      <td>0</td>\n",
              "      <td>2</td>\n",
              "      <td>0</td>\n",
              "      <td>0</td>\n",
              "      <td>0</td>\n",
              "      <td>...</td>\n",
              "      <td>1</td>\n",
              "      <td>2</td>\n",
              "      <td>0</td>\n",
              "      <td>0</td>\n",
              "      <td>0</td>\n",
              "      <td>0</td>\n",
              "      <td>0</td>\n",
              "      <td>0</td>\n",
              "      <td>0</td>\n",
              "      <td>0</td>\n",
              "    </tr>\n",
              "    <tr>\n",
              "      <th>4</th>\n",
              "      <td>1928811</td>\n",
              "      <td>0</td>\n",
              "      <td>31</td>\n",
              "      <td>0</td>\n",
              "      <td>0</td>\n",
              "      <td>0</td>\n",
              "      <td>6</td>\n",
              "      <td>0</td>\n",
              "      <td>0</td>\n",
              "      <td>0</td>\n",
              "      <td>...</td>\n",
              "      <td>2</td>\n",
              "      <td>0</td>\n",
              "      <td>0</td>\n",
              "      <td>1</td>\n",
              "      <td>0</td>\n",
              "      <td>1</td>\n",
              "      <td>21</td>\n",
              "      <td>0</td>\n",
              "      <td>0</td>\n",
              "      <td>0</td>\n",
              "    </tr>\n",
              "  </tbody>\n",
              "</table>\n",
              "<p>5 rows × 24 columns</p>\n",
              "</div>\n",
              "    <div class=\"colab-df-buttons\">\n",
              "\n",
              "  <div class=\"colab-df-container\">\n",
              "    <button class=\"colab-df-convert\" onclick=\"convertToInteractive('df-83fc0186-b0f3-4d0a-9c63-aee4f5be4eb1')\"\n",
              "            title=\"Convert this dataframe to an interactive table.\"\n",
              "            style=\"display:none;\">\n",
              "\n",
              "  <svg xmlns=\"http://www.w3.org/2000/svg\" height=\"24px\" viewBox=\"0 -960 960 960\">\n",
              "    <path d=\"M120-120v-720h720v720H120Zm60-500h600v-160H180v160Zm220 220h160v-160H400v160Zm0 220h160v-160H400v160ZM180-400h160v-160H180v160Zm440 0h160v-160H620v160ZM180-180h160v-160H180v160Zm440 0h160v-160H620v160Z\"/>\n",
              "  </svg>\n",
              "    </button>\n",
              "\n",
              "  <style>\n",
              "    .colab-df-container {\n",
              "      display:flex;\n",
              "      gap: 12px;\n",
              "    }\n",
              "\n",
              "    .colab-df-convert {\n",
              "      background-color: #E8F0FE;\n",
              "      border: none;\n",
              "      border-radius: 50%;\n",
              "      cursor: pointer;\n",
              "      display: none;\n",
              "      fill: #1967D2;\n",
              "      height: 32px;\n",
              "      padding: 0 0 0 0;\n",
              "      width: 32px;\n",
              "    }\n",
              "\n",
              "    .colab-df-convert:hover {\n",
              "      background-color: #E2EBFA;\n",
              "      box-shadow: 0px 1px 2px rgba(60, 64, 67, 0.3), 0px 1px 3px 1px rgba(60, 64, 67, 0.15);\n",
              "      fill: #174EA6;\n",
              "    }\n",
              "\n",
              "    .colab-df-buttons div {\n",
              "      margin-bottom: 4px;\n",
              "    }\n",
              "\n",
              "    [theme=dark] .colab-df-convert {\n",
              "      background-color: #3B4455;\n",
              "      fill: #D2E3FC;\n",
              "    }\n",
              "\n",
              "    [theme=dark] .colab-df-convert:hover {\n",
              "      background-color: #434B5C;\n",
              "      box-shadow: 0px 1px 3px 1px rgba(0, 0, 0, 0.15);\n",
              "      filter: drop-shadow(0px 1px 2px rgba(0, 0, 0, 0.3));\n",
              "      fill: #FFFFFF;\n",
              "    }\n",
              "  </style>\n",
              "\n",
              "    <script>\n",
              "      const buttonEl =\n",
              "        document.querySelector('#df-83fc0186-b0f3-4d0a-9c63-aee4f5be4eb1 button.colab-df-convert');\n",
              "      buttonEl.style.display =\n",
              "        google.colab.kernel.accessAllowed ? 'block' : 'none';\n",
              "\n",
              "      async function convertToInteractive(key) {\n",
              "        const element = document.querySelector('#df-83fc0186-b0f3-4d0a-9c63-aee4f5be4eb1');\n",
              "        const dataTable =\n",
              "          await google.colab.kernel.invokeFunction('convertToInteractive',\n",
              "                                                    [key], {});\n",
              "        if (!dataTable) return;\n",
              "\n",
              "        const docLinkHtml = 'Like what you see? Visit the ' +\n",
              "          '<a target=\"_blank\" href=https://colab.research.google.com/notebooks/data_table.ipynb>data table notebook</a>'\n",
              "          + ' to learn more about interactive tables.';\n",
              "        element.innerHTML = '';\n",
              "        dataTable['output_type'] = 'display_data';\n",
              "        await google.colab.output.renderOutput(dataTable, element);\n",
              "        const docLink = document.createElement('div');\n",
              "        docLink.innerHTML = docLinkHtml;\n",
              "        element.appendChild(docLink);\n",
              "      }\n",
              "    </script>\n",
              "  </div>\n",
              "\n",
              "\n",
              "<div id=\"df-7d47698e-7a77-4658-aa3c-ed4f3878cf8c\">\n",
              "  <button class=\"colab-df-quickchart\" onclick=\"quickchart('df-7d47698e-7a77-4658-aa3c-ed4f3878cf8c')\"\n",
              "            title=\"Suggest charts\"\n",
              "            style=\"display:none;\">\n",
              "\n",
              "<svg xmlns=\"http://www.w3.org/2000/svg\" height=\"24px\"viewBox=\"0 0 24 24\"\n",
              "     width=\"24px\">\n",
              "    <g>\n",
              "        <path d=\"M19 3H5c-1.1 0-2 .9-2 2v14c0 1.1.9 2 2 2h14c1.1 0 2-.9 2-2V5c0-1.1-.9-2-2-2zM9 17H7v-7h2v7zm4 0h-2V7h2v10zm4 0h-2v-4h2v4z\"/>\n",
              "    </g>\n",
              "</svg>\n",
              "  </button>\n",
              "\n",
              "<style>\n",
              "  .colab-df-quickchart {\n",
              "      --bg-color: #E8F0FE;\n",
              "      --fill-color: #1967D2;\n",
              "      --hover-bg-color: #E2EBFA;\n",
              "      --hover-fill-color: #174EA6;\n",
              "      --disabled-fill-color: #AAA;\n",
              "      --disabled-bg-color: #DDD;\n",
              "  }\n",
              "\n",
              "  [theme=dark] .colab-df-quickchart {\n",
              "      --bg-color: #3B4455;\n",
              "      --fill-color: #D2E3FC;\n",
              "      --hover-bg-color: #434B5C;\n",
              "      --hover-fill-color: #FFFFFF;\n",
              "      --disabled-bg-color: #3B4455;\n",
              "      --disabled-fill-color: #666;\n",
              "  }\n",
              "\n",
              "  .colab-df-quickchart {\n",
              "    background-color: var(--bg-color);\n",
              "    border: none;\n",
              "    border-radius: 50%;\n",
              "    cursor: pointer;\n",
              "    display: none;\n",
              "    fill: var(--fill-color);\n",
              "    height: 32px;\n",
              "    padding: 0;\n",
              "    width: 32px;\n",
              "  }\n",
              "\n",
              "  .colab-df-quickchart:hover {\n",
              "    background-color: var(--hover-bg-color);\n",
              "    box-shadow: 0 1px 2px rgba(60, 64, 67, 0.3), 0 1px 3px 1px rgba(60, 64, 67, 0.15);\n",
              "    fill: var(--button-hover-fill-color);\n",
              "  }\n",
              "\n",
              "  .colab-df-quickchart-complete:disabled,\n",
              "  .colab-df-quickchart-complete:disabled:hover {\n",
              "    background-color: var(--disabled-bg-color);\n",
              "    fill: var(--disabled-fill-color);\n",
              "    box-shadow: none;\n",
              "  }\n",
              "\n",
              "  .colab-df-spinner {\n",
              "    border: 2px solid var(--fill-color);\n",
              "    border-color: transparent;\n",
              "    border-bottom-color: var(--fill-color);\n",
              "    animation:\n",
              "      spin 1s steps(1) infinite;\n",
              "  }\n",
              "\n",
              "  @keyframes spin {\n",
              "    0% {\n",
              "      border-color: transparent;\n",
              "      border-bottom-color: var(--fill-color);\n",
              "      border-left-color: var(--fill-color);\n",
              "    }\n",
              "    20% {\n",
              "      border-color: transparent;\n",
              "      border-left-color: var(--fill-color);\n",
              "      border-top-color: var(--fill-color);\n",
              "    }\n",
              "    30% {\n",
              "      border-color: transparent;\n",
              "      border-left-color: var(--fill-color);\n",
              "      border-top-color: var(--fill-color);\n",
              "      border-right-color: var(--fill-color);\n",
              "    }\n",
              "    40% {\n",
              "      border-color: transparent;\n",
              "      border-right-color: var(--fill-color);\n",
              "      border-top-color: var(--fill-color);\n",
              "    }\n",
              "    60% {\n",
              "      border-color: transparent;\n",
              "      border-right-color: var(--fill-color);\n",
              "    }\n",
              "    80% {\n",
              "      border-color: transparent;\n",
              "      border-right-color: var(--fill-color);\n",
              "      border-bottom-color: var(--fill-color);\n",
              "    }\n",
              "    90% {\n",
              "      border-color: transparent;\n",
              "      border-bottom-color: var(--fill-color);\n",
              "    }\n",
              "  }\n",
              "</style>\n",
              "\n",
              "  <script>\n",
              "    async function quickchart(key) {\n",
              "      const quickchartButtonEl =\n",
              "        document.querySelector('#' + key + ' button');\n",
              "      quickchartButtonEl.disabled = true;  // To prevent multiple clicks.\n",
              "      quickchartButtonEl.classList.add('colab-df-spinner');\n",
              "      try {\n",
              "        const charts = await google.colab.kernel.invokeFunction(\n",
              "            'suggestCharts', [key], {});\n",
              "      } catch (error) {\n",
              "        console.error('Error during call to suggestCharts:', error);\n",
              "      }\n",
              "      quickchartButtonEl.classList.remove('colab-df-spinner');\n",
              "      quickchartButtonEl.classList.add('colab-df-quickchart-complete');\n",
              "    }\n",
              "    (() => {\n",
              "      let quickchartButtonEl =\n",
              "        document.querySelector('#df-7d47698e-7a77-4658-aa3c-ed4f3878cf8c button');\n",
              "      quickchartButtonEl.style.display =\n",
              "        google.colab.kernel.accessAllowed ? 'block' : 'none';\n",
              "    })();\n",
              "  </script>\n",
              "</div>\n",
              "\n",
              "    </div>\n",
              "  </div>\n"
            ],
            "application/vnd.google.colaboratory.intrinsic+json": {
              "type": "dataframe",
              "variable_name": "df_claims2021"
            }
          },
          "metadata": {},
          "execution_count": 7
        }
      ]
    },
    {
      "cell_type": "code",
      "source": [
        "df_claims2022.head()"
      ],
      "metadata": {
        "colab": {
          "base_uri": "https://localhost:8080/",
          "height": 255
        },
        "id": "fnfsqZLMj3ee",
        "outputId": "f881f9b5-7bff-4c9c-810b-ee9e586ac667"
      },
      "execution_count": null,
      "outputs": [
        {
          "output_type": "execute_result",
          "data": {
            "text/plain": [
              "        id  2022_annual_wellness  2022_clm_unique_key  2022_podiatrist_visit  \\\n",
              "0   261120                     0                   19                      2   \n",
              "1   259501                     0                    5                      0   \n",
              "2  1891897                     0                   18                      9   \n",
              "3   506437                     0                   17                      0   \n",
              "4   194330                     0                   11                      0   \n",
              "\n",
              "   2022_pcp_visit  2022_fqhc_visit  2022_cardiologist_visit  2022_telehealth  \\\n",
              "0               0                0                        0                0   \n",
              "1               0                0                        1                0   \n",
              "2               0                0                        2                0   \n",
              "3               0                0                        4                0   \n",
              "4               0                0                        0                0   \n",
              "\n",
              "   2022_urgent_care_visit  2022_gastroenterologist_visit  ...  \\\n",
              "0                       5                              0  ...   \n",
              "1                       0                              0  ...   \n",
              "2                       0                              0  ...   \n",
              "3                       0                              0  ...   \n",
              "4                       0                              0  ...   \n",
              "\n",
              "   2022_orthopedist_visit  2022_ophthalmologist_visit  2022_humana_paf  \\\n",
              "0                       0                           0                0   \n",
              "1                       0                           0                0   \n",
              "2                       0                           0                0   \n",
              "3                       0                           0                0   \n",
              "4                       5                           2                0   \n",
              "\n",
              "   2022_optometrist_visit  2022_endocrinologist_visit  2022_radiologist_visit  \\\n",
              "0                       0                           0                       3   \n",
              "1                       0                           0                       0   \n",
              "2                       1                           0                       2   \n",
              "3                       0                           0                       0   \n",
              "4                       0                           0                       2   \n",
              "\n",
              "   2022_physical_therapist_visit  2022_comp_physical_exam  2022_er_visit  \\\n",
              "0                              0                        0              2   \n",
              "1                              0                        0              2   \n",
              "2                              0                        0              2   \n",
              "3                              0                        0              0   \n",
              "4                              0                        0              2   \n",
              "\n",
              "   2022_obgyn_visit  \n",
              "0                 4  \n",
              "1                 2  \n",
              "2                 0  \n",
              "3                 0  \n",
              "4                 0  \n",
              "\n",
              "[5 rows x 24 columns]"
            ],
            "text/html": [
              "\n",
              "  <div id=\"df-94d79723-84b8-41a9-9978-0a2b0f6b4acf\" class=\"colab-df-container\">\n",
              "    <div>\n",
              "<style scoped>\n",
              "    .dataframe tbody tr th:only-of-type {\n",
              "        vertical-align: middle;\n",
              "    }\n",
              "\n",
              "    .dataframe tbody tr th {\n",
              "        vertical-align: top;\n",
              "    }\n",
              "\n",
              "    .dataframe thead th {\n",
              "        text-align: right;\n",
              "    }\n",
              "</style>\n",
              "<table border=\"1\" class=\"dataframe\">\n",
              "  <thead>\n",
              "    <tr style=\"text-align: right;\">\n",
              "      <th></th>\n",
              "      <th>id</th>\n",
              "      <th>2022_annual_wellness</th>\n",
              "      <th>2022_clm_unique_key</th>\n",
              "      <th>2022_podiatrist_visit</th>\n",
              "      <th>2022_pcp_visit</th>\n",
              "      <th>2022_fqhc_visit</th>\n",
              "      <th>2022_cardiologist_visit</th>\n",
              "      <th>2022_telehealth</th>\n",
              "      <th>2022_urgent_care_visit</th>\n",
              "      <th>2022_gastroenterologist_visit</th>\n",
              "      <th>...</th>\n",
              "      <th>2022_orthopedist_visit</th>\n",
              "      <th>2022_ophthalmologist_visit</th>\n",
              "      <th>2022_humana_paf</th>\n",
              "      <th>2022_optometrist_visit</th>\n",
              "      <th>2022_endocrinologist_visit</th>\n",
              "      <th>2022_radiologist_visit</th>\n",
              "      <th>2022_physical_therapist_visit</th>\n",
              "      <th>2022_comp_physical_exam</th>\n",
              "      <th>2022_er_visit</th>\n",
              "      <th>2022_obgyn_visit</th>\n",
              "    </tr>\n",
              "  </thead>\n",
              "  <tbody>\n",
              "    <tr>\n",
              "      <th>0</th>\n",
              "      <td>261120</td>\n",
              "      <td>0</td>\n",
              "      <td>19</td>\n",
              "      <td>2</td>\n",
              "      <td>0</td>\n",
              "      <td>0</td>\n",
              "      <td>0</td>\n",
              "      <td>0</td>\n",
              "      <td>5</td>\n",
              "      <td>0</td>\n",
              "      <td>...</td>\n",
              "      <td>0</td>\n",
              "      <td>0</td>\n",
              "      <td>0</td>\n",
              "      <td>0</td>\n",
              "      <td>0</td>\n",
              "      <td>3</td>\n",
              "      <td>0</td>\n",
              "      <td>0</td>\n",
              "      <td>2</td>\n",
              "      <td>4</td>\n",
              "    </tr>\n",
              "    <tr>\n",
              "      <th>1</th>\n",
              "      <td>259501</td>\n",
              "      <td>0</td>\n",
              "      <td>5</td>\n",
              "      <td>0</td>\n",
              "      <td>0</td>\n",
              "      <td>0</td>\n",
              "      <td>1</td>\n",
              "      <td>0</td>\n",
              "      <td>0</td>\n",
              "      <td>0</td>\n",
              "      <td>...</td>\n",
              "      <td>0</td>\n",
              "      <td>0</td>\n",
              "      <td>0</td>\n",
              "      <td>0</td>\n",
              "      <td>0</td>\n",
              "      <td>0</td>\n",
              "      <td>0</td>\n",
              "      <td>0</td>\n",
              "      <td>2</td>\n",
              "      <td>2</td>\n",
              "    </tr>\n",
              "    <tr>\n",
              "      <th>2</th>\n",
              "      <td>1891897</td>\n",
              "      <td>0</td>\n",
              "      <td>18</td>\n",
              "      <td>9</td>\n",
              "      <td>0</td>\n",
              "      <td>0</td>\n",
              "      <td>2</td>\n",
              "      <td>0</td>\n",
              "      <td>0</td>\n",
              "      <td>0</td>\n",
              "      <td>...</td>\n",
              "      <td>0</td>\n",
              "      <td>0</td>\n",
              "      <td>0</td>\n",
              "      <td>1</td>\n",
              "      <td>0</td>\n",
              "      <td>2</td>\n",
              "      <td>0</td>\n",
              "      <td>0</td>\n",
              "      <td>2</td>\n",
              "      <td>0</td>\n",
              "    </tr>\n",
              "    <tr>\n",
              "      <th>3</th>\n",
              "      <td>506437</td>\n",
              "      <td>0</td>\n",
              "      <td>17</td>\n",
              "      <td>0</td>\n",
              "      <td>0</td>\n",
              "      <td>0</td>\n",
              "      <td>4</td>\n",
              "      <td>0</td>\n",
              "      <td>0</td>\n",
              "      <td>0</td>\n",
              "      <td>...</td>\n",
              "      <td>0</td>\n",
              "      <td>0</td>\n",
              "      <td>0</td>\n",
              "      <td>0</td>\n",
              "      <td>0</td>\n",
              "      <td>0</td>\n",
              "      <td>0</td>\n",
              "      <td>0</td>\n",
              "      <td>0</td>\n",
              "      <td>0</td>\n",
              "    </tr>\n",
              "    <tr>\n",
              "      <th>4</th>\n",
              "      <td>194330</td>\n",
              "      <td>0</td>\n",
              "      <td>11</td>\n",
              "      <td>0</td>\n",
              "      <td>0</td>\n",
              "      <td>0</td>\n",
              "      <td>0</td>\n",
              "      <td>0</td>\n",
              "      <td>0</td>\n",
              "      <td>0</td>\n",
              "      <td>...</td>\n",
              "      <td>5</td>\n",
              "      <td>2</td>\n",
              "      <td>0</td>\n",
              "      <td>0</td>\n",
              "      <td>0</td>\n",
              "      <td>2</td>\n",
              "      <td>0</td>\n",
              "      <td>0</td>\n",
              "      <td>2</td>\n",
              "      <td>0</td>\n",
              "    </tr>\n",
              "  </tbody>\n",
              "</table>\n",
              "<p>5 rows × 24 columns</p>\n",
              "</div>\n",
              "    <div class=\"colab-df-buttons\">\n",
              "\n",
              "  <div class=\"colab-df-container\">\n",
              "    <button class=\"colab-df-convert\" onclick=\"convertToInteractive('df-94d79723-84b8-41a9-9978-0a2b0f6b4acf')\"\n",
              "            title=\"Convert this dataframe to an interactive table.\"\n",
              "            style=\"display:none;\">\n",
              "\n",
              "  <svg xmlns=\"http://www.w3.org/2000/svg\" height=\"24px\" viewBox=\"0 -960 960 960\">\n",
              "    <path d=\"M120-120v-720h720v720H120Zm60-500h600v-160H180v160Zm220 220h160v-160H400v160Zm0 220h160v-160H400v160ZM180-400h160v-160H180v160Zm440 0h160v-160H620v160ZM180-180h160v-160H180v160Zm440 0h160v-160H620v160Z\"/>\n",
              "  </svg>\n",
              "    </button>\n",
              "\n",
              "  <style>\n",
              "    .colab-df-container {\n",
              "      display:flex;\n",
              "      gap: 12px;\n",
              "    }\n",
              "\n",
              "    .colab-df-convert {\n",
              "      background-color: #E8F0FE;\n",
              "      border: none;\n",
              "      border-radius: 50%;\n",
              "      cursor: pointer;\n",
              "      display: none;\n",
              "      fill: #1967D2;\n",
              "      height: 32px;\n",
              "      padding: 0 0 0 0;\n",
              "      width: 32px;\n",
              "    }\n",
              "\n",
              "    .colab-df-convert:hover {\n",
              "      background-color: #E2EBFA;\n",
              "      box-shadow: 0px 1px 2px rgba(60, 64, 67, 0.3), 0px 1px 3px 1px rgba(60, 64, 67, 0.15);\n",
              "      fill: #174EA6;\n",
              "    }\n",
              "\n",
              "    .colab-df-buttons div {\n",
              "      margin-bottom: 4px;\n",
              "    }\n",
              "\n",
              "    [theme=dark] .colab-df-convert {\n",
              "      background-color: #3B4455;\n",
              "      fill: #D2E3FC;\n",
              "    }\n",
              "\n",
              "    [theme=dark] .colab-df-convert:hover {\n",
              "      background-color: #434B5C;\n",
              "      box-shadow: 0px 1px 3px 1px rgba(0, 0, 0, 0.15);\n",
              "      filter: drop-shadow(0px 1px 2px rgba(0, 0, 0, 0.3));\n",
              "      fill: #FFFFFF;\n",
              "    }\n",
              "  </style>\n",
              "\n",
              "    <script>\n",
              "      const buttonEl =\n",
              "        document.querySelector('#df-94d79723-84b8-41a9-9978-0a2b0f6b4acf button.colab-df-convert');\n",
              "      buttonEl.style.display =\n",
              "        google.colab.kernel.accessAllowed ? 'block' : 'none';\n",
              "\n",
              "      async function convertToInteractive(key) {\n",
              "        const element = document.querySelector('#df-94d79723-84b8-41a9-9978-0a2b0f6b4acf');\n",
              "        const dataTable =\n",
              "          await google.colab.kernel.invokeFunction('convertToInteractive',\n",
              "                                                    [key], {});\n",
              "        if (!dataTable) return;\n",
              "\n",
              "        const docLinkHtml = 'Like what you see? Visit the ' +\n",
              "          '<a target=\"_blank\" href=https://colab.research.google.com/notebooks/data_table.ipynb>data table notebook</a>'\n",
              "          + ' to learn more about interactive tables.';\n",
              "        element.innerHTML = '';\n",
              "        dataTable['output_type'] = 'display_data';\n",
              "        await google.colab.output.renderOutput(dataTable, element);\n",
              "        const docLink = document.createElement('div');\n",
              "        docLink.innerHTML = docLinkHtml;\n",
              "        element.appendChild(docLink);\n",
              "      }\n",
              "    </script>\n",
              "  </div>\n",
              "\n",
              "\n",
              "<div id=\"df-1a4bdaf7-ffee-4a89-be98-effb4d094a25\">\n",
              "  <button class=\"colab-df-quickchart\" onclick=\"quickchart('df-1a4bdaf7-ffee-4a89-be98-effb4d094a25')\"\n",
              "            title=\"Suggest charts\"\n",
              "            style=\"display:none;\">\n",
              "\n",
              "<svg xmlns=\"http://www.w3.org/2000/svg\" height=\"24px\"viewBox=\"0 0 24 24\"\n",
              "     width=\"24px\">\n",
              "    <g>\n",
              "        <path d=\"M19 3H5c-1.1 0-2 .9-2 2v14c0 1.1.9 2 2 2h14c1.1 0 2-.9 2-2V5c0-1.1-.9-2-2-2zM9 17H7v-7h2v7zm4 0h-2V7h2v10zm4 0h-2v-4h2v4z\"/>\n",
              "    </g>\n",
              "</svg>\n",
              "  </button>\n",
              "\n",
              "<style>\n",
              "  .colab-df-quickchart {\n",
              "      --bg-color: #E8F0FE;\n",
              "      --fill-color: #1967D2;\n",
              "      --hover-bg-color: #E2EBFA;\n",
              "      --hover-fill-color: #174EA6;\n",
              "      --disabled-fill-color: #AAA;\n",
              "      --disabled-bg-color: #DDD;\n",
              "  }\n",
              "\n",
              "  [theme=dark] .colab-df-quickchart {\n",
              "      --bg-color: #3B4455;\n",
              "      --fill-color: #D2E3FC;\n",
              "      --hover-bg-color: #434B5C;\n",
              "      --hover-fill-color: #FFFFFF;\n",
              "      --disabled-bg-color: #3B4455;\n",
              "      --disabled-fill-color: #666;\n",
              "  }\n",
              "\n",
              "  .colab-df-quickchart {\n",
              "    background-color: var(--bg-color);\n",
              "    border: none;\n",
              "    border-radius: 50%;\n",
              "    cursor: pointer;\n",
              "    display: none;\n",
              "    fill: var(--fill-color);\n",
              "    height: 32px;\n",
              "    padding: 0;\n",
              "    width: 32px;\n",
              "  }\n",
              "\n",
              "  .colab-df-quickchart:hover {\n",
              "    background-color: var(--hover-bg-color);\n",
              "    box-shadow: 0 1px 2px rgba(60, 64, 67, 0.3), 0 1px 3px 1px rgba(60, 64, 67, 0.15);\n",
              "    fill: var(--button-hover-fill-color);\n",
              "  }\n",
              "\n",
              "  .colab-df-quickchart-complete:disabled,\n",
              "  .colab-df-quickchart-complete:disabled:hover {\n",
              "    background-color: var(--disabled-bg-color);\n",
              "    fill: var(--disabled-fill-color);\n",
              "    box-shadow: none;\n",
              "  }\n",
              "\n",
              "  .colab-df-spinner {\n",
              "    border: 2px solid var(--fill-color);\n",
              "    border-color: transparent;\n",
              "    border-bottom-color: var(--fill-color);\n",
              "    animation:\n",
              "      spin 1s steps(1) infinite;\n",
              "  }\n",
              "\n",
              "  @keyframes spin {\n",
              "    0% {\n",
              "      border-color: transparent;\n",
              "      border-bottom-color: var(--fill-color);\n",
              "      border-left-color: var(--fill-color);\n",
              "    }\n",
              "    20% {\n",
              "      border-color: transparent;\n",
              "      border-left-color: var(--fill-color);\n",
              "      border-top-color: var(--fill-color);\n",
              "    }\n",
              "    30% {\n",
              "      border-color: transparent;\n",
              "      border-left-color: var(--fill-color);\n",
              "      border-top-color: var(--fill-color);\n",
              "      border-right-color: var(--fill-color);\n",
              "    }\n",
              "    40% {\n",
              "      border-color: transparent;\n",
              "      border-right-color: var(--fill-color);\n",
              "      border-top-color: var(--fill-color);\n",
              "    }\n",
              "    60% {\n",
              "      border-color: transparent;\n",
              "      border-right-color: var(--fill-color);\n",
              "    }\n",
              "    80% {\n",
              "      border-color: transparent;\n",
              "      border-right-color: var(--fill-color);\n",
              "      border-bottom-color: var(--fill-color);\n",
              "    }\n",
              "    90% {\n",
              "      border-color: transparent;\n",
              "      border-bottom-color: var(--fill-color);\n",
              "    }\n",
              "  }\n",
              "</style>\n",
              "\n",
              "  <script>\n",
              "    async function quickchart(key) {\n",
              "      const quickchartButtonEl =\n",
              "        document.querySelector('#' + key + ' button');\n",
              "      quickchartButtonEl.disabled = true;  // To prevent multiple clicks.\n",
              "      quickchartButtonEl.classList.add('colab-df-spinner');\n",
              "      try {\n",
              "        const charts = await google.colab.kernel.invokeFunction(\n",
              "            'suggestCharts', [key], {});\n",
              "      } catch (error) {\n",
              "        console.error('Error during call to suggestCharts:', error);\n",
              "      }\n",
              "      quickchartButtonEl.classList.remove('colab-df-spinner');\n",
              "      quickchartButtonEl.classList.add('colab-df-quickchart-complete');\n",
              "    }\n",
              "    (() => {\n",
              "      let quickchartButtonEl =\n",
              "        document.querySelector('#df-1a4bdaf7-ffee-4a89-be98-effb4d094a25 button');\n",
              "      quickchartButtonEl.style.display =\n",
              "        google.colab.kernel.accessAllowed ? 'block' : 'none';\n",
              "    })();\n",
              "  </script>\n",
              "</div>\n",
              "\n",
              "    </div>\n",
              "  </div>\n"
            ],
            "application/vnd.google.colaboratory.intrinsic+json": {
              "type": "dataframe",
              "variable_name": "df_claims2022"
            }
          },
          "metadata": {},
          "execution_count": 8
        }
      ]
    },
    {
      "cell_type": "code",
      "source": [
        "df_agg = df.merge(df_claims2021, how='left', left_on='id', right_on='id').merge(df_claims2022, how='left', left_on='id', right_on='id')#.to_csv('/content/drive/MyDrive/humana_train_agg.csv/humana_train_agg_claims.csv')"
      ],
      "metadata": {
        "id": "eRuc7sRqj7Cl"
      },
      "execution_count": 5,
      "outputs": []
    },
    {
      "cell_type": "code",
      "source": [
        "del df"
      ],
      "metadata": {
        "id": "6cUPvSYRlF2V"
      },
      "execution_count": null,
      "outputs": []
    },
    {
      "cell_type": "code",
      "source": [
        "df_agg.shape"
      ],
      "metadata": {
        "colab": {
          "base_uri": "https://localhost:8080/"
        },
        "id": "j--9T63plLG3",
        "outputId": "116b28c9-cca4-42a6-fa9e-f7e6d4abecb4"
      },
      "execution_count": 6,
      "outputs": [
        {
          "output_type": "execute_result",
          "data": {
            "text/plain": [
              "(1527904, 403)"
            ]
          },
          "metadata": {},
          "execution_count": 6
        }
      ]
    },
    {
      "cell_type": "code",
      "source": [
        "lst3 = [x for x in df_agg.columns if x[:4]== '2021' or x[:4]== '2022']\n",
        "dict_impute = dict.fromkeys(lst3, 0)\n",
        "dict_impute\n",
        "\n",
        "\n",
        "\n"
      ],
      "metadata": {
        "colab": {
          "base_uri": "https://localhost:8080/"
        },
        "id": "YK70X_HGlOIw",
        "outputId": "b53b2bd1-04bc-4c08-b943-b96b6698a744",
        "collapsed": true
      },
      "execution_count": 7,
      "outputs": [
        {
          "output_type": "execute_result",
          "data": {
            "text/plain": [
              "{'2021_annual_wellness': 0,\n",
              " '2021_clm_unique_key': 0,\n",
              " '2021_podiatrist_visit': 0,\n",
              " '2021_pcp_visit': 0,\n",
              " '2021_fqhc_visit': 0,\n",
              " '2021_cardiologist_visit': 0,\n",
              " '2021_telehealth': 0,\n",
              " '2021_urgent_care_visit': 0,\n",
              " '2021_gastroenterologist_visit': 0,\n",
              " '2021_oncolologist_visit': 0,\n",
              " '2021_pulmonologist_visit': 0,\n",
              " '2021_preventative_visit': 0,\n",
              " '2021_nephroloogist_visit': 0,\n",
              " '2021_orthopedist_visit': 0,\n",
              " '2021_ophthalmologist_visit': 0,\n",
              " '2021_humana_paf': 0,\n",
              " '2021_optometrist_visit': 0,\n",
              " '2021_endocrinologist_visit': 0,\n",
              " '2021_radiologist_visit': 0,\n",
              " '2021_physical_therapist_visit': 0,\n",
              " '2021_comp_physical_exam': 0,\n",
              " '2021_er_visit': 0,\n",
              " '2021_obgyn_visit': 0,\n",
              " '2022_annual_wellness': 0,\n",
              " '2022_clm_unique_key': 0,\n",
              " '2022_podiatrist_visit': 0,\n",
              " '2022_pcp_visit': 0,\n",
              " '2022_fqhc_visit': 0,\n",
              " '2022_cardiologist_visit': 0,\n",
              " '2022_telehealth': 0,\n",
              " '2022_urgent_care_visit': 0,\n",
              " '2022_gastroenterologist_visit': 0,\n",
              " '2022_oncolologist_visit': 0,\n",
              " '2022_pulmonologist_visit': 0,\n",
              " '2022_preventative_visit': 0,\n",
              " '2022_nephroloogist_visit': 0,\n",
              " '2022_orthopedist_visit': 0,\n",
              " '2022_ophthalmologist_visit': 0,\n",
              " '2022_humana_paf': 0,\n",
              " '2022_optometrist_visit': 0,\n",
              " '2022_endocrinologist_visit': 0,\n",
              " '2022_radiologist_visit': 0,\n",
              " '2022_physical_therapist_visit': 0,\n",
              " '2022_comp_physical_exam': 0,\n",
              " '2022_er_visit': 0,\n",
              " '2022_obgyn_visit': 0}"
            ]
          },
          "metadata": {},
          "execution_count": 7
        }
      ]
    },
    {
      "cell_type": "code",
      "source": [
        "df_agg.fillna(dict_impute, inplace=True)"
      ],
      "metadata": {
        "id": "FD3Tag4PpKw0"
      },
      "execution_count": 8,
      "outputs": []
    },
    {
      "cell_type": "code",
      "source": [
        "lst=list(set([x.replace('_comp_cnt', '') for x in df_agg.columns  if x[-9:]=='_comp_cnt']))\n",
        "#lst\n",
        "for i in lst:\n",
        "  df_agg[i+'_ratio']=df_agg[i+'_comp_cnt']/df_agg[i+'_elig_cnt']"
      ],
      "metadata": {
        "id": "v9HNWw1X6zBX"
      },
      "execution_count": 9,
      "outputs": []
    },
    {
      "cell_type": "code",
      "source": [
        "lst2 = [x.replace('2021_', '') for x in df_agg.columns if x[:4]== '2021']\n",
        "for i in lst2:\n",
        "  df_agg[i+'_ratio']=df_agg['2022_'+i]/df_agg['2021_'+i]"
      ],
      "metadata": {
        "id": "8J9sWmhZmrsw"
      },
      "execution_count": 10,
      "outputs": []
    },
    {
      "cell_type": "code",
      "source": [
        "df_agg.head()"
      ],
      "metadata": {
        "colab": {
          "base_uri": "https://localhost:8080/",
          "height": 255
        },
        "id": "rY6e3J5Hqluj",
        "outputId": "a7a8f826-53b3-4366-abbf-3bbc84e47fd7"
      },
      "execution_count": null,
      "outputs": [
        {
          "output_type": "execute_result",
          "data": {
            "text/plain": [
              "          id  preventive_visit_gap_ind  cms_frailty_ind  \\\n",
              "0  1000073.0                       0.0              0.0   \n",
              "1  1000096.0                       0.0              0.0   \n",
              "2  1000113.0                       1.0              0.0   \n",
              "3  1000240.0                       1.0              0.0   \n",
              "4  1000369.0                       1.0              0.0   \n",
              "\n",
              "   cms_tot_ma_payment_amt  cms_tot_partd_payment_amt  atlas_recfacpth14  \\\n",
              "0                  481.53                       0.00           0.142282   \n",
              "1                 1017.22                      84.62           0.120904   \n",
              "2                  758.85                       0.00           0.093059   \n",
              "3                  377.92                     245.94           0.186335   \n",
              "4                  809.89                      72.90           0.080929   \n",
              "\n",
              "   atlas_ffrpth14  atlas_fsrpth14  atlas_grocpth14  atlas_povertyallagespct  \\\n",
              "0        0.673468        1.380135         0.237137                     11.6   \n",
              "1        0.785878        1.632209         0.211583                     22.4   \n",
              "2        0.645209        0.763084         0.155098                     12.9   \n",
              "3        0.745338        0.790316         0.115656                      8.8   \n",
              "4        0.526039        0.930684         0.222555                     15.2   \n",
              "\n",
              "   ...  orthopedist_visit_ratio  ophthalmologist_visit_ratio  \\\n",
              "0  ...                      NaN                          NaN   \n",
              "1  ...                      4.0                          0.0   \n",
              "2  ...                      NaN                          0.0   \n",
              "3  ...                      NaN                          NaN   \n",
              "4  ...                      NaN                          inf   \n",
              "\n",
              "   humana_paf_ratio  optometrist_visit_ratio  endocrinologist_visit_ratio  \\\n",
              "0               NaN                      inf                          NaN   \n",
              "1               NaN                 0.333333                          NaN   \n",
              "2               NaN                 0.000000                          NaN   \n",
              "3               NaN                      NaN                          NaN   \n",
              "4               NaN                      NaN                          inf   \n",
              "\n",
              "   radiologist_visit_ratio  physical_therapist_visit_ratio  \\\n",
              "0                      NaN                             NaN   \n",
              "1                      inf                             NaN   \n",
              "2                      NaN                             NaN   \n",
              "3                      NaN                             NaN   \n",
              "4                      NaN                             NaN   \n",
              "\n",
              "   comp_physical_exam_ratio  er_visit_ratio  obgyn_visit_ratio  \n",
              "0                       NaN             NaN                NaN  \n",
              "1                       NaN        0.666667                NaN  \n",
              "2                       NaN             inf                NaN  \n",
              "3                       NaN             NaN                NaN  \n",
              "4                       NaN        0.000000                NaN  \n",
              "\n",
              "[5 rows x 467 columns]"
            ],
            "text/html": [
              "\n",
              "  <div id=\"df-194b7f8a-ea33-4f17-a89a-a148fbaf1280\" class=\"colab-df-container\">\n",
              "    <div>\n",
              "<style scoped>\n",
              "    .dataframe tbody tr th:only-of-type {\n",
              "        vertical-align: middle;\n",
              "    }\n",
              "\n",
              "    .dataframe tbody tr th {\n",
              "        vertical-align: top;\n",
              "    }\n",
              "\n",
              "    .dataframe thead th {\n",
              "        text-align: right;\n",
              "    }\n",
              "</style>\n",
              "<table border=\"1\" class=\"dataframe\">\n",
              "  <thead>\n",
              "    <tr style=\"text-align: right;\">\n",
              "      <th></th>\n",
              "      <th>id</th>\n",
              "      <th>preventive_visit_gap_ind</th>\n",
              "      <th>cms_frailty_ind</th>\n",
              "      <th>cms_tot_ma_payment_amt</th>\n",
              "      <th>cms_tot_partd_payment_amt</th>\n",
              "      <th>atlas_recfacpth14</th>\n",
              "      <th>atlas_ffrpth14</th>\n",
              "      <th>atlas_fsrpth14</th>\n",
              "      <th>atlas_grocpth14</th>\n",
              "      <th>atlas_povertyallagespct</th>\n",
              "      <th>...</th>\n",
              "      <th>orthopedist_visit_ratio</th>\n",
              "      <th>ophthalmologist_visit_ratio</th>\n",
              "      <th>humana_paf_ratio</th>\n",
              "      <th>optometrist_visit_ratio</th>\n",
              "      <th>endocrinologist_visit_ratio</th>\n",
              "      <th>radiologist_visit_ratio</th>\n",
              "      <th>physical_therapist_visit_ratio</th>\n",
              "      <th>comp_physical_exam_ratio</th>\n",
              "      <th>er_visit_ratio</th>\n",
              "      <th>obgyn_visit_ratio</th>\n",
              "    </tr>\n",
              "  </thead>\n",
              "  <tbody>\n",
              "    <tr>\n",
              "      <th>0</th>\n",
              "      <td>1000073.0</td>\n",
              "      <td>0.0</td>\n",
              "      <td>0.0</td>\n",
              "      <td>481.53</td>\n",
              "      <td>0.00</td>\n",
              "      <td>0.142282</td>\n",
              "      <td>0.673468</td>\n",
              "      <td>1.380135</td>\n",
              "      <td>0.237137</td>\n",
              "      <td>11.6</td>\n",
              "      <td>...</td>\n",
              "      <td>NaN</td>\n",
              "      <td>NaN</td>\n",
              "      <td>NaN</td>\n",
              "      <td>inf</td>\n",
              "      <td>NaN</td>\n",
              "      <td>NaN</td>\n",
              "      <td>NaN</td>\n",
              "      <td>NaN</td>\n",
              "      <td>NaN</td>\n",
              "      <td>NaN</td>\n",
              "    </tr>\n",
              "    <tr>\n",
              "      <th>1</th>\n",
              "      <td>1000096.0</td>\n",
              "      <td>0.0</td>\n",
              "      <td>0.0</td>\n",
              "      <td>1017.22</td>\n",
              "      <td>84.62</td>\n",
              "      <td>0.120904</td>\n",
              "      <td>0.785878</td>\n",
              "      <td>1.632209</td>\n",
              "      <td>0.211583</td>\n",
              "      <td>22.4</td>\n",
              "      <td>...</td>\n",
              "      <td>4.0</td>\n",
              "      <td>0.0</td>\n",
              "      <td>NaN</td>\n",
              "      <td>0.333333</td>\n",
              "      <td>NaN</td>\n",
              "      <td>inf</td>\n",
              "      <td>NaN</td>\n",
              "      <td>NaN</td>\n",
              "      <td>0.666667</td>\n",
              "      <td>NaN</td>\n",
              "    </tr>\n",
              "    <tr>\n",
              "      <th>2</th>\n",
              "      <td>1000113.0</td>\n",
              "      <td>1.0</td>\n",
              "      <td>0.0</td>\n",
              "      <td>758.85</td>\n",
              "      <td>0.00</td>\n",
              "      <td>0.093059</td>\n",
              "      <td>0.645209</td>\n",
              "      <td>0.763084</td>\n",
              "      <td>0.155098</td>\n",
              "      <td>12.9</td>\n",
              "      <td>...</td>\n",
              "      <td>NaN</td>\n",
              "      <td>0.0</td>\n",
              "      <td>NaN</td>\n",
              "      <td>0.000000</td>\n",
              "      <td>NaN</td>\n",
              "      <td>NaN</td>\n",
              "      <td>NaN</td>\n",
              "      <td>NaN</td>\n",
              "      <td>inf</td>\n",
              "      <td>NaN</td>\n",
              "    </tr>\n",
              "    <tr>\n",
              "      <th>3</th>\n",
              "      <td>1000240.0</td>\n",
              "      <td>1.0</td>\n",
              "      <td>0.0</td>\n",
              "      <td>377.92</td>\n",
              "      <td>245.94</td>\n",
              "      <td>0.186335</td>\n",
              "      <td>0.745338</td>\n",
              "      <td>0.790316</td>\n",
              "      <td>0.115656</td>\n",
              "      <td>8.8</td>\n",
              "      <td>...</td>\n",
              "      <td>NaN</td>\n",
              "      <td>NaN</td>\n",
              "      <td>NaN</td>\n",
              "      <td>NaN</td>\n",
              "      <td>NaN</td>\n",
              "      <td>NaN</td>\n",
              "      <td>NaN</td>\n",
              "      <td>NaN</td>\n",
              "      <td>NaN</td>\n",
              "      <td>NaN</td>\n",
              "    </tr>\n",
              "    <tr>\n",
              "      <th>4</th>\n",
              "      <td>1000369.0</td>\n",
              "      <td>1.0</td>\n",
              "      <td>0.0</td>\n",
              "      <td>809.89</td>\n",
              "      <td>72.90</td>\n",
              "      <td>0.080929</td>\n",
              "      <td>0.526039</td>\n",
              "      <td>0.930684</td>\n",
              "      <td>0.222555</td>\n",
              "      <td>15.2</td>\n",
              "      <td>...</td>\n",
              "      <td>NaN</td>\n",
              "      <td>inf</td>\n",
              "      <td>NaN</td>\n",
              "      <td>NaN</td>\n",
              "      <td>inf</td>\n",
              "      <td>NaN</td>\n",
              "      <td>NaN</td>\n",
              "      <td>NaN</td>\n",
              "      <td>0.000000</td>\n",
              "      <td>NaN</td>\n",
              "    </tr>\n",
              "  </tbody>\n",
              "</table>\n",
              "<p>5 rows × 467 columns</p>\n",
              "</div>\n",
              "    <div class=\"colab-df-buttons\">\n",
              "\n",
              "  <div class=\"colab-df-container\">\n",
              "    <button class=\"colab-df-convert\" onclick=\"convertToInteractive('df-194b7f8a-ea33-4f17-a89a-a148fbaf1280')\"\n",
              "            title=\"Convert this dataframe to an interactive table.\"\n",
              "            style=\"display:none;\">\n",
              "\n",
              "  <svg xmlns=\"http://www.w3.org/2000/svg\" height=\"24px\" viewBox=\"0 -960 960 960\">\n",
              "    <path d=\"M120-120v-720h720v720H120Zm60-500h600v-160H180v160Zm220 220h160v-160H400v160Zm0 220h160v-160H400v160ZM180-400h160v-160H180v160Zm440 0h160v-160H620v160ZM180-180h160v-160H180v160Zm440 0h160v-160H620v160Z\"/>\n",
              "  </svg>\n",
              "    </button>\n",
              "\n",
              "  <style>\n",
              "    .colab-df-container {\n",
              "      display:flex;\n",
              "      gap: 12px;\n",
              "    }\n",
              "\n",
              "    .colab-df-convert {\n",
              "      background-color: #E8F0FE;\n",
              "      border: none;\n",
              "      border-radius: 50%;\n",
              "      cursor: pointer;\n",
              "      display: none;\n",
              "      fill: #1967D2;\n",
              "      height: 32px;\n",
              "      padding: 0 0 0 0;\n",
              "      width: 32px;\n",
              "    }\n",
              "\n",
              "    .colab-df-convert:hover {\n",
              "      background-color: #E2EBFA;\n",
              "      box-shadow: 0px 1px 2px rgba(60, 64, 67, 0.3), 0px 1px 3px 1px rgba(60, 64, 67, 0.15);\n",
              "      fill: #174EA6;\n",
              "    }\n",
              "\n",
              "    .colab-df-buttons div {\n",
              "      margin-bottom: 4px;\n",
              "    }\n",
              "\n",
              "    [theme=dark] .colab-df-convert {\n",
              "      background-color: #3B4455;\n",
              "      fill: #D2E3FC;\n",
              "    }\n",
              "\n",
              "    [theme=dark] .colab-df-convert:hover {\n",
              "      background-color: #434B5C;\n",
              "      box-shadow: 0px 1px 3px 1px rgba(0, 0, 0, 0.15);\n",
              "      filter: drop-shadow(0px 1px 2px rgba(0, 0, 0, 0.3));\n",
              "      fill: #FFFFFF;\n",
              "    }\n",
              "  </style>\n",
              "\n",
              "    <script>\n",
              "      const buttonEl =\n",
              "        document.querySelector('#df-194b7f8a-ea33-4f17-a89a-a148fbaf1280 button.colab-df-convert');\n",
              "      buttonEl.style.display =\n",
              "        google.colab.kernel.accessAllowed ? 'block' : 'none';\n",
              "\n",
              "      async function convertToInteractive(key) {\n",
              "        const element = document.querySelector('#df-194b7f8a-ea33-4f17-a89a-a148fbaf1280');\n",
              "        const dataTable =\n",
              "          await google.colab.kernel.invokeFunction('convertToInteractive',\n",
              "                                                    [key], {});\n",
              "        if (!dataTable) return;\n",
              "\n",
              "        const docLinkHtml = 'Like what you see? Visit the ' +\n",
              "          '<a target=\"_blank\" href=https://colab.research.google.com/notebooks/data_table.ipynb>data table notebook</a>'\n",
              "          + ' to learn more about interactive tables.';\n",
              "        element.innerHTML = '';\n",
              "        dataTable['output_type'] = 'display_data';\n",
              "        await google.colab.output.renderOutput(dataTable, element);\n",
              "        const docLink = document.createElement('div');\n",
              "        docLink.innerHTML = docLinkHtml;\n",
              "        element.appendChild(docLink);\n",
              "      }\n",
              "    </script>\n",
              "  </div>\n",
              "\n",
              "\n",
              "<div id=\"df-3b234df8-9157-48e7-9d5f-b1036f140531\">\n",
              "  <button class=\"colab-df-quickchart\" onclick=\"quickchart('df-3b234df8-9157-48e7-9d5f-b1036f140531')\"\n",
              "            title=\"Suggest charts\"\n",
              "            style=\"display:none;\">\n",
              "\n",
              "<svg xmlns=\"http://www.w3.org/2000/svg\" height=\"24px\"viewBox=\"0 0 24 24\"\n",
              "     width=\"24px\">\n",
              "    <g>\n",
              "        <path d=\"M19 3H5c-1.1 0-2 .9-2 2v14c0 1.1.9 2 2 2h14c1.1 0 2-.9 2-2V5c0-1.1-.9-2-2-2zM9 17H7v-7h2v7zm4 0h-2V7h2v10zm4 0h-2v-4h2v4z\"/>\n",
              "    </g>\n",
              "</svg>\n",
              "  </button>\n",
              "\n",
              "<style>\n",
              "  .colab-df-quickchart {\n",
              "      --bg-color: #E8F0FE;\n",
              "      --fill-color: #1967D2;\n",
              "      --hover-bg-color: #E2EBFA;\n",
              "      --hover-fill-color: #174EA6;\n",
              "      --disabled-fill-color: #AAA;\n",
              "      --disabled-bg-color: #DDD;\n",
              "  }\n",
              "\n",
              "  [theme=dark] .colab-df-quickchart {\n",
              "      --bg-color: #3B4455;\n",
              "      --fill-color: #D2E3FC;\n",
              "      --hover-bg-color: #434B5C;\n",
              "      --hover-fill-color: #FFFFFF;\n",
              "      --disabled-bg-color: #3B4455;\n",
              "      --disabled-fill-color: #666;\n",
              "  }\n",
              "\n",
              "  .colab-df-quickchart {\n",
              "    background-color: var(--bg-color);\n",
              "    border: none;\n",
              "    border-radius: 50%;\n",
              "    cursor: pointer;\n",
              "    display: none;\n",
              "    fill: var(--fill-color);\n",
              "    height: 32px;\n",
              "    padding: 0;\n",
              "    width: 32px;\n",
              "  }\n",
              "\n",
              "  .colab-df-quickchart:hover {\n",
              "    background-color: var(--hover-bg-color);\n",
              "    box-shadow: 0 1px 2px rgba(60, 64, 67, 0.3), 0 1px 3px 1px rgba(60, 64, 67, 0.15);\n",
              "    fill: var(--button-hover-fill-color);\n",
              "  }\n",
              "\n",
              "  .colab-df-quickchart-complete:disabled,\n",
              "  .colab-df-quickchart-complete:disabled:hover {\n",
              "    background-color: var(--disabled-bg-color);\n",
              "    fill: var(--disabled-fill-color);\n",
              "    box-shadow: none;\n",
              "  }\n",
              "\n",
              "  .colab-df-spinner {\n",
              "    border: 2px solid var(--fill-color);\n",
              "    border-color: transparent;\n",
              "    border-bottom-color: var(--fill-color);\n",
              "    animation:\n",
              "      spin 1s steps(1) infinite;\n",
              "  }\n",
              "\n",
              "  @keyframes spin {\n",
              "    0% {\n",
              "      border-color: transparent;\n",
              "      border-bottom-color: var(--fill-color);\n",
              "      border-left-color: var(--fill-color);\n",
              "    }\n",
              "    20% {\n",
              "      border-color: transparent;\n",
              "      border-left-color: var(--fill-color);\n",
              "      border-top-color: var(--fill-color);\n",
              "    }\n",
              "    30% {\n",
              "      border-color: transparent;\n",
              "      border-left-color: var(--fill-color);\n",
              "      border-top-color: var(--fill-color);\n",
              "      border-right-color: var(--fill-color);\n",
              "    }\n",
              "    40% {\n",
              "      border-color: transparent;\n",
              "      border-right-color: var(--fill-color);\n",
              "      border-top-color: var(--fill-color);\n",
              "    }\n",
              "    60% {\n",
              "      border-color: transparent;\n",
              "      border-right-color: var(--fill-color);\n",
              "    }\n",
              "    80% {\n",
              "      border-color: transparent;\n",
              "      border-right-color: var(--fill-color);\n",
              "      border-bottom-color: var(--fill-color);\n",
              "    }\n",
              "    90% {\n",
              "      border-color: transparent;\n",
              "      border-bottom-color: var(--fill-color);\n",
              "    }\n",
              "  }\n",
              "</style>\n",
              "\n",
              "  <script>\n",
              "    async function quickchart(key) {\n",
              "      const quickchartButtonEl =\n",
              "        document.querySelector('#' + key + ' button');\n",
              "      quickchartButtonEl.disabled = true;  // To prevent multiple clicks.\n",
              "      quickchartButtonEl.classList.add('colab-df-spinner');\n",
              "      try {\n",
              "        const charts = await google.colab.kernel.invokeFunction(\n",
              "            'suggestCharts', [key], {});\n",
              "      } catch (error) {\n",
              "        console.error('Error during call to suggestCharts:', error);\n",
              "      }\n",
              "      quickchartButtonEl.classList.remove('colab-df-spinner');\n",
              "      quickchartButtonEl.classList.add('colab-df-quickchart-complete');\n",
              "    }\n",
              "    (() => {\n",
              "      let quickchartButtonEl =\n",
              "        document.querySelector('#df-3b234df8-9157-48e7-9d5f-b1036f140531 button');\n",
              "      quickchartButtonEl.style.display =\n",
              "        google.colab.kernel.accessAllowed ? 'block' : 'none';\n",
              "    })();\n",
              "  </script>\n",
              "</div>\n",
              "\n",
              "    </div>\n",
              "  </div>\n"
            ],
            "application/vnd.google.colaboratory.intrinsic+json": {
              "type": "dataframe",
              "variable_name": "df_agg"
            }
          },
          "metadata": {},
          "execution_count": 16
        }
      ]
    },
    {
      "cell_type": "code",
      "source": [
        "for i in [x for x in df_agg.columns if x.endswith('_ratio') and not x.startswith('rwjf')]:\n",
        "  df_agg[i]=df_agg[i].fillna(0)"
      ],
      "metadata": {
        "id": "nKNVvCeDrNHL"
      },
      "execution_count": 11,
      "outputs": []
    },
    {
      "cell_type": "code",
      "source": [
        "for i in [x for x in df_agg.columns if x.endswith('_ratio') and not x.startswith('rwjf')]:\n",
        "  df_agg[i]=df_agg[i].replace(np.inf, -1)"
      ],
      "metadata": {
        "id": "4qm7dGzKvzlQ"
      },
      "execution_count": 12,
      "outputs": []
    },
    {
      "cell_type": "code",
      "source": [
        "df_agg.head()"
      ],
      "metadata": {
        "colab": {
          "base_uri": "https://localhost:8080/",
          "height": 255
        },
        "id": "XYgxjLirxiC3",
        "outputId": "ba62bd64-ae87-4a8f-cbf6-c613bfcad201"
      },
      "execution_count": null,
      "outputs": [
        {
          "output_type": "execute_result",
          "data": {
            "text/plain": [
              "          id  preventive_visit_gap_ind  cms_frailty_ind  \\\n",
              "0  1000073.0                       0.0              0.0   \n",
              "1  1000096.0                       0.0              0.0   \n",
              "2  1000113.0                       1.0              0.0   \n",
              "3  1000240.0                       1.0              0.0   \n",
              "4  1000369.0                       1.0              0.0   \n",
              "\n",
              "   cms_tot_ma_payment_amt  cms_tot_partd_payment_amt  atlas_recfacpth14  \\\n",
              "0                  481.53                       0.00           0.142282   \n",
              "1                 1017.22                      84.62           0.120904   \n",
              "2                  758.85                       0.00           0.093059   \n",
              "3                  377.92                     245.94           0.186335   \n",
              "4                  809.89                      72.90           0.080929   \n",
              "\n",
              "   atlas_ffrpth14  atlas_fsrpth14  atlas_grocpth14  atlas_povertyallagespct  \\\n",
              "0        0.673468        1.380135         0.237137                     11.6   \n",
              "1        0.785878        1.632209         0.211583                     22.4   \n",
              "2        0.645209        0.763084         0.155098                     12.9   \n",
              "3        0.745338        0.790316         0.115656                      8.8   \n",
              "4        0.526039        0.930684         0.222555                     15.2   \n",
              "\n",
              "   ...  orthopedist_visit_ratio  ophthalmologist_visit_ratio  \\\n",
              "0  ...                      0.0                          0.0   \n",
              "1  ...                      4.0                          0.0   \n",
              "2  ...                      0.0                          0.0   \n",
              "3  ...                      0.0                          0.0   \n",
              "4  ...                      0.0                         -1.0   \n",
              "\n",
              "   humana_paf_ratio  optometrist_visit_ratio  endocrinologist_visit_ratio  \\\n",
              "0               0.0                -1.000000                          0.0   \n",
              "1               0.0                 0.333333                          0.0   \n",
              "2               0.0                 0.000000                          0.0   \n",
              "3               0.0                 0.000000                          0.0   \n",
              "4               0.0                 0.000000                         -1.0   \n",
              "\n",
              "   radiologist_visit_ratio  physical_therapist_visit_ratio  \\\n",
              "0                      0.0                             0.0   \n",
              "1                     -1.0                             0.0   \n",
              "2                      0.0                             0.0   \n",
              "3                      0.0                             0.0   \n",
              "4                      0.0                             0.0   \n",
              "\n",
              "   comp_physical_exam_ratio  er_visit_ratio  obgyn_visit_ratio  \n",
              "0                       0.0        0.000000                0.0  \n",
              "1                       0.0        0.666667                0.0  \n",
              "2                       0.0       -1.000000                0.0  \n",
              "3                       0.0        0.000000                0.0  \n",
              "4                       0.0        0.000000                0.0  \n",
              "\n",
              "[5 rows x 467 columns]"
            ],
            "text/html": [
              "\n",
              "  <div id=\"df-cefcc660-6726-4fcf-82d9-c6a65e167dc4\" class=\"colab-df-container\">\n",
              "    <div>\n",
              "<style scoped>\n",
              "    .dataframe tbody tr th:only-of-type {\n",
              "        vertical-align: middle;\n",
              "    }\n",
              "\n",
              "    .dataframe tbody tr th {\n",
              "        vertical-align: top;\n",
              "    }\n",
              "\n",
              "    .dataframe thead th {\n",
              "        text-align: right;\n",
              "    }\n",
              "</style>\n",
              "<table border=\"1\" class=\"dataframe\">\n",
              "  <thead>\n",
              "    <tr style=\"text-align: right;\">\n",
              "      <th></th>\n",
              "      <th>id</th>\n",
              "      <th>preventive_visit_gap_ind</th>\n",
              "      <th>cms_frailty_ind</th>\n",
              "      <th>cms_tot_ma_payment_amt</th>\n",
              "      <th>cms_tot_partd_payment_amt</th>\n",
              "      <th>atlas_recfacpth14</th>\n",
              "      <th>atlas_ffrpth14</th>\n",
              "      <th>atlas_fsrpth14</th>\n",
              "      <th>atlas_grocpth14</th>\n",
              "      <th>atlas_povertyallagespct</th>\n",
              "      <th>...</th>\n",
              "      <th>orthopedist_visit_ratio</th>\n",
              "      <th>ophthalmologist_visit_ratio</th>\n",
              "      <th>humana_paf_ratio</th>\n",
              "      <th>optometrist_visit_ratio</th>\n",
              "      <th>endocrinologist_visit_ratio</th>\n",
              "      <th>radiologist_visit_ratio</th>\n",
              "      <th>physical_therapist_visit_ratio</th>\n",
              "      <th>comp_physical_exam_ratio</th>\n",
              "      <th>er_visit_ratio</th>\n",
              "      <th>obgyn_visit_ratio</th>\n",
              "    </tr>\n",
              "  </thead>\n",
              "  <tbody>\n",
              "    <tr>\n",
              "      <th>0</th>\n",
              "      <td>1000073.0</td>\n",
              "      <td>0.0</td>\n",
              "      <td>0.0</td>\n",
              "      <td>481.53</td>\n",
              "      <td>0.00</td>\n",
              "      <td>0.142282</td>\n",
              "      <td>0.673468</td>\n",
              "      <td>1.380135</td>\n",
              "      <td>0.237137</td>\n",
              "      <td>11.6</td>\n",
              "      <td>...</td>\n",
              "      <td>0.0</td>\n",
              "      <td>0.0</td>\n",
              "      <td>0.0</td>\n",
              "      <td>-1.000000</td>\n",
              "      <td>0.0</td>\n",
              "      <td>0.0</td>\n",
              "      <td>0.0</td>\n",
              "      <td>0.0</td>\n",
              "      <td>0.000000</td>\n",
              "      <td>0.0</td>\n",
              "    </tr>\n",
              "    <tr>\n",
              "      <th>1</th>\n",
              "      <td>1000096.0</td>\n",
              "      <td>0.0</td>\n",
              "      <td>0.0</td>\n",
              "      <td>1017.22</td>\n",
              "      <td>84.62</td>\n",
              "      <td>0.120904</td>\n",
              "      <td>0.785878</td>\n",
              "      <td>1.632209</td>\n",
              "      <td>0.211583</td>\n",
              "      <td>22.4</td>\n",
              "      <td>...</td>\n",
              "      <td>4.0</td>\n",
              "      <td>0.0</td>\n",
              "      <td>0.0</td>\n",
              "      <td>0.333333</td>\n",
              "      <td>0.0</td>\n",
              "      <td>-1.0</td>\n",
              "      <td>0.0</td>\n",
              "      <td>0.0</td>\n",
              "      <td>0.666667</td>\n",
              "      <td>0.0</td>\n",
              "    </tr>\n",
              "    <tr>\n",
              "      <th>2</th>\n",
              "      <td>1000113.0</td>\n",
              "      <td>1.0</td>\n",
              "      <td>0.0</td>\n",
              "      <td>758.85</td>\n",
              "      <td>0.00</td>\n",
              "      <td>0.093059</td>\n",
              "      <td>0.645209</td>\n",
              "      <td>0.763084</td>\n",
              "      <td>0.155098</td>\n",
              "      <td>12.9</td>\n",
              "      <td>...</td>\n",
              "      <td>0.0</td>\n",
              "      <td>0.0</td>\n",
              "      <td>0.0</td>\n",
              "      <td>0.000000</td>\n",
              "      <td>0.0</td>\n",
              "      <td>0.0</td>\n",
              "      <td>0.0</td>\n",
              "      <td>0.0</td>\n",
              "      <td>-1.000000</td>\n",
              "      <td>0.0</td>\n",
              "    </tr>\n",
              "    <tr>\n",
              "      <th>3</th>\n",
              "      <td>1000240.0</td>\n",
              "      <td>1.0</td>\n",
              "      <td>0.0</td>\n",
              "      <td>377.92</td>\n",
              "      <td>245.94</td>\n",
              "      <td>0.186335</td>\n",
              "      <td>0.745338</td>\n",
              "      <td>0.790316</td>\n",
              "      <td>0.115656</td>\n",
              "      <td>8.8</td>\n",
              "      <td>...</td>\n",
              "      <td>0.0</td>\n",
              "      <td>0.0</td>\n",
              "      <td>0.0</td>\n",
              "      <td>0.000000</td>\n",
              "      <td>0.0</td>\n",
              "      <td>0.0</td>\n",
              "      <td>0.0</td>\n",
              "      <td>0.0</td>\n",
              "      <td>0.000000</td>\n",
              "      <td>0.0</td>\n",
              "    </tr>\n",
              "    <tr>\n",
              "      <th>4</th>\n",
              "      <td>1000369.0</td>\n",
              "      <td>1.0</td>\n",
              "      <td>0.0</td>\n",
              "      <td>809.89</td>\n",
              "      <td>72.90</td>\n",
              "      <td>0.080929</td>\n",
              "      <td>0.526039</td>\n",
              "      <td>0.930684</td>\n",
              "      <td>0.222555</td>\n",
              "      <td>15.2</td>\n",
              "      <td>...</td>\n",
              "      <td>0.0</td>\n",
              "      <td>-1.0</td>\n",
              "      <td>0.0</td>\n",
              "      <td>0.000000</td>\n",
              "      <td>-1.0</td>\n",
              "      <td>0.0</td>\n",
              "      <td>0.0</td>\n",
              "      <td>0.0</td>\n",
              "      <td>0.000000</td>\n",
              "      <td>0.0</td>\n",
              "    </tr>\n",
              "  </tbody>\n",
              "</table>\n",
              "<p>5 rows × 467 columns</p>\n",
              "</div>\n",
              "    <div class=\"colab-df-buttons\">\n",
              "\n",
              "  <div class=\"colab-df-container\">\n",
              "    <button class=\"colab-df-convert\" onclick=\"convertToInteractive('df-cefcc660-6726-4fcf-82d9-c6a65e167dc4')\"\n",
              "            title=\"Convert this dataframe to an interactive table.\"\n",
              "            style=\"display:none;\">\n",
              "\n",
              "  <svg xmlns=\"http://www.w3.org/2000/svg\" height=\"24px\" viewBox=\"0 -960 960 960\">\n",
              "    <path d=\"M120-120v-720h720v720H120Zm60-500h600v-160H180v160Zm220 220h160v-160H400v160Zm0 220h160v-160H400v160ZM180-400h160v-160H180v160Zm440 0h160v-160H620v160ZM180-180h160v-160H180v160Zm440 0h160v-160H620v160Z\"/>\n",
              "  </svg>\n",
              "    </button>\n",
              "\n",
              "  <style>\n",
              "    .colab-df-container {\n",
              "      display:flex;\n",
              "      gap: 12px;\n",
              "    }\n",
              "\n",
              "    .colab-df-convert {\n",
              "      background-color: #E8F0FE;\n",
              "      border: none;\n",
              "      border-radius: 50%;\n",
              "      cursor: pointer;\n",
              "      display: none;\n",
              "      fill: #1967D2;\n",
              "      height: 32px;\n",
              "      padding: 0 0 0 0;\n",
              "      width: 32px;\n",
              "    }\n",
              "\n",
              "    .colab-df-convert:hover {\n",
              "      background-color: #E2EBFA;\n",
              "      box-shadow: 0px 1px 2px rgba(60, 64, 67, 0.3), 0px 1px 3px 1px rgba(60, 64, 67, 0.15);\n",
              "      fill: #174EA6;\n",
              "    }\n",
              "\n",
              "    .colab-df-buttons div {\n",
              "      margin-bottom: 4px;\n",
              "    }\n",
              "\n",
              "    [theme=dark] .colab-df-convert {\n",
              "      background-color: #3B4455;\n",
              "      fill: #D2E3FC;\n",
              "    }\n",
              "\n",
              "    [theme=dark] .colab-df-convert:hover {\n",
              "      background-color: #434B5C;\n",
              "      box-shadow: 0px 1px 3px 1px rgba(0, 0, 0, 0.15);\n",
              "      filter: drop-shadow(0px 1px 2px rgba(0, 0, 0, 0.3));\n",
              "      fill: #FFFFFF;\n",
              "    }\n",
              "  </style>\n",
              "\n",
              "    <script>\n",
              "      const buttonEl =\n",
              "        document.querySelector('#df-cefcc660-6726-4fcf-82d9-c6a65e167dc4 button.colab-df-convert');\n",
              "      buttonEl.style.display =\n",
              "        google.colab.kernel.accessAllowed ? 'block' : 'none';\n",
              "\n",
              "      async function convertToInteractive(key) {\n",
              "        const element = document.querySelector('#df-cefcc660-6726-4fcf-82d9-c6a65e167dc4');\n",
              "        const dataTable =\n",
              "          await google.colab.kernel.invokeFunction('convertToInteractive',\n",
              "                                                    [key], {});\n",
              "        if (!dataTable) return;\n",
              "\n",
              "        const docLinkHtml = 'Like what you see? Visit the ' +\n",
              "          '<a target=\"_blank\" href=https://colab.research.google.com/notebooks/data_table.ipynb>data table notebook</a>'\n",
              "          + ' to learn more about interactive tables.';\n",
              "        element.innerHTML = '';\n",
              "        dataTable['output_type'] = 'display_data';\n",
              "        await google.colab.output.renderOutput(dataTable, element);\n",
              "        const docLink = document.createElement('div');\n",
              "        docLink.innerHTML = docLinkHtml;\n",
              "        element.appendChild(docLink);\n",
              "      }\n",
              "    </script>\n",
              "  </div>\n",
              "\n",
              "\n",
              "<div id=\"df-61908fd3-94a8-4e11-9fa7-5cca25a72764\">\n",
              "  <button class=\"colab-df-quickchart\" onclick=\"quickchart('df-61908fd3-94a8-4e11-9fa7-5cca25a72764')\"\n",
              "            title=\"Suggest charts\"\n",
              "            style=\"display:none;\">\n",
              "\n",
              "<svg xmlns=\"http://www.w3.org/2000/svg\" height=\"24px\"viewBox=\"0 0 24 24\"\n",
              "     width=\"24px\">\n",
              "    <g>\n",
              "        <path d=\"M19 3H5c-1.1 0-2 .9-2 2v14c0 1.1.9 2 2 2h14c1.1 0 2-.9 2-2V5c0-1.1-.9-2-2-2zM9 17H7v-7h2v7zm4 0h-2V7h2v10zm4 0h-2v-4h2v4z\"/>\n",
              "    </g>\n",
              "</svg>\n",
              "  </button>\n",
              "\n",
              "<style>\n",
              "  .colab-df-quickchart {\n",
              "      --bg-color: #E8F0FE;\n",
              "      --fill-color: #1967D2;\n",
              "      --hover-bg-color: #E2EBFA;\n",
              "      --hover-fill-color: #174EA6;\n",
              "      --disabled-fill-color: #AAA;\n",
              "      --disabled-bg-color: #DDD;\n",
              "  }\n",
              "\n",
              "  [theme=dark] .colab-df-quickchart {\n",
              "      --bg-color: #3B4455;\n",
              "      --fill-color: #D2E3FC;\n",
              "      --hover-bg-color: #434B5C;\n",
              "      --hover-fill-color: #FFFFFF;\n",
              "      --disabled-bg-color: #3B4455;\n",
              "      --disabled-fill-color: #666;\n",
              "  }\n",
              "\n",
              "  .colab-df-quickchart {\n",
              "    background-color: var(--bg-color);\n",
              "    border: none;\n",
              "    border-radius: 50%;\n",
              "    cursor: pointer;\n",
              "    display: none;\n",
              "    fill: var(--fill-color);\n",
              "    height: 32px;\n",
              "    padding: 0;\n",
              "    width: 32px;\n",
              "  }\n",
              "\n",
              "  .colab-df-quickchart:hover {\n",
              "    background-color: var(--hover-bg-color);\n",
              "    box-shadow: 0 1px 2px rgba(60, 64, 67, 0.3), 0 1px 3px 1px rgba(60, 64, 67, 0.15);\n",
              "    fill: var(--button-hover-fill-color);\n",
              "  }\n",
              "\n",
              "  .colab-df-quickchart-complete:disabled,\n",
              "  .colab-df-quickchart-complete:disabled:hover {\n",
              "    background-color: var(--disabled-bg-color);\n",
              "    fill: var(--disabled-fill-color);\n",
              "    box-shadow: none;\n",
              "  }\n",
              "\n",
              "  .colab-df-spinner {\n",
              "    border: 2px solid var(--fill-color);\n",
              "    border-color: transparent;\n",
              "    border-bottom-color: var(--fill-color);\n",
              "    animation:\n",
              "      spin 1s steps(1) infinite;\n",
              "  }\n",
              "\n",
              "  @keyframes spin {\n",
              "    0% {\n",
              "      border-color: transparent;\n",
              "      border-bottom-color: var(--fill-color);\n",
              "      border-left-color: var(--fill-color);\n",
              "    }\n",
              "    20% {\n",
              "      border-color: transparent;\n",
              "      border-left-color: var(--fill-color);\n",
              "      border-top-color: var(--fill-color);\n",
              "    }\n",
              "    30% {\n",
              "      border-color: transparent;\n",
              "      border-left-color: var(--fill-color);\n",
              "      border-top-color: var(--fill-color);\n",
              "      border-right-color: var(--fill-color);\n",
              "    }\n",
              "    40% {\n",
              "      border-color: transparent;\n",
              "      border-right-color: var(--fill-color);\n",
              "      border-top-color: var(--fill-color);\n",
              "    }\n",
              "    60% {\n",
              "      border-color: transparent;\n",
              "      border-right-color: var(--fill-color);\n",
              "    }\n",
              "    80% {\n",
              "      border-color: transparent;\n",
              "      border-right-color: var(--fill-color);\n",
              "      border-bottom-color: var(--fill-color);\n",
              "    }\n",
              "    90% {\n",
              "      border-color: transparent;\n",
              "      border-bottom-color: var(--fill-color);\n",
              "    }\n",
              "  }\n",
              "</style>\n",
              "\n",
              "  <script>\n",
              "    async function quickchart(key) {\n",
              "      const quickchartButtonEl =\n",
              "        document.querySelector('#' + key + ' button');\n",
              "      quickchartButtonEl.disabled = true;  // To prevent multiple clicks.\n",
              "      quickchartButtonEl.classList.add('colab-df-spinner');\n",
              "      try {\n",
              "        const charts = await google.colab.kernel.invokeFunction(\n",
              "            'suggestCharts', [key], {});\n",
              "      } catch (error) {\n",
              "        console.error('Error during call to suggestCharts:', error);\n",
              "      }\n",
              "      quickchartButtonEl.classList.remove('colab-df-spinner');\n",
              "      quickchartButtonEl.classList.add('colab-df-quickchart-complete');\n",
              "    }\n",
              "    (() => {\n",
              "      let quickchartButtonEl =\n",
              "        document.querySelector('#df-61908fd3-94a8-4e11-9fa7-5cca25a72764 button');\n",
              "      quickchartButtonEl.style.display =\n",
              "        google.colab.kernel.accessAllowed ? 'block' : 'none';\n",
              "    })();\n",
              "  </script>\n",
              "</div>\n",
              "\n",
              "    </div>\n",
              "  </div>\n"
            ],
            "application/vnd.google.colaboratory.intrinsic+json": {
              "type": "dataframe",
              "variable_name": "df_agg"
            }
          },
          "metadata": {},
          "execution_count": 19
        }
      ]
    },
    {
      "cell_type": "code",
      "source": [
        "from sklearn.model_selection import train_test_split"
      ],
      "metadata": {
        "id": "r24XbGzcxGMF"
      },
      "execution_count": 13,
      "outputs": []
    },
    {
      "cell_type": "code",
      "source": [
        "feature_cols=list(df_agg.drop(['preventive_visit_gap_ind'],axis=1).columns)\n",
        "#feature_cols"
      ],
      "metadata": {
        "id": "W1bgb9Vwx39x",
        "collapsed": true
      },
      "execution_count": 14,
      "outputs": []
    },
    {
      "cell_type": "code",
      "source": [
        "df_agg.shape"
      ],
      "metadata": {
        "id": "PZHMcb90NLxZ",
        "outputId": "b79539e9-cbeb-4e4c-da89-f57af86824f2",
        "colab": {
          "base_uri": "https://localhost:8080/"
        }
      },
      "execution_count": null,
      "outputs": [
        {
          "output_type": "execute_result",
          "data": {
            "text/plain": [
              "(1527904, 467)"
            ]
          },
          "metadata": {},
          "execution_count": 22
        }
      ]
    },
    {
      "cell_type": "code",
      "source": [
        "feature_cols.remove('id')"
      ],
      "metadata": {
        "id": "Nu_mpUBdWK-V"
      },
      "execution_count": null,
      "outputs": []
    },
    {
      "cell_type": "code",
      "source": [
        "categorical=['cms_frailty_ind',\n",
        " 'dual_eligible_ind',\n",
        " 'disabled_ind',\n",
        " 'lis_ind',\n",
        " 'tenure_band_index',\n",
        " 'generic_grouper',\n",
        " 'unattributed_provider',\n",
        " 'veteran_ind',\n",
        " 'pbp_segment_id',\n",
        " 'sex_cd_index',\n",
        " 'region_index','lang_spoken_cd',\n",
        " 'rucc_category',\n",
        " 'riskarr_downside',\n",
        " 'riskarr_upside',\n",
        " 'riskarr_rewards',\n",
        " 'riskarr_global','channelIndex', 'race_index']\n",
        "\n",
        "\n",
        "for i in categorical:\n",
        "  df_agg[i]=df_agg[i].astype('category')\n"
      ],
      "metadata": {
        "id": "xpS3fNsRTfCx"
      },
      "execution_count": 15,
      "outputs": []
    },
    {
      "cell_type": "code",
      "source": [
        "X_train,X_test,y_train,y_test=train_test_split(df_agg[feature_cols],df_agg['preventive_visit_gap_ind'],test_size=0.3, random_state=12345)"
      ],
      "metadata": {
        "id": "OrUz_0n2xPQP"
      },
      "execution_count": 16,
      "outputs": []
    },
    {
      "cell_type": "code",
      "source": [
        "# X_train,X_val,y_train,y_val=train_test_split(X_train,y_train,test_size=0.3, random_state=54321)"
      ],
      "metadata": {
        "id": "8r7lY11ZyioW"
      },
      "execution_count": null,
      "outputs": []
    },
    {
      "cell_type": "code",
      "source": [
        "donotimput=['cms_frailty_ind',\n",
        " 'cms_tot_ma_payment_amt',\n",
        " 'cms_tot_partd_payment_amt',\n",
        "#  'atlas_recfacpth14',\n",
        "#  'atlas_ffrpth14',\n",
        "#  'atlas_fsrpth14',\n",
        "#  'atlas_grocpth14',\n",
        "#  'atlas_povertyallagespct',\n",
        " 'cci_score',\n",
        " 'fci_score',\n",
        " 'dcsi_score', 'dual_eligible_ind',\n",
        " 'disabled_ind',\n",
        " 'lis_ind',\n",
        " 'tenure_band_index',\n",
        " 'generic_grouper',\n",
        " 'unattributed_provider',\n",
        " 'age',\n",
        " 'veteran_ind',\n",
        " 'pbp_segment_id',\n",
        " 'sex_cd_index',\n",
        " 'region_index','days_since_last_clm','lang_spoken_cd',\n",
        " 'rucc_category',\n",
        " 'riskarr_downside',\n",
        " 'riskarr_upside',\n",
        " 'riskarr_rewards',\n",
        " 'riskarr_global','channelIndex', 'consec_tenure_month',\n",
        " 'all_mm_tenure',\n",
        " 'dual_eligible_ind',\n",
        " 'disabled_ind',\n",
        " 'lis_ind',\n",
        " 'tenure_band_index',\n",
        " 'generic_grouper',\n",
        " 'unattributed_provider',\n",
        " 'age',\n",
        " 'veteran_ind',\n",
        " 'pbp_segment_id',\n",
        " 'sex_cd_index',\n",
        " 'region_index',\n",
        " 'race_index', 'nonpar_deduct_pmpm_cost',\n",
        " 'oontwk_deduct_pmpm_cost',\n",
        " 'total_deduct_pmpm_cost',\n",
        " 'rx_overall_deduct_pmpm_cost','id',\n",
        " 'preventive_visit_gap_ind',\n",
        " 'days_since_last_login'\n",
        " ]\n",
        "print(donotimput)"
      ],
      "metadata": {
        "colab": {
          "base_uri": "https://localhost:8080/"
        },
        "id": "GfuPoGxysZnT",
        "outputId": "f2ee0f8d-bb15-494d-9fe9-d8748032b86f"
      },
      "execution_count": 17,
      "outputs": [
        {
          "output_type": "stream",
          "name": "stdout",
          "text": [
            "['cms_frailty_ind', 'cms_tot_ma_payment_amt', 'cms_tot_partd_payment_amt', 'cci_score', 'fci_score', 'dcsi_score', 'dual_eligible_ind', 'disabled_ind', 'lis_ind', 'tenure_band_index', 'generic_grouper', 'unattributed_provider', 'age', 'veteran_ind', 'pbp_segment_id', 'sex_cd_index', 'region_index', 'days_since_last_clm', 'lang_spoken_cd', 'rucc_category', 'riskarr_downside', 'riskarr_upside', 'riskarr_rewards', 'riskarr_global', 'channelIndex', 'consec_tenure_month', 'all_mm_tenure', 'dual_eligible_ind', 'disabled_ind', 'lis_ind', 'tenure_band_index', 'generic_grouper', 'unattributed_provider', 'age', 'veteran_ind', 'pbp_segment_id', 'sex_cd_index', 'region_index', 'race_index', 'nonpar_deduct_pmpm_cost', 'oontwk_deduct_pmpm_cost', 'total_deduct_pmpm_cost', 'rx_overall_deduct_pmpm_cost', 'id', 'preventive_visit_gap_ind', 'days_since_last_login']\n"
          ]
        }
      ]
    },
    {
      "cell_type": "code",
      "source": [
        "df['rwjf_poor_health_pct'].mean()"
      ],
      "metadata": {
        "colab": {
          "base_uri": "https://localhost:8080/"
        },
        "id": "zndTWGuMJlCC",
        "outputId": "7a2ec9ce-26ef-4909-fe15-b8ec1750452a"
      },
      "execution_count": 18,
      "outputs": [
        {
          "output_type": "execute_result",
          "data": {
            "text/plain": [
              "0.19655987827465848"
            ]
          },
          "metadata": {},
          "execution_count": 18
        }
      ]
    },
    {
      "cell_type": "code",
      "source": [
        "imput_dict=dict()\n",
        "for x in [x for x in df_agg.columns if x not in donotimput] :\n",
        "  if x.startswith('cnt_cp') or x.startswith('nonpar') or x.startswith('oontwk') or x.startswith('total') or x.startswith('bh_rtc') or x.startswith('bh_psyc') or x.startswith('rx') or x.startswith('login') or x.startswith('2021') or x.startswith('2022') or x[-3:] =='cnt'  or x in [ 'Cancers',\n",
        " 'Cardiovascular_Diseases',\n",
        " 'Diabetes_Related',\n",
        " 'Immunological_Disorders',\n",
        " 'Kidney_and_Liver_Diseases',\n",
        " 'Mental_Health_Disorders',\n",
        " 'Miscellaneous',\n",
        " 'Neurological_Disorders',\n",
        " 'Respiratory_Diseases',\n",
        " 'other'] or x in ['annual_wellness',\n",
        " 'clm_unique_key',\n",
        " 'podiatrist_visit',\n",
        " 'pcp_visit',\n",
        " 'fqhc_visit',\n",
        " 'cardiologist_visit',\n",
        " 'telehealth',\n",
        " 'urgent_care_visit',\n",
        " 'gastroenterologist_visit',\n",
        " 'oncolologist_visit',\n",
        " 'pulmonologist_visit',\n",
        " 'preventative_visit',\n",
        " 'nephroloogist_visit',\n",
        " 'orthopedist_visit',\n",
        " 'ophthalmologist_visit',\n",
        " 'humana_paf',\n",
        " 'optometrist_visit',\n",
        " 'ihwa',\n",
        " 'endocrinologist_visit',\n",
        " 'radiologist_visit',\n",
        " 'physical_therapist_visit',\n",
        " 'comp_physical_exam',\n",
        " 'er_visit',\n",
        " 'obgyn_visit']:\n",
        "    imput_dict[x]= 0\n",
        "  if x.startswith('rwjf') or x.startswith('atlas'):\n",
        "    imput_dict[x]= X_train[x].mean()\n",
        "\n",
        "imput_dict"
      ],
      "metadata": {
        "colab": {
          "base_uri": "https://localhost:8080/"
        },
        "collapsed": true,
        "id": "bR5lCWofpzw6",
        "outputId": "3d5feb6f-8f11-47fa-ffd6-60e9fc2745f2"
      },
      "execution_count": 19,
      "outputs": [
        {
          "output_type": "execute_result",
          "data": {
            "text/plain": [
              "{'atlas_recfacpth14': 0.08549413523286238,\n",
              " 'atlas_ffrpth14': 0.6796858997710485,\n",
              " 'atlas_fsrpth14': 0.7042190139102268,\n",
              " 'atlas_grocpth14': 0.1818544100465888,\n",
              " 'atlas_povertyallagespct': 15.466852721069017,\n",
              " 'cnt_cp_emails_0': 0,\n",
              " 'cnt_cp_emails_1': 0,\n",
              " 'cnt_cp_emails_2': 0,\n",
              " 'cnt_cp_emails_3': 0,\n",
              " 'cnt_cp_emails_4': 0,\n",
              " 'cnt_cp_emails_5': 0,\n",
              " 'cnt_cp_emails_6': 0,\n",
              " 'cnt_cp_emails_7': 0,\n",
              " 'cnt_cp_emails_8': 0,\n",
              " 'cnt_cp_emails_9': 0,\n",
              " 'cnt_cp_emails_10': 0,\n",
              " 'cnt_cp_emails_11': 0,\n",
              " 'cnt_cp_print_0': 0,\n",
              " 'cnt_cp_print_1': 0,\n",
              " 'cnt_cp_print_2': 0,\n",
              " 'cnt_cp_print_3': 0,\n",
              " 'cnt_cp_print_4': 0,\n",
              " 'cnt_cp_print_5': 0,\n",
              " 'cnt_cp_print_6': 0,\n",
              " 'cnt_cp_print_7': 0,\n",
              " 'cnt_cp_print_8': 0,\n",
              " 'cnt_cp_print_9': 0,\n",
              " 'cnt_cp_print_10': 0,\n",
              " 'cnt_cp_print_11': 0,\n",
              " 'cnt_cp_vat_0': 0,\n",
              " 'cnt_cp_vat_1': 0,\n",
              " 'cnt_cp_vat_2': 0,\n",
              " 'cnt_cp_vat_3': 0,\n",
              " 'cnt_cp_vat_4': 0,\n",
              " 'cnt_cp_vat_5': 0,\n",
              " 'cnt_cp_vat_6': 0,\n",
              " 'cnt_cp_vat_7': 0,\n",
              " 'cnt_cp_vat_8': 0,\n",
              " 'cnt_cp_vat_9': 0,\n",
              " 'cnt_cp_vat_10': 0,\n",
              " 'cnt_cp_vat_11': 0,\n",
              " 'cnt_cp_webstatement_0': 0,\n",
              " 'cnt_cp_webstatement_1': 0,\n",
              " 'cnt_cp_webstatement_2': 0,\n",
              " 'cnt_cp_webstatement_3': 0,\n",
              " 'cnt_cp_webstatement_4': 0,\n",
              " 'cnt_cp_webstatement_5': 0,\n",
              " 'cnt_cp_webstatement_6': 0,\n",
              " 'cnt_cp_webstatement_7': 0,\n",
              " 'cnt_cp_webstatement_8': 0,\n",
              " 'cnt_cp_webstatement_9': 0,\n",
              " 'cnt_cp_webstatement_10': 0,\n",
              " 'cnt_cp_webstatement_11': 0,\n",
              " 'cnt_cp_livecall_0': 0,\n",
              " 'cnt_cp_livecall_1': 0,\n",
              " 'cnt_cp_livecall_2': 0,\n",
              " 'cnt_cp_livecall_3': 0,\n",
              " 'cnt_cp_livecall_4': 0,\n",
              " 'cnt_cp_livecall_5': 0,\n",
              " 'cnt_cp_livecall_6': 0,\n",
              " 'cnt_cp_livecall_7': 0,\n",
              " 'cnt_cp_livecall_8': 0,\n",
              " 'cnt_cp_livecall_9': 0,\n",
              " 'cnt_cp_livecall_10': 0,\n",
              " 'cnt_cp_livecall_11': 0,\n",
              " 'cnt_cp_emails_pmpm_ct': 0,\n",
              " 'cnt_cp_print_pmpm_ct': 0,\n",
              " 'cnt_cp_vat_pmpm_ct': 0,\n",
              " 'cnt_cp_webstatement_pmpm_ct': 0,\n",
              " 'cnt_cp_livecall_pmpm_ct': 0,\n",
              " 'nonpar_clm_ct_pmpm': 0,\n",
              " 'nonpar_allowed_pmpm_cost': 0,\n",
              " 'nonpar_net_paid_pmpm_cost': 0,\n",
              " 'nonpar_cob_paid_pmpm_cost': 0,\n",
              " 'nonpar_coins_pmpm_cost': 0,\n",
              " 'nonpar_copay_pmpm_cost': 0,\n",
              " 'nonpar_mbr_resp_pmpm_cost': 0,\n",
              " 'nonpar_ds_clm': 0,\n",
              " 'oontwk_clm_ct_pmpm': 0,\n",
              " 'oontwk_allowed_pmpm_cost': 0,\n",
              " 'oontwk_net_paid_pmpm_cost': 0,\n",
              " 'oontwk_cob_paid_pmpm_cost': 0,\n",
              " 'oontwk_coins_pmpm_cost': 0,\n",
              " 'oontwk_copay_pmpm_cost': 0,\n",
              " 'oontwk_mbr_resp_pmpm_cost': 0,\n",
              " 'oontwk_ds_clm': 0,\n",
              " 'total_allowed_pmpm_cost': 0,\n",
              " 'total_net_paid_pmpm_cost': 0,\n",
              " 'total_cob_paid_pmpm_cost': 0,\n",
              " 'total_coins_pmpm_cost': 0,\n",
              " 'total_copay_pmpm_cost': 0,\n",
              " 'total_mbr_resp_pmpm_cost': 0,\n",
              " 'bh_rtc_admit_ct_pmpm': 0,\n",
              " 'bh_rtc_admit_days_pmpm': 0,\n",
              " 'bh_psyc_visit_ct_pmpm': 0,\n",
              " 'total_ip_acute_admit_days_pmpm': 0,\n",
              " 'total_ip_ltach_admit_days_pmpm': 0,\n",
              " 'total_ip_maternity_admit_days_pmpm': 0,\n",
              " 'total_ip_mhsa_admit_days_pmpm': 0,\n",
              " 'total_ip_rehab_admit_days_pmpm': 0,\n",
              " 'total_ip_snf_admit_days_pmpm': 0,\n",
              " 'rx_overall_pmpm_cost': 0,\n",
              " 'rx_overall_net_paid_pmpm_cost': 0,\n",
              " 'rx_overall_coins_pmpm_cost': 0,\n",
              " 'rx_overall_copay_pmpm_cost': 0,\n",
              " 'rx_overall_mbr_resp_pmpm_cost': 0,\n",
              " 'rx_overall_gpi_pmpm_ct': 0,\n",
              " 'rx_overall_dist_gpi6_pmpm_ct': 0,\n",
              " 'rx_overall_pmpm_ct': 0,\n",
              " 'rx_tier_1_pmpm_ct': 0,\n",
              " 'rx_tier_2_pmpm_ct': 0,\n",
              " 'rx_tier_3_pmpm_ct': 0,\n",
              " 'rx_tier_4_pmpm_ct': 0,\n",
              " 'rx_days_since_last_script': 0,\n",
              " 'rx_pharmacies_pmpm_ct': 0,\n",
              " 'rx_perphy_pmpm_ct': 0,\n",
              " 'rwjf_premature_death_rate': 8177.926128162355,\n",
              " 'rwjf_poor_health_pct': 0.19661110800803933,\n",
              " 'rwjf_uninsured_adults_pct': 0.13710407156377757,\n",
              " 'rwjf_pcp_rate': 0.0006602237510568902,\n",
              " 'rwjf_preventable_ip_rate': 46.646636411723144,\n",
              " 'rwjf_adult_smoking_pct': 0.20203154087172445,\n",
              " 'rwjf_adult_obesity_pct': 0.326608145290837,\n",
              " 'rwjf_teen_births_rate': 25.641354222731152,\n",
              " 'rwjf_homicides_rate': 6.317244614671536,\n",
              " 'rwjf_high_school_pct': 0.8657532791546672,\n",
              " 'rwjf_unemploy_pct': 0.039268749574588126,\n",
              " 'rwjf_child_poverty_pct': 0.19105555810239483,\n",
              " 'rwjf_poor_phy_hlth_days': 4.301125298634996,\n",
              " 'rwjf_low_birthweight_pct': 0.08596418861680492,\n",
              " 'rwjf_mv_deaths_rate': 15.026507802992704,\n",
              " 'rwjf_poor_men_hlth_days': 4.672428288041312,\n",
              " 'rwjf_violent_crime_rate': 331.7470759074107,\n",
              " 'rwjf_income_inequ_ratio': 4.584097845922064,\n",
              " 'rwjf_std_infect_rate': 490.00415441327993,\n",
              " 'rwjf_alcoholic_pct': 0.18592384139607224,\n",
              " 'rwjf_mammography_pct': 0.4209541297629957,\n",
              " 'rwjf_population': 411866.3409623123,\n",
              " 'rwjf_age_lt_18_pct': 0.2188187912564192,\n",
              " 'rwjf_age_gt_65_pct': 0.18206155669107454,\n",
              " 'rwjf_african_race_pct': 0.13299909436074503,\n",
              " 'rwjf_native_race_pct': 0.014400100588132438,\n",
              " 'rwjf_hispanic_pct': 0.11375050080864431,\n",
              " 'rwjf_female_pct': 0.5069900668107326,\n",
              " 'rwjf_rural_pct': 0.34469074401969413,\n",
              " 'rwjf_non_english_pct': 0.022226395380393452,\n",
              " 'rwjf_diabetes_pct': 0.11960707031677592,\n",
              " 'rwjf_hiv_rate': 274.8336296895395,\n",
              " 'rwjf_men_hlth_prov_ratio': 0.002052080761837281,\n",
              " 'rwjf_median_house_income': 59700.399414143816,\n",
              " 'rwjf_child_free_lunch_pct': 0.543248704589084,\n",
              " 'rwjf_drive_alone_pct': 0.8055859366276591,\n",
              " 'rwjf_some_college_pct': 0.6181058499610239,\n",
              " 'rwjf_inactivity_pct': 0.25502378602309195,\n",
              " 'rwjf_hawaiian_race_pct': 0.0018362375347966938,\n",
              " 'rwjf_asian_race_pct': 0.02832888598364243,\n",
              " 'rwjf_single_parent_pct': 0.2660317130430383,\n",
              " 'rwjf_limit_hlthy_food_pct': 0.0736145469425104,\n",
              " 'rwjf_uninsured_pct': 0.11461614203387334,\n",
              " 'rwjf_dentists_ratio': 0.0005863185117365663,\n",
              " 'rwjf_uninsured_child_pct': 0.05702419308918077,\n",
              " 'rwjf_drinkwater_violate_ind': 0.4608013962015217,\n",
              " 'rwjf_air_pollute_density': 8.22245900749775,\n",
              " 'rwjf_white_race_pct': 0.6934033819249844,\n",
              " 'rwjf_premature_mortality': 393.47727779852784,\n",
              " 'rwjf_child_mortality': 55.680559439798536,\n",
              " 'rwjf_infant_mortality': 6.508594886931848,\n",
              " 'rwjf_other_pcp': 0.001090508870092173,\n",
              " 'rwjf_exercise_access_pct': 0.7411240845010604,\n",
              " 'rwjf_food_env_inx': 7.5964211679557865,\n",
              " 'rwjf_dui_deaths_pct': 0.2680391530407792,\n",
              " 'rwjf_injury_deaths_rate': 83.77782054865791,\n",
              " 'rwjf_severe_housing_pct': 0.1503895702668911,\n",
              " 'rwjf_long_commute_alone_pct': 0.3377189321737212,\n",
              " 'rwjf_drug_overdose_deaths_rate': 23.3364247984025,\n",
              " 'rwjf_food_insecurity_pct': 0.130190106683457,\n",
              " 'rwjf_social_associate_rate': 10.185958032724123,\n",
              " 'rwjf_resident_seg_black_inx': 47.325142210844184,\n",
              " 'rwjf_resident_seg_nonwhite_inx': 35.043511775662154,\n",
              " 'rwjf_insufficient_sleep_pct': 0.37658076893705733,\n",
              " 'rwjf_physical_distress_pct': 0.13289017869117184,\n",
              " 'rwjf_mental_distress_pct': 0.14866946421661986,\n",
              " 'rwjf_life_expectancy': 77.81753106646242,\n",
              " 'rwjf_firearm_fatalities_rate': 14.773600201736661,\n",
              " 'rwjf_disconnect_youth_pct': 0.07609434005257809,\n",
              " 'rwjf_home_ownership_pct': 0.6849381963335618,\n",
              " 'rwjf_housing_cost_burden_pct': 0.12564884175606789,\n",
              " 'rwjf_flu_vax': 0.4746714079360873,\n",
              " 'rwjf_suicides_rate': 16.447817656044123,\n",
              " 'rwjf_broadband_access': 0.7939471103662769,\n",
              " 'rwjf_diabetes_monitor_pct': 0.8540190901286938,\n",
              " 'rwjf_healthcare_cost': 9800.445264973112,\n",
              " 'rwjf_drug_deaths_modl_rate': 8.500408033122799,\n",
              " 'login_pmpm_ct': 0,\n",
              " 'login_count_0': 0,\n",
              " 'login_count_1': 0,\n",
              " 'login_count_2': 0,\n",
              " 'login_count_3': 0,\n",
              " 'login_count_4': 0,\n",
              " 'login_count_5': 0,\n",
              " 'login_count_6': 0,\n",
              " 'login_count_7': 0,\n",
              " 'login_count_8': 0,\n",
              " 'login_count_9': 0,\n",
              " 'login_count_10': 0,\n",
              " 'login_count_11': 0,\n",
              " 'annual_wellness': 0,\n",
              " 'clm_unique_key': 0,\n",
              " 'podiatrist_visit': 0,\n",
              " 'pcp_visit': 0,\n",
              " 'fqhc_visit': 0,\n",
              " 'cardiologist_visit': 0,\n",
              " 'telehealth': 0,\n",
              " 'urgent_care_visit': 0,\n",
              " 'gastroenterologist_visit': 0,\n",
              " 'oncolologist_visit': 0,\n",
              " 'pulmonologist_visit': 0,\n",
              " 'preventative_visit': 0,\n",
              " 'nephroloogist_visit': 0,\n",
              " 'orthopedist_visit': 0,\n",
              " 'ophthalmologist_visit': 0,\n",
              " 'humana_paf': 0,\n",
              " 'optometrist_visit': 0,\n",
              " 'ihwa': 0,\n",
              " 'endocrinologist_visit': 0,\n",
              " 'radiologist_visit': 0,\n",
              " 'physical_therapist_visit': 0,\n",
              " 'comp_physical_exam': 0,\n",
              " 'er_visit': 0,\n",
              " 'obgyn_visit': 0,\n",
              " 'Cancers': 0,\n",
              " 'Cardiovascular_Diseases': 0,\n",
              " 'Diabetes_Related': 0,\n",
              " 'Immunological_Disorders': 0,\n",
              " 'Kidney_and_Liver_Diseases': 0,\n",
              " 'Mental_Health_Disorders': 0,\n",
              " 'Miscellaneous': 0,\n",
              " 'Neurological_Disorders': 0,\n",
              " 'Respiratory_Diseases': 0,\n",
              " 'other': 0,\n",
              " 'ABA_comp_cnt': 0,\n",
              " 'ADH_(ACE)_comp_cnt': 0,\n",
              " 'ADH_(DIAB)_comp_cnt': 0,\n",
              " 'ADH_(STATIN)_comp_cnt': 0,\n",
              " 'ART_comp_cnt': 0,\n",
              " 'ASV_comp_cnt': 0,\n",
              " 'BCS_comp_cnt': 0,\n",
              " 'CBP_comp_cnt': 0,\n",
              " 'CDC_(EYE)_comp_cnt': 0,\n",
              " 'CDC_(HbA1c)_comp_cnt': 0,\n",
              " 'CDC_(NPH)_comp_cnt': 0,\n",
              " 'COA_(FSA)_comp_cnt': 0,\n",
              " 'COA_(MDR)_comp_cnt': 0,\n",
              " 'COA_(PNS)_comp_cnt': 0,\n",
              " 'COL_comp_cnt': 0,\n",
              " 'COL_(45-50)_comp_cnt': 0,\n",
              " 'EED_comp_cnt': 0,\n",
              " 'EGR_comp_cnt': 0,\n",
              " 'ESA_comp_cnt': 0,\n",
              " 'ETA_comp_cnt': 0,\n",
              " 'FMC_comp_cnt': 0,\n",
              " 'HBD_comp_cnt': 0,\n",
              " 'KED_comp_cnt': 0,\n",
              " 'MDR_comp_cnt': 0,\n",
              " 'MRP_comp_cnt': 0,\n",
              " 'OMW_comp_cnt': 0,\n",
              " 'PCR_comp_cnt': 0,\n",
              " 'RXC_comp_cnt': 0,\n",
              " 'SBT_comp_cnt': 0,\n",
              " 'SFT_comp_cnt': 0,\n",
              " 'SPC_STATIN_comp_cnt': 0,\n",
              " 'SUPD_comp_cnt': 0,\n",
              " 'SWT_comp_cnt': 0,\n",
              " 'TBC_comp_cnt': 0,\n",
              " 'TEX_comp_cnt': 0,\n",
              " 'TFP_comp_cnt': 0,\n",
              " 'TRC_(MRP)_comp_cnt': 0,\n",
              " 'TRC_(PED)_comp_cnt': 0,\n",
              " 'ABA_elig_cnt': 0,\n",
              " 'ADH_(ACE)_elig_cnt': 0,\n",
              " 'ADH_(DIAB)_elig_cnt': 0,\n",
              " 'ADH_(STATIN)_elig_cnt': 0,\n",
              " 'ART_elig_cnt': 0,\n",
              " 'ASV_elig_cnt': 0,\n",
              " 'BCS_elig_cnt': 0,\n",
              " 'CBP_elig_cnt': 0,\n",
              " 'CDC_(EYE)_elig_cnt': 0,\n",
              " 'CDC_(HbA1c)_elig_cnt': 0,\n",
              " 'CDC_(NPH)_elig_cnt': 0,\n",
              " 'COA_(FSA)_elig_cnt': 0,\n",
              " 'COA_(MDR)_elig_cnt': 0,\n",
              " 'COA_(PNS)_elig_cnt': 0,\n",
              " 'COL_elig_cnt': 0,\n",
              " 'COL_(45-50)_elig_cnt': 0,\n",
              " 'EED_elig_cnt': 0,\n",
              " 'EGR_elig_cnt': 0,\n",
              " 'ESA_elig_cnt': 0,\n",
              " 'ETA_elig_cnt': 0,\n",
              " 'FMC_elig_cnt': 0,\n",
              " 'HBD_elig_cnt': 0,\n",
              " 'KED_elig_cnt': 0,\n",
              " 'MDR_elig_cnt': 0,\n",
              " 'MRP_elig_cnt': 0,\n",
              " 'OMW_elig_cnt': 0,\n",
              " 'PCR_elig_cnt': 0,\n",
              " 'RXC_elig_cnt': 0,\n",
              " 'SBT_elig_cnt': 0,\n",
              " 'SFT_elig_cnt': 0,\n",
              " 'SPC_STATIN_elig_cnt': 0,\n",
              " 'SUPD_elig_cnt': 0,\n",
              " 'SWT_elig_cnt': 0,\n",
              " 'TBC_elig_cnt': 0,\n",
              " 'TEX_elig_cnt': 0,\n",
              " 'TFP_elig_cnt': 0,\n",
              " 'TRC_(MRP)_elig_cnt': 0,\n",
              " 'TRC_(PED)_elig_cnt': 0,\n",
              " 'HEDIS_comp_cnt': 0,\n",
              " 'Patient_Experience_comp_cnt': 0,\n",
              " 'Patient_Safety_comp_cnt': 0,\n",
              " 'HEDIS_elig_cnt': 0,\n",
              " 'Patient_Experience_elig_cnt': 0,\n",
              " 'Patient_Safety_elig_cnt': 0,\n",
              " '2021_annual_wellness': 0,\n",
              " '2021_clm_unique_key': 0,\n",
              " '2021_podiatrist_visit': 0,\n",
              " '2021_pcp_visit': 0,\n",
              " '2021_fqhc_visit': 0,\n",
              " '2021_cardiologist_visit': 0,\n",
              " '2021_telehealth': 0,\n",
              " '2021_urgent_care_visit': 0,\n",
              " '2021_gastroenterologist_visit': 0,\n",
              " '2021_oncolologist_visit': 0,\n",
              " '2021_pulmonologist_visit': 0,\n",
              " '2021_preventative_visit': 0,\n",
              " '2021_nephroloogist_visit': 0,\n",
              " '2021_orthopedist_visit': 0,\n",
              " '2021_ophthalmologist_visit': 0,\n",
              " '2021_humana_paf': 0,\n",
              " '2021_optometrist_visit': 0,\n",
              " '2021_endocrinologist_visit': 0,\n",
              " '2021_radiologist_visit': 0,\n",
              " '2021_physical_therapist_visit': 0,\n",
              " '2021_comp_physical_exam': 0,\n",
              " '2021_er_visit': 0,\n",
              " '2021_obgyn_visit': 0,\n",
              " '2022_annual_wellness': 0,\n",
              " '2022_clm_unique_key': 0,\n",
              " '2022_podiatrist_visit': 0,\n",
              " '2022_pcp_visit': 0,\n",
              " '2022_fqhc_visit': 0,\n",
              " '2022_cardiologist_visit': 0,\n",
              " '2022_telehealth': 0,\n",
              " '2022_urgent_care_visit': 0,\n",
              " '2022_gastroenterologist_visit': 0,\n",
              " '2022_oncolologist_visit': 0,\n",
              " '2022_pulmonologist_visit': 0,\n",
              " '2022_preventative_visit': 0,\n",
              " '2022_nephroloogist_visit': 0,\n",
              " '2022_orthopedist_visit': 0,\n",
              " '2022_ophthalmologist_visit': 0,\n",
              " '2022_humana_paf': 0,\n",
              " '2022_optometrist_visit': 0,\n",
              " '2022_endocrinologist_visit': 0,\n",
              " '2022_radiologist_visit': 0,\n",
              " '2022_physical_therapist_visit': 0,\n",
              " '2022_comp_physical_exam': 0,\n",
              " '2022_er_visit': 0,\n",
              " '2022_obgyn_visit': 0}"
            ]
          },
          "metadata": {},
          "execution_count": 19
        }
      ]
    },
    {
      "cell_type": "code",
      "source": [
        "imp_df =pd.DataFrame({'impt_cols':imput_dict.keys(),'impt_val':imput_dict.values()})\n",
        "df_agg_cols=pd.DataFrame({'cols':[ x for x in list(df_agg.columns)if x not in donotimput]})\n",
        "imp_df=df_agg_cols.merge(imp_df, how='left',right_on='impt_cols', left_on='cols')\n",
        "list(imp_df[imp_df['impt_cols'].isnull()]['cols'])"
      ],
      "metadata": {
        "colab": {
          "base_uri": "https://localhost:8080/"
        },
        "id": "iE091ASqwbDi",
        "outputId": "68c5df15-d0b4-4d49-fa56-ad282bf7be9b",
        "collapsed": true
      },
      "execution_count": null,
      "outputs": [
        {
          "output_type": "execute_result",
          "data": {
            "text/plain": [
              "['SPC_STATIN_ratio',\n",
              " 'CBP_ratio',\n",
              " 'SWT_ratio',\n",
              " 'TBC_ratio',\n",
              " 'PCR_ratio',\n",
              " 'CDC_(HbA1c)_ratio',\n",
              " 'ADH_(DIAB)_ratio',\n",
              " 'CDC_(EYE)_ratio',\n",
              " 'MRP_ratio',\n",
              " 'ADH_(ACE)_ratio',\n",
              " 'SFT_ratio',\n",
              " 'ADH_(STATIN)_ratio',\n",
              " 'Patient_Safety_ratio',\n",
              " 'CDC_(NPH)_ratio',\n",
              " 'COA_(MDR)_ratio',\n",
              " 'ESA_ratio',\n",
              " 'COA_(FSA)_ratio',\n",
              " 'FMC_ratio',\n",
              " 'ABA_ratio',\n",
              " 'TRC_(PED)_ratio',\n",
              " 'TRC_(MRP)_ratio',\n",
              " 'HEDIS_ratio',\n",
              " 'COL_ratio',\n",
              " 'BCS_ratio',\n",
              " 'EGR_ratio',\n",
              " 'ART_ratio',\n",
              " 'OMW_ratio',\n",
              " 'EED_ratio',\n",
              " 'COA_(PNS)_ratio',\n",
              " 'RXC_ratio',\n",
              " 'ASV_ratio',\n",
              " 'TFP_ratio',\n",
              " 'TEX_ratio',\n",
              " 'HBD_ratio',\n",
              " 'KED_ratio',\n",
              " 'SBT_ratio',\n",
              " 'COL_(45-50)_ratio',\n",
              " 'MDR_ratio',\n",
              " 'ETA_ratio',\n",
              " 'Patient_Experience_ratio',\n",
              " 'SUPD_ratio',\n",
              " 'annual_wellness_ratio',\n",
              " 'clm_unique_key_ratio',\n",
              " 'podiatrist_visit_ratio',\n",
              " 'pcp_visit_ratio',\n",
              " 'fqhc_visit_ratio',\n",
              " 'cardiologist_visit_ratio',\n",
              " 'telehealth_ratio',\n",
              " 'urgent_care_visit_ratio',\n",
              " 'gastroenterologist_visit_ratio',\n",
              " 'oncolologist_visit_ratio',\n",
              " 'pulmonologist_visit_ratio',\n",
              " 'preventative_visit_ratio',\n",
              " 'nephroloogist_visit_ratio',\n",
              " 'orthopedist_visit_ratio',\n",
              " 'ophthalmologist_visit_ratio',\n",
              " 'humana_paf_ratio',\n",
              " 'optometrist_visit_ratio',\n",
              " 'endocrinologist_visit_ratio',\n",
              " 'radiologist_visit_ratio',\n",
              " 'physical_therapist_visit_ratio',\n",
              " 'comp_physical_exam_ratio',\n",
              " 'er_visit_ratio',\n",
              " 'obgyn_visit_ratio']"
            ]
          },
          "metadata": {},
          "execution_count": 31
        }
      ]
    },
    {
      "cell_type": "code",
      "source": [
        "df_agg[list(imp_df[imp_df['impt_cols'].isnull()]['cols'])]"
      ],
      "metadata": {
        "id": "K7Np5LxnwsZP"
      },
      "execution_count": null,
      "outputs": []
    },
    {
      "cell_type": "code",
      "source": [
        "df_agg[list(imp_df[imp_df['impt_cols'].isnull()]['cols'])].max()"
      ],
      "metadata": {
        "id": "lhMkh08Wvdo7"
      },
      "execution_count": null,
      "outputs": []
    },
    {
      "cell_type": "code",
      "source": [
        "X_train.fillna(imput_dict, inplace=True)"
      ],
      "metadata": {
        "id": "w5bh9MtReV-M"
      },
      "execution_count": 20,
      "outputs": []
    },
    {
      "cell_type": "code",
      "source": [
        "#X_val.fillna(imput_dict, inplace=True)"
      ],
      "metadata": {
        "id": "piKXZ5tOcAFt"
      },
      "execution_count": null,
      "outputs": []
    },
    {
      "cell_type": "code",
      "source": [
        "X_test.fillna(imput_dict, inplace=True)"
      ],
      "metadata": {
        "id": "3Deo3tYp1HID"
      },
      "execution_count": 21,
      "outputs": []
    },
    {
      "cell_type": "code",
      "source": [
        "param_grid={'n_estimators':[ 1000,1100,1200,1250,1300],\n",
        "              'max_depth':[ 8, 9,10,11,12],\n",
        "              # 'learning_rate':[0.125, 0.1,0.075, 0.05,  0.025],\n",
        "              'reg_lambda':[100,200,300,400,500,600],\n",
        "              'reg_alpha':[0.5,0.6,0.7,0.8] ,\n",
        "             'colsample_bylevel':[0.6,0.7,0.8,0.9],\n",
        "              'min_child_weight':[10,30,50,70,100]\n",
        "           }"
      ],
      "metadata": {
        "id": "p8PzTy4kek7I"
      },
      "execution_count": null,
      "outputs": []
    },
    {
      "cell_type": "code",
      "source": [
        "!pip install xgboost"
      ],
      "metadata": {
        "collapsed": true,
        "id": "AgY_ENpsMVdt",
        "outputId": "24c7d184-8d7d-4ad7-be5b-e5875540cd3d",
        "colab": {
          "base_uri": "https://localhost:8080/"
        }
      },
      "execution_count": 23,
      "outputs": [
        {
          "output_type": "stream",
          "name": "stdout",
          "text": [
            "Collecting xgboost\n",
            "  Downloading xgboost-2.1.1-py3-none-manylinux_2_28_x86_64.whl.metadata (2.1 kB)\n",
            "Requirement already satisfied: numpy in /usr/local/lib/python3.10/dist-packages (from xgboost) (1.26.4)\n",
            "Collecting nvidia-nccl-cu12 (from xgboost)\n",
            "  Downloading nvidia_nccl_cu12-2.23.4-py3-none-manylinux2014_x86_64.whl.metadata (1.8 kB)\n",
            "Requirement already satisfied: scipy in /usr/local/lib/python3.10/dist-packages (from xgboost) (1.13.1)\n",
            "Downloading xgboost-2.1.1-py3-none-manylinux_2_28_x86_64.whl (153.9 MB)\n",
            "\u001b[2K   \u001b[90m━━━━━━━━━━━━━━━━━━━━━━━━━━━━━━━━━━━━━━━━\u001b[0m \u001b[32m153.9/153.9 MB\u001b[0m \u001b[31m6.9 MB/s\u001b[0m eta \u001b[36m0:00:00\u001b[0m\n",
            "\u001b[?25hDownloading nvidia_nccl_cu12-2.23.4-py3-none-manylinux2014_x86_64.whl (199.0 MB)\n",
            "\u001b[2K   \u001b[90m━━━━━━━━━━━━━━━━━━━━━━━━━━━━━━━━━━━━━━━━\u001b[0m \u001b[32m199.0/199.0 MB\u001b[0m \u001b[31m5.2 MB/s\u001b[0m eta \u001b[36m0:00:00\u001b[0m\n",
            "\u001b[?25hInstalling collected packages: nvidia-nccl-cu12, xgboost\n",
            "Successfully installed nvidia-nccl-cu12-2.23.4 xgboost-2.1.1\n"
          ]
        }
      ]
    },
    {
      "cell_type": "code",
      "source": [
        "from sklearn.model_selection import RandomizedSearchCV\n",
        "from xgboost import XGBClassifier"
      ],
      "metadata": {
        "id": "AKqMst2J4D2K"
      },
      "execution_count": 24,
      "outputs": []
    },
    {
      "cell_type": "code",
      "source": [
        "import xgboost as xgb"
      ],
      "metadata": {
        "id": "k4nX7sS4JVAi"
      },
      "execution_count": 25,
      "outputs": []
    },
    {
      "cell_type": "code",
      "source": [
        "y_train.isnull().sum(), y_test.isnull().sum()"
      ],
      "metadata": {
        "colab": {
          "base_uri": "https://localhost:8080/"
        },
        "id": "jnFTM0EERRFY",
        "outputId": "c7eeeade-6c54-4e4b-b48f-51d74f8318d0"
      },
      "execution_count": null,
      "outputs": [
        {
          "output_type": "execute_result",
          "data": {
            "text/plain": [
              "(0, 0)"
            ]
          },
          "metadata": {},
          "execution_count": 40
        }
      ]
    },
    {
      "cell_type": "code",
      "source": [
        "print((X_train.shape,y_train.shape), (X_test.shape,y_test.shape))"
      ],
      "metadata": {
        "colab": {
          "base_uri": "https://localhost:8080/"
        },
        "id": "UXtgC7-55182",
        "outputId": "30de47fe-e5fd-42d7-b43c-74dc32148ba4"
      },
      "execution_count": null,
      "outputs": [
        {
          "output_type": "stream",
          "name": "stdout",
          "text": [
            "((1069532, 465), (1069532,)) ((458372, 465), (458372,))\n"
          ]
        }
      ]
    },
    {
      "cell_type": "code",
      "source": [
        "xgbc=xgb.XGBClassifier(objective='binary:logistic', learning_rate=0.3, colsample_bytree=0.9, device = \"cuda\", eval_metric='auc', early_stopping_rounds=50 )\n",
        "clf=RandomizedSearchCV(xgbc,\n",
        "                   param_distributions=param_grid,  n_iter=100, scoring='roc_auc', cv=3, verbose=3,error_score='raise',refit=True, random_state=1111)\n",
        "clf.fit(X_train,y_train,eval_set=[(X_val, y_val)])"
      ],
      "metadata": {
        "id": "gTcApRB9err6",
        "collapsed": true
      },
      "execution_count": null,
      "outputs": []
    },
    {
      "cell_type": "code",
      "source": [
        "pd.DataFrame(clf.cv_results_).to_csv('/content/drive/MyDrive/humana_train_agg.csv/train_cv_results_ratio.csv')"
      ],
      "metadata": {
        "id": "PyfWtJxrNKgD"
      },
      "execution_count": null,
      "outputs": []
    },
    {
      "cell_type": "code",
      "source": [
        "pd.DataFrame({'params':clf.best_params_.keys(),'values':clf.best_params_.values()}).to_csv('/content/drive/MyDrive/humana_train_agg.csv/train_cv_bestparams_ratio.csv')"
      ],
      "metadata": {
        "id": "4K0-yqJdNNUh"
      },
      "execution_count": null,
      "outputs": []
    },
    {
      "cell_type": "code",
      "source": [
        "import pickle\n",
        "\n",
        "with open('/content/drive/MyDrive/humana_train_agg.csv/xgbc_best_ratio.pkl','wb') as f:\n",
        "    pickle.dump(clf.best_estimator_,f)"
      ],
      "metadata": {
        "id": "apkieATANqAO"
      },
      "execution_count": null,
      "outputs": []
    },
    {
      "cell_type": "code",
      "source": [
        "clf.best_estimator_.save_model('/content/drive/MyDrive/humana_train_agg.csv/xgbc_best_ratio.json')"
      ],
      "metadata": {
        "id": "_D7F8zA3fG1a"
      },
      "execution_count": null,
      "outputs": []
    },
    {
      "cell_type": "code",
      "source": [
        "single_model = xgb.XGBClassifier()\n",
        "single_model.load_model('/content/drive/MyDrive/humana_train_agg.csv/xgbc_best_ratio.json')"
      ],
      "metadata": {
        "id": "Blif_8b3956z"
      },
      "execution_count": 26,
      "outputs": []
    },
    {
      "cell_type": "code",
      "source": [
        "{'reg_lambda': 500, 'reg_alpha': 0.8, 'n_estimators': 1200, 'min_child_weight': 30, 'max_depth': 8, 'colsample_bylevel': 0.9} auc=0.7661"
      ],
      "metadata": {
        "id": "lbkvpVCTSBtU"
      },
      "execution_count": null,
      "outputs": []
    },
    {
      "cell_type": "code",
      "source": [
        "#with ratio\n",
        " {'reg_lambda': 150, 'reg_alpha': 0.3, 'n_estimators': 1300, 'min_child_weight': 175, 'max_depth': 8, 'colsample_bylevel': 0.8}  auc=0.764"
      ],
      "metadata": {
        "collapsed": true,
        "id": "hkQOUCw0M70v",
        "outputId": "ddae235e-5448-411a-e7ed-736d75408ea3",
        "colab": {
          "base_uri": "https://localhost:8080/"
        }
      },
      "execution_count": null,
      "outputs": [
        {
          "output_type": "execute_result",
          "data": {
            "text/plain": [
              "{'objective': 'binary:logistic',\n",
              " 'base_score': '4.4977063E-1',\n",
              " 'booster': 'gbtree',\n",
              " 'colsample_bylevel': None,\n",
              " 'colsample_bynode': None,\n",
              " 'colsample_bytree': None,\n",
              " 'device': None,\n",
              " 'eval_metric': None,\n",
              " 'gamma': None,\n",
              " 'grow_policy': None,\n",
              " 'interaction_constraints': None,\n",
              " 'learning_rate': None,\n",
              " 'max_bin': None,\n",
              " 'max_cat_threshold': None,\n",
              " 'max_cat_to_onehot': None,\n",
              " 'max_delta_step': None,\n",
              " 'max_depth': None,\n",
              " 'max_leaves': None,\n",
              " 'min_child_weight': None,\n",
              " 'monotone_constraints': None,\n",
              " 'multi_strategy': None,\n",
              " 'n_jobs': None,\n",
              " 'num_parallel_tree': None,\n",
              " 'random_state': None,\n",
              " 'reg_alpha': None,\n",
              " 'reg_lambda': None,\n",
              " 'sampling_method': None,\n",
              " 'scale_pos_weight': None,\n",
              " 'subsample': None,\n",
              " 'tree_method': None,\n",
              " 'validate_parameters': None,\n",
              " 'verbosity': None}"
            ]
          },
          "metadata": {},
          "execution_count": 63
        }
      ]
    },
    {
      "cell_type": "code",
      "source": [
        "single_model.get_booster().feature_names"
      ],
      "metadata": {
        "collapsed": true,
        "id": "iYxgUNMKOXZ0",
        "outputId": "0c00613f-5acd-45df-d435-edb591ab0209",
        "colab": {
          "base_uri": "https://localhost:8080/"
        }
      },
      "execution_count": null,
      "outputs": [
        {
          "output_type": "execute_result",
          "data": {
            "text/plain": [
              "['id',\n",
              " 'cms_frailty_ind',\n",
              " 'cms_tot_ma_payment_amt',\n",
              " 'cms_tot_partd_payment_amt',\n",
              " 'atlas_recfacpth14',\n",
              " 'atlas_ffrpth14',\n",
              " 'atlas_fsrpth14',\n",
              " 'atlas_grocpth14',\n",
              " 'atlas_povertyallagespct',\n",
              " 'cci_score',\n",
              " 'fci_score',\n",
              " 'dcsi_score',\n",
              " 'cnt_cp_emails_0',\n",
              " 'cnt_cp_emails_1',\n",
              " 'cnt_cp_emails_2',\n",
              " 'cnt_cp_emails_3',\n",
              " 'cnt_cp_emails_4',\n",
              " 'cnt_cp_emails_5',\n",
              " 'cnt_cp_emails_6',\n",
              " 'cnt_cp_emails_7',\n",
              " 'cnt_cp_emails_8',\n",
              " 'cnt_cp_emails_9',\n",
              " 'cnt_cp_emails_10',\n",
              " 'cnt_cp_emails_11',\n",
              " 'cnt_cp_print_0',\n",
              " 'cnt_cp_print_1',\n",
              " 'cnt_cp_print_2',\n",
              " 'cnt_cp_print_3',\n",
              " 'cnt_cp_print_4',\n",
              " 'cnt_cp_print_5',\n",
              " 'cnt_cp_print_6',\n",
              " 'cnt_cp_print_7',\n",
              " 'cnt_cp_print_8',\n",
              " 'cnt_cp_print_9',\n",
              " 'cnt_cp_print_10',\n",
              " 'cnt_cp_print_11',\n",
              " 'cnt_cp_vat_0',\n",
              " 'cnt_cp_vat_1',\n",
              " 'cnt_cp_vat_2',\n",
              " 'cnt_cp_vat_3',\n",
              " 'cnt_cp_vat_4',\n",
              " 'cnt_cp_vat_5',\n",
              " 'cnt_cp_vat_6',\n",
              " 'cnt_cp_vat_7',\n",
              " 'cnt_cp_vat_8',\n",
              " 'cnt_cp_vat_9',\n",
              " 'cnt_cp_vat_10',\n",
              " 'cnt_cp_vat_11',\n",
              " 'cnt_cp_webstatement_0',\n",
              " 'cnt_cp_webstatement_1',\n",
              " 'cnt_cp_webstatement_2',\n",
              " 'cnt_cp_webstatement_3',\n",
              " 'cnt_cp_webstatement_4',\n",
              " 'cnt_cp_webstatement_5',\n",
              " 'cnt_cp_webstatement_6',\n",
              " 'cnt_cp_webstatement_7',\n",
              " 'cnt_cp_webstatement_8',\n",
              " 'cnt_cp_webstatement_9',\n",
              " 'cnt_cp_webstatement_10',\n",
              " 'cnt_cp_webstatement_11',\n",
              " 'cnt_cp_livecall_0',\n",
              " 'cnt_cp_livecall_1',\n",
              " 'cnt_cp_livecall_2',\n",
              " 'cnt_cp_livecall_3',\n",
              " 'cnt_cp_livecall_4',\n",
              " 'cnt_cp_livecall_5',\n",
              " 'cnt_cp_livecall_6',\n",
              " 'cnt_cp_livecall_7',\n",
              " 'cnt_cp_livecall_8',\n",
              " 'cnt_cp_livecall_9',\n",
              " 'cnt_cp_livecall_10',\n",
              " 'cnt_cp_livecall_11',\n",
              " 'cnt_cp_emails_pmpm_ct',\n",
              " 'cnt_cp_print_pmpm_ct',\n",
              " 'cnt_cp_vat_pmpm_ct',\n",
              " 'cnt_cp_webstatement_pmpm_ct',\n",
              " 'cnt_cp_livecall_pmpm_ct',\n",
              " 'nonpar_clm_ct_pmpm',\n",
              " 'nonpar_allowed_pmpm_cost',\n",
              " 'nonpar_net_paid_pmpm_cost',\n",
              " 'nonpar_cob_paid_pmpm_cost',\n",
              " 'nonpar_coins_pmpm_cost',\n",
              " 'nonpar_copay_pmpm_cost',\n",
              " 'nonpar_deduct_pmpm_cost',\n",
              " 'nonpar_mbr_resp_pmpm_cost',\n",
              " 'nonpar_ds_clm',\n",
              " 'oontwk_clm_ct_pmpm',\n",
              " 'oontwk_allowed_pmpm_cost',\n",
              " 'oontwk_net_paid_pmpm_cost',\n",
              " 'oontwk_cob_paid_pmpm_cost',\n",
              " 'oontwk_coins_pmpm_cost',\n",
              " 'oontwk_copay_pmpm_cost',\n",
              " 'oontwk_deduct_pmpm_cost',\n",
              " 'oontwk_mbr_resp_pmpm_cost',\n",
              " 'oontwk_ds_clm',\n",
              " 'total_allowed_pmpm_cost',\n",
              " 'total_net_paid_pmpm_cost',\n",
              " 'total_cob_paid_pmpm_cost',\n",
              " 'total_coins_pmpm_cost',\n",
              " 'total_copay_pmpm_cost',\n",
              " 'total_deduct_pmpm_cost',\n",
              " 'total_mbr_resp_pmpm_cost',\n",
              " 'days_since_last_clm',\n",
              " 'bh_rtc_admit_ct_pmpm',\n",
              " 'bh_rtc_admit_days_pmpm',\n",
              " 'bh_psyc_visit_ct_pmpm',\n",
              " 'total_ip_acute_admit_days_pmpm',\n",
              " 'total_ip_ltach_admit_days_pmpm',\n",
              " 'total_ip_maternity_admit_days_pmpm',\n",
              " 'total_ip_mhsa_admit_days_pmpm',\n",
              " 'total_ip_rehab_admit_days_pmpm',\n",
              " 'total_ip_snf_admit_days_pmpm',\n",
              " 'riskarr_downside',\n",
              " 'riskarr_upside',\n",
              " 'riskarr_rewards',\n",
              " 'riskarr_global',\n",
              " 'rucc_category',\n",
              " 'rx_overall_pmpm_cost',\n",
              " 'rx_overall_net_paid_pmpm_cost',\n",
              " 'rx_overall_coins_pmpm_cost',\n",
              " 'rx_overall_copay_pmpm_cost',\n",
              " 'rx_overall_deduct_pmpm_cost',\n",
              " 'rx_overall_mbr_resp_pmpm_cost',\n",
              " 'rx_overall_gpi_pmpm_ct',\n",
              " 'rx_overall_dist_gpi6_pmpm_ct',\n",
              " 'rx_overall_pmpm_ct',\n",
              " 'rx_tier_1_pmpm_ct',\n",
              " 'rx_tier_2_pmpm_ct',\n",
              " 'rx_tier_3_pmpm_ct',\n",
              " 'rx_tier_4_pmpm_ct',\n",
              " 'rx_days_since_last_script',\n",
              " 'rx_pharmacies_pmpm_ct',\n",
              " 'rx_perphy_pmpm_ct',\n",
              " 'channelIndex',\n",
              " 'rwjf_premature_death_rate',\n",
              " 'rwjf_poor_health_pct',\n",
              " 'rwjf_uninsured_adults_pct',\n",
              " 'rwjf_pcp_rate',\n",
              " 'rwjf_preventable_ip_rate',\n",
              " 'rwjf_adult_smoking_pct',\n",
              " 'rwjf_adult_obesity_pct',\n",
              " 'rwjf_teen_births_rate',\n",
              " 'rwjf_homicides_rate',\n",
              " 'rwjf_high_school_pct',\n",
              " 'rwjf_unemploy_pct',\n",
              " 'rwjf_child_poverty_pct',\n",
              " 'rwjf_poor_phy_hlth_days',\n",
              " 'rwjf_low_birthweight_pct',\n",
              " 'rwjf_mv_deaths_rate',\n",
              " 'rwjf_poor_men_hlth_days',\n",
              " 'rwjf_violent_crime_rate',\n",
              " 'rwjf_income_inequ_ratio',\n",
              " 'rwjf_std_infect_rate',\n",
              " 'rwjf_alcoholic_pct',\n",
              " 'rwjf_mammography_pct',\n",
              " 'rwjf_population',\n",
              " 'rwjf_age_lt_18_pct',\n",
              " 'rwjf_age_gt_65_pct',\n",
              " 'rwjf_african_race_pct',\n",
              " 'rwjf_native_race_pct',\n",
              " 'rwjf_hispanic_pct',\n",
              " 'rwjf_female_pct',\n",
              " 'rwjf_rural_pct',\n",
              " 'rwjf_non_english_pct',\n",
              " 'rwjf_diabetes_pct',\n",
              " 'rwjf_hiv_rate',\n",
              " 'rwjf_men_hlth_prov_ratio',\n",
              " 'rwjf_median_house_income',\n",
              " 'rwjf_child_free_lunch_pct',\n",
              " 'rwjf_drive_alone_pct',\n",
              " 'rwjf_some_college_pct',\n",
              " 'rwjf_inactivity_pct',\n",
              " 'rwjf_hawaiian_race_pct',\n",
              " 'rwjf_asian_race_pct',\n",
              " 'rwjf_single_parent_pct',\n",
              " 'rwjf_limit_hlthy_food_pct',\n",
              " 'rwjf_uninsured_pct',\n",
              " 'rwjf_dentists_ratio',\n",
              " 'rwjf_uninsured_child_pct',\n",
              " 'rwjf_drinkwater_violate_ind',\n",
              " 'rwjf_air_pollute_density',\n",
              " 'rwjf_white_race_pct',\n",
              " 'rwjf_premature_mortality',\n",
              " 'rwjf_child_mortality',\n",
              " 'rwjf_infant_mortality',\n",
              " 'rwjf_other_pcp',\n",
              " 'rwjf_exercise_access_pct',\n",
              " 'rwjf_food_env_inx',\n",
              " 'rwjf_dui_deaths_pct',\n",
              " 'rwjf_injury_deaths_rate',\n",
              " 'rwjf_severe_housing_pct',\n",
              " 'rwjf_long_commute_alone_pct',\n",
              " 'rwjf_drug_overdose_deaths_rate',\n",
              " 'rwjf_food_insecurity_pct',\n",
              " 'rwjf_social_associate_rate',\n",
              " 'rwjf_resident_seg_black_inx',\n",
              " 'rwjf_resident_seg_nonwhite_inx',\n",
              " 'rwjf_insufficient_sleep_pct',\n",
              " 'rwjf_physical_distress_pct',\n",
              " 'rwjf_mental_distress_pct',\n",
              " 'rwjf_life_expectancy',\n",
              " 'rwjf_firearm_fatalities_rate',\n",
              " 'rwjf_disconnect_youth_pct',\n",
              " 'rwjf_home_ownership_pct',\n",
              " 'rwjf_housing_cost_burden_pct',\n",
              " 'rwjf_flu_vax',\n",
              " 'rwjf_suicides_rate',\n",
              " 'rwjf_broadband_access',\n",
              " 'rwjf_diabetes_monitor_pct',\n",
              " 'rwjf_healthcare_cost',\n",
              " 'rwjf_drug_deaths_modl_rate',\n",
              " 'days_since_last_login',\n",
              " 'login_pmpm_ct',\n",
              " 'login_count_0',\n",
              " 'login_count_1',\n",
              " 'login_count_2',\n",
              " 'login_count_3',\n",
              " 'login_count_4',\n",
              " 'login_count_5',\n",
              " 'login_count_6',\n",
              " 'login_count_7',\n",
              " 'login_count_8',\n",
              " 'login_count_9',\n",
              " 'login_count_10',\n",
              " 'login_count_11',\n",
              " 'consec_tenure_month',\n",
              " 'all_mm_tenure',\n",
              " 'dual_eligible_ind',\n",
              " 'disabled_ind',\n",
              " 'lis_ind',\n",
              " 'tenure_band_index',\n",
              " 'generic_grouper',\n",
              " 'unattributed_provider',\n",
              " 'age',\n",
              " 'veteran_ind',\n",
              " 'pbp_segment_id',\n",
              " 'sex_cd_index',\n",
              " 'region_index',\n",
              " 'race_index',\n",
              " 'annual_wellness',\n",
              " 'clm_unique_key',\n",
              " 'podiatrist_visit',\n",
              " 'pcp_visit',\n",
              " 'fqhc_visit',\n",
              " 'cardiologist_visit',\n",
              " 'telehealth',\n",
              " 'urgent_care_visit',\n",
              " 'gastroenterologist_visit',\n",
              " 'oncolologist_visit',\n",
              " 'pulmonologist_visit',\n",
              " 'preventative_visit',\n",
              " 'nephroloogist_visit',\n",
              " 'orthopedist_visit',\n",
              " 'ophthalmologist_visit',\n",
              " 'humana_paf',\n",
              " 'optometrist_visit',\n",
              " 'ihwa',\n",
              " 'endocrinologist_visit',\n",
              " 'radiologist_visit',\n",
              " 'physical_therapist_visit',\n",
              " 'comp_physical_exam',\n",
              " 'er_visit',\n",
              " 'obgyn_visit',\n",
              " 'Cancers',\n",
              " 'Cardiovascular_Diseases',\n",
              " 'Diabetes_Related',\n",
              " 'Immunological_Disorders',\n",
              " 'Kidney_and_Liver_Diseases',\n",
              " 'Mental_Health_Disorders',\n",
              " 'Miscellaneous',\n",
              " 'Neurological_Disorders',\n",
              " 'Respiratory_Diseases',\n",
              " 'other',\n",
              " 'ABA_comp_cnt',\n",
              " 'ADH_(ACE)_comp_cnt',\n",
              " 'ADH_(DIAB)_comp_cnt',\n",
              " 'ADH_(STATIN)_comp_cnt',\n",
              " 'ART_comp_cnt',\n",
              " 'ASV_comp_cnt',\n",
              " 'BCS_comp_cnt',\n",
              " 'CBP_comp_cnt',\n",
              " 'CDC_(EYE)_comp_cnt',\n",
              " 'CDC_(HbA1c)_comp_cnt',\n",
              " 'CDC_(NPH)_comp_cnt',\n",
              " 'COA_(FSA)_comp_cnt',\n",
              " 'COA_(MDR)_comp_cnt',\n",
              " 'COA_(PNS)_comp_cnt',\n",
              " 'COL_comp_cnt',\n",
              " 'COL_(45-50)_comp_cnt',\n",
              " 'EED_comp_cnt',\n",
              " 'EGR_comp_cnt',\n",
              " 'ESA_comp_cnt',\n",
              " 'ETA_comp_cnt',\n",
              " 'FMC_comp_cnt',\n",
              " 'HBD_comp_cnt',\n",
              " 'KED_comp_cnt',\n",
              " 'MDR_comp_cnt',\n",
              " 'MRP_comp_cnt',\n",
              " 'OMW_comp_cnt',\n",
              " 'PCR_comp_cnt',\n",
              " 'RXC_comp_cnt',\n",
              " 'SBT_comp_cnt',\n",
              " 'SFT_comp_cnt',\n",
              " 'SPC_STATIN_comp_cnt',\n",
              " 'SUPD_comp_cnt',\n",
              " 'SWT_comp_cnt',\n",
              " 'TBC_comp_cnt',\n",
              " 'TEX_comp_cnt',\n",
              " 'TFP_comp_cnt',\n",
              " 'TRC_(MRP)_comp_cnt',\n",
              " 'TRC_(PED)_comp_cnt',\n",
              " 'ABA_elig_cnt',\n",
              " 'ADH_(ACE)_elig_cnt',\n",
              " 'ADH_(DIAB)_elig_cnt',\n",
              " 'ADH_(STATIN)_elig_cnt',\n",
              " 'ART_elig_cnt',\n",
              " 'ASV_elig_cnt',\n",
              " 'BCS_elig_cnt',\n",
              " 'CBP_elig_cnt',\n",
              " 'CDC_(EYE)_elig_cnt',\n",
              " 'CDC_(HbA1c)_elig_cnt',\n",
              " 'CDC_(NPH)_elig_cnt',\n",
              " 'COA_(FSA)_elig_cnt',\n",
              " 'COA_(MDR)_elig_cnt',\n",
              " 'COA_(PNS)_elig_cnt',\n",
              " 'COL_elig_cnt',\n",
              " 'COL_(45-50)_elig_cnt',\n",
              " 'EED_elig_cnt',\n",
              " 'EGR_elig_cnt',\n",
              " 'ESA_elig_cnt',\n",
              " 'ETA_elig_cnt',\n",
              " 'FMC_elig_cnt',\n",
              " 'HBD_elig_cnt',\n",
              " 'KED_elig_cnt',\n",
              " 'MDR_elig_cnt',\n",
              " 'MRP_elig_cnt',\n",
              " 'OMW_elig_cnt',\n",
              " 'PCR_elig_cnt',\n",
              " 'RXC_elig_cnt',\n",
              " 'SBT_elig_cnt',\n",
              " 'SFT_elig_cnt',\n",
              " 'SPC_STATIN_elig_cnt',\n",
              " 'SUPD_elig_cnt',\n",
              " 'SWT_elig_cnt',\n",
              " 'TBC_elig_cnt',\n",
              " 'TEX_elig_cnt',\n",
              " 'TFP_elig_cnt',\n",
              " 'TRC_(MRP)_elig_cnt',\n",
              " 'TRC_(PED)_elig_cnt',\n",
              " 'HEDIS_comp_cnt',\n",
              " 'Patient_Experience_comp_cnt',\n",
              " 'Patient_Safety_comp_cnt',\n",
              " 'HEDIS_elig_cnt',\n",
              " 'Patient_Experience_elig_cnt',\n",
              " 'Patient_Safety_elig_cnt',\n",
              " 'Patient_Experience_ratio',\n",
              " 'ETA_ratio',\n",
              " 'ADH_(DIAB)_ratio',\n",
              " 'ADH_(ACE)_ratio',\n",
              " 'SWT_ratio',\n",
              " 'CBP_ratio',\n",
              " 'CDC_(HbA1c)_ratio',\n",
              " 'Patient_Safety_ratio',\n",
              " 'EGR_ratio',\n",
              " 'FMC_ratio',\n",
              " 'MRP_ratio',\n",
              " 'EED_ratio',\n",
              " 'TFP_ratio',\n",
              " 'ABA_ratio',\n",
              " 'SPC_STATIN_ratio',\n",
              " 'COA_(PNS)_ratio',\n",
              " 'RXC_ratio',\n",
              " 'SUPD_ratio',\n",
              " 'ADH_(STATIN)_ratio',\n",
              " 'SBT_ratio',\n",
              " 'KED_ratio',\n",
              " 'COL_(45-50)_ratio',\n",
              " 'ASV_ratio',\n",
              " 'TRC_(MRP)_ratio',\n",
              " 'HEDIS_ratio',\n",
              " 'COL_ratio',\n",
              " 'TRC_(PED)_ratio',\n",
              " 'COA_(FSA)_ratio',\n",
              " 'HBD_ratio',\n",
              " 'MDR_ratio',\n",
              " 'PCR_ratio',\n",
              " 'SFT_ratio',\n",
              " 'CDC_(EYE)_ratio',\n",
              " 'COA_(MDR)_ratio',\n",
              " 'ESA_ratio',\n",
              " 'CDC_(NPH)_ratio',\n",
              " 'TBC_ratio',\n",
              " 'TEX_ratio',\n",
              " 'ART_ratio',\n",
              " 'BCS_ratio',\n",
              " 'OMW_ratio']"
            ]
          },
          "metadata": {},
          "execution_count": 55
        }
      ]
    },
    {
      "cell_type": "code",
      "source": [
        "ftt_df=pd.DataFrame({'columns':single_model.get_booster().feature_names,'values':single_model.feature_importances_}).sort_values(by='values', ascending=False).loc[lambda x: x['values']>0, :].head(50)"
      ],
      "metadata": {
        "id": "s94Z8OY1Nqd9"
      },
      "execution_count": 45,
      "outputs": []
    },
    {
      "cell_type": "code",
      "source": [
        "feature_cols.remove('id')\n",
        "#feature_cols"
      ],
      "metadata": {
        "collapsed": true,
        "id": "pGji6UYIh5hM"
      },
      "execution_count": null,
      "outputs": []
    },
    {
      "cell_type": "code",
      "source": [
        "X_train['predicted']=single_model.predict(X_train[single_model.get_booster().feature_names])\n",
        "#X_val['predicted']=single_model.predict(X_val[single_model.get_booster().feature_names])\n",
        "X_test['predicted']=single_model.predict(X_test[single_model.get_booster().feature_names])"
      ],
      "metadata": {
        "id": "rYy3g19P-5Dp",
        "colab": {
          "base_uri": "https://localhost:8080/",
          "height": 335
        },
        "collapsed": true,
        "outputId": "987141ac-c3b4-4da6-e57a-2d49a8f234de"
      },
      "execution_count": null,
      "outputs": [
        {
          "output_type": "error",
          "ename": "KeyError",
          "evalue": "\"['id'] not in index\"",
          "traceback": [
            "\u001b[0;31m---------------------------------------------------------------------------\u001b[0m",
            "\u001b[0;31mKeyError\u001b[0m                                  Traceback (most recent call last)",
            "\u001b[0;32m<ipython-input-59-30bc3c902cce>\u001b[0m in \u001b[0;36m<cell line: 1>\u001b[0;34m()\u001b[0m\n\u001b[0;32m----> 1\u001b[0;31m \u001b[0mX_train\u001b[0m\u001b[0;34m[\u001b[0m\u001b[0;34m'predicted'\u001b[0m\u001b[0;34m]\u001b[0m\u001b[0;34m=\u001b[0m\u001b[0msingle_model\u001b[0m\u001b[0;34m.\u001b[0m\u001b[0mpredict\u001b[0m\u001b[0;34m(\u001b[0m\u001b[0mX_train\u001b[0m\u001b[0;34m[\u001b[0m\u001b[0msingle_model\u001b[0m\u001b[0;34m.\u001b[0m\u001b[0mget_booster\u001b[0m\u001b[0;34m(\u001b[0m\u001b[0;34m)\u001b[0m\u001b[0;34m.\u001b[0m\u001b[0mfeature_names\u001b[0m\u001b[0;34m]\u001b[0m\u001b[0;34m)\u001b[0m\u001b[0;34m\u001b[0m\u001b[0;34m\u001b[0m\u001b[0m\n\u001b[0m\u001b[1;32m      2\u001b[0m \u001b[0;31m#X_val['predicted']=single_model.predict(X_val[single_model.get_booster().feature_names])\u001b[0m\u001b[0;34m\u001b[0m\u001b[0;34m\u001b[0m\u001b[0m\n\u001b[1;32m      3\u001b[0m \u001b[0mX_test\u001b[0m\u001b[0;34m[\u001b[0m\u001b[0;34m'predicted'\u001b[0m\u001b[0;34m]\u001b[0m\u001b[0;34m=\u001b[0m\u001b[0msingle_model\u001b[0m\u001b[0;34m.\u001b[0m\u001b[0mpredict\u001b[0m\u001b[0;34m(\u001b[0m\u001b[0mX_test\u001b[0m\u001b[0;34m[\u001b[0m\u001b[0msingle_model\u001b[0m\u001b[0;34m.\u001b[0m\u001b[0mget_booster\u001b[0m\u001b[0;34m(\u001b[0m\u001b[0;34m)\u001b[0m\u001b[0;34m.\u001b[0m\u001b[0mfeature_names\u001b[0m\u001b[0;34m]\u001b[0m\u001b[0;34m)\u001b[0m\u001b[0;34m\u001b[0m\u001b[0;34m\u001b[0m\u001b[0m\n",
            "\u001b[0;32m/usr/local/lib/python3.10/dist-packages/pandas/core/frame.py\u001b[0m in \u001b[0;36m__getitem__\u001b[0;34m(self, key)\u001b[0m\n\u001b[1;32m   4106\u001b[0m             \u001b[0;32mif\u001b[0m \u001b[0mis_iterator\u001b[0m\u001b[0;34m(\u001b[0m\u001b[0mkey\u001b[0m\u001b[0;34m)\u001b[0m\u001b[0;34m:\u001b[0m\u001b[0;34m\u001b[0m\u001b[0;34m\u001b[0m\u001b[0m\n\u001b[1;32m   4107\u001b[0m                 \u001b[0mkey\u001b[0m \u001b[0;34m=\u001b[0m \u001b[0mlist\u001b[0m\u001b[0;34m(\u001b[0m\u001b[0mkey\u001b[0m\u001b[0;34m)\u001b[0m\u001b[0;34m\u001b[0m\u001b[0;34m\u001b[0m\u001b[0m\n\u001b[0;32m-> 4108\u001b[0;31m             \u001b[0mindexer\u001b[0m \u001b[0;34m=\u001b[0m \u001b[0mself\u001b[0m\u001b[0;34m.\u001b[0m\u001b[0mcolumns\u001b[0m\u001b[0;34m.\u001b[0m\u001b[0m_get_indexer_strict\u001b[0m\u001b[0;34m(\u001b[0m\u001b[0mkey\u001b[0m\u001b[0;34m,\u001b[0m \u001b[0;34m\"columns\"\u001b[0m\u001b[0;34m)\u001b[0m\u001b[0;34m[\u001b[0m\u001b[0;36m1\u001b[0m\u001b[0;34m]\u001b[0m\u001b[0;34m\u001b[0m\u001b[0;34m\u001b[0m\u001b[0m\n\u001b[0m\u001b[1;32m   4109\u001b[0m \u001b[0;34m\u001b[0m\u001b[0m\n\u001b[1;32m   4110\u001b[0m         \u001b[0;31m# take() does not accept boolean indexers\u001b[0m\u001b[0;34m\u001b[0m\u001b[0;34m\u001b[0m\u001b[0m\n",
            "\u001b[0;32m/usr/local/lib/python3.10/dist-packages/pandas/core/indexes/base.py\u001b[0m in \u001b[0;36m_get_indexer_strict\u001b[0;34m(self, key, axis_name)\u001b[0m\n\u001b[1;32m   6198\u001b[0m             \u001b[0mkeyarr\u001b[0m\u001b[0;34m,\u001b[0m \u001b[0mindexer\u001b[0m\u001b[0;34m,\u001b[0m \u001b[0mnew_indexer\u001b[0m \u001b[0;34m=\u001b[0m \u001b[0mself\u001b[0m\u001b[0;34m.\u001b[0m\u001b[0m_reindex_non_unique\u001b[0m\u001b[0;34m(\u001b[0m\u001b[0mkeyarr\u001b[0m\u001b[0;34m)\u001b[0m\u001b[0;34m\u001b[0m\u001b[0;34m\u001b[0m\u001b[0m\n\u001b[1;32m   6199\u001b[0m \u001b[0;34m\u001b[0m\u001b[0m\n\u001b[0;32m-> 6200\u001b[0;31m         \u001b[0mself\u001b[0m\u001b[0;34m.\u001b[0m\u001b[0m_raise_if_missing\u001b[0m\u001b[0;34m(\u001b[0m\u001b[0mkeyarr\u001b[0m\u001b[0;34m,\u001b[0m \u001b[0mindexer\u001b[0m\u001b[0;34m,\u001b[0m \u001b[0maxis_name\u001b[0m\u001b[0;34m)\u001b[0m\u001b[0;34m\u001b[0m\u001b[0;34m\u001b[0m\u001b[0m\n\u001b[0m\u001b[1;32m   6201\u001b[0m \u001b[0;34m\u001b[0m\u001b[0m\n\u001b[1;32m   6202\u001b[0m         \u001b[0mkeyarr\u001b[0m \u001b[0;34m=\u001b[0m \u001b[0mself\u001b[0m\u001b[0;34m.\u001b[0m\u001b[0mtake\u001b[0m\u001b[0;34m(\u001b[0m\u001b[0mindexer\u001b[0m\u001b[0;34m)\u001b[0m\u001b[0;34m\u001b[0m\u001b[0;34m\u001b[0m\u001b[0m\n",
            "\u001b[0;32m/usr/local/lib/python3.10/dist-packages/pandas/core/indexes/base.py\u001b[0m in \u001b[0;36m_raise_if_missing\u001b[0;34m(self, key, indexer, axis_name)\u001b[0m\n\u001b[1;32m   6250\u001b[0m \u001b[0;34m\u001b[0m\u001b[0m\n\u001b[1;32m   6251\u001b[0m             \u001b[0mnot_found\u001b[0m \u001b[0;34m=\u001b[0m \u001b[0mlist\u001b[0m\u001b[0;34m(\u001b[0m\u001b[0mensure_index\u001b[0m\u001b[0;34m(\u001b[0m\u001b[0mkey\u001b[0m\u001b[0;34m)\u001b[0m\u001b[0;34m[\u001b[0m\u001b[0mmissing_mask\u001b[0m\u001b[0;34m.\u001b[0m\u001b[0mnonzero\u001b[0m\u001b[0;34m(\u001b[0m\u001b[0;34m)\u001b[0m\u001b[0;34m[\u001b[0m\u001b[0;36m0\u001b[0m\u001b[0;34m]\u001b[0m\u001b[0;34m]\u001b[0m\u001b[0;34m.\u001b[0m\u001b[0munique\u001b[0m\u001b[0;34m(\u001b[0m\u001b[0;34m)\u001b[0m\u001b[0;34m)\u001b[0m\u001b[0;34m\u001b[0m\u001b[0;34m\u001b[0m\u001b[0m\n\u001b[0;32m-> 6252\u001b[0;31m             \u001b[0;32mraise\u001b[0m \u001b[0mKeyError\u001b[0m\u001b[0;34m(\u001b[0m\u001b[0;34mf\"{not_found} not in index\"\u001b[0m\u001b[0;34m)\u001b[0m\u001b[0;34m\u001b[0m\u001b[0;34m\u001b[0m\u001b[0m\n\u001b[0m\u001b[1;32m   6253\u001b[0m \u001b[0;34m\u001b[0m\u001b[0m\n\u001b[1;32m   6254\u001b[0m     \u001b[0;34m@\u001b[0m\u001b[0moverload\u001b[0m\u001b[0;34m\u001b[0m\u001b[0;34m\u001b[0m\u001b[0m\n",
            "\u001b[0;31mKeyError\u001b[0m: \"['id'] not in index\""
          ]
        }
      ]
    },
    {
      "cell_type": "code",
      "source": [
        "X_train['predicted_score']=single_model.predict_proba(X_train[single_model.get_booster().feature_names])[:,1][:]\n",
        "#X_val['predicted_score']=single_model.predict_proba(X_val[single_model.get_booster().feature_names])[:,1][:]\n",
        "X_test['predicted_score']=single_model.predict_proba(X_test[single_model.get_booster().feature_names])[:,1][:]"
      ],
      "metadata": {
        "id": "tXGhGP2K_FCA"
      },
      "execution_count": null,
      "outputs": []
    },
    {
      "cell_type": "code",
      "source": [
        "train_preds=pd.DataFrame(single_model.predict(X_train[single_model.get_booster().feature_names]))\n",
        "#val_preds=pd.DataFrame(single_model.predict(X_val[single_model.get_booster().feature_names]))\n",
        "test_preds=pd.DataFrame(single_model.predict(X_test[single_model.get_booster().feature_names]))"
      ],
      "metadata": {
        "id": "kPJ83javDTQd"
      },
      "execution_count": null,
      "outputs": []
    },
    {
      "cell_type": "code",
      "source": [
        "X_train['preventive_visit_gap_ind']=pd.DataFrame(y_train)\n",
        "X_val['preventive_visit_gap_ind']=pd.DataFrame(y_val)\n",
        "X_test['preventive_visit_gap_ind']=pd.DataFrame(y_test)"
      ],
      "metadata": {
        "id": "kJTzsWwoJM91"
      },
      "execution_count": null,
      "outputs": []
    },
    {
      "cell_type": "code",
      "source": [
        "print(X_train['preventive_visit_gap_ind'].isnull().sum(),X_val['preventive_visit_gap_ind'].isnull().sum(),X_test['preventive_visit_gap_ind'].isnull().sum())"
      ],
      "metadata": {
        "id": "2ahKqkJIKFFz"
      },
      "execution_count": null,
      "outputs": []
    },
    {
      "cell_type": "code",
      "source": [
        "from sklearn.metrics import *"
      ],
      "metadata": {
        "id": "JU5gJFYvov4T"
      },
      "execution_count": 27,
      "outputs": []
    },
    {
      "cell_type": "code",
      "source": [
        "roc_auc_score(X_train['preventive_visit_gap_ind'],X_train['predicted_score']),roc_auc_score(X_val['preventive_visit_gap_ind'],X_val['predicted_score']), roc_auc_score(X_test['preventive_visit_gap_ind'],X_test['predicted_score'])"
      ],
      "metadata": {
        "id": "ZKS0xBquozzw"
      },
      "execution_count": null,
      "outputs": []
    },
    {
      "cell_type": "code",
      "source": [
        "explain_df=pd.DataFrame(X_train)"
      ],
      "metadata": {
        "id": "nMPIOb8hpsBQ"
      },
      "execution_count": 32,
      "outputs": []
    },
    {
      "cell_type": "code",
      "source": [
        "explain_df_FN=explain_df[(explain_df['predicted']==0)& (explain_df['preventive_visit_gap_ind']==1)][['id']+feature_cols]"
      ],
      "metadata": {
        "id": "pDdtFopNqCbW"
      },
      "execution_count": null,
      "outputs": []
    },
    {
      "cell_type": "code",
      "source": [
        "confusion_matrix(explain_df['preventive_visit_gap_ind'],explain_df['predicted'])"
      ],
      "metadata": {
        "id": "PneaTpcbsCOk"
      },
      "execution_count": null,
      "outputs": []
    },
    {
      "cell_type": "code",
      "source": [
        "explain_df.loc[((explain_df['predicted_score']>=0.5) & (explain_df['predicted']==0)& (explain_df['preventive_visit_gap_ind']==1))]"
      ],
      "metadata": {
        "id": "XejgzPq0r_bK"
      },
      "execution_count": null,
      "outputs": []
    },
    {
      "cell_type": "code",
      "source": [
        "explain_df_FN.iloc[0]['total_net_paid_pmpm_cost']"
      ],
      "metadata": {
        "id": "Sp6h-fPqSbvL"
      },
      "execution_count": null,
      "outputs": []
    },
    {
      "cell_type": "code",
      "source": [
        "explain_df.iloc[0][['total_net_paid_pmpm_cost','predicted_score','predicted','preventive_visit_gap_ind']]"
      ],
      "metadata": {
        "id": "rRUBISCES9YR"
      },
      "execution_count": null,
      "outputs": []
    },
    {
      "cell_type": "code",
      "source": [
        "explain_df_FN['rx_overall_pmpm_ct'].describe()"
      ],
      "metadata": {
        "id": "jsKCBTSDWzEm"
      },
      "execution_count": null,
      "outputs": []
    },
    {
      "cell_type": "code",
      "source": [
        "!pip install shap"
      ],
      "metadata": {
        "colab": {
          "base_uri": "https://localhost:8080/"
        },
        "collapsed": true,
        "id": "iQFcd6hDsSLH",
        "outputId": "e1c495d2-1399-474c-cda9-7306deaa3f77"
      },
      "execution_count": 28,
      "outputs": [
        {
          "output_type": "stream",
          "name": "stdout",
          "text": [
            "Collecting shap\n",
            "  Downloading shap-0.46.0-cp310-cp310-manylinux_2_12_x86_64.manylinux2010_x86_64.manylinux_2_17_x86_64.manylinux2014_x86_64.whl.metadata (24 kB)\n",
            "Requirement already satisfied: numpy in /usr/local/lib/python3.10/dist-packages (from shap) (1.26.4)\n",
            "Requirement already satisfied: scipy in /usr/local/lib/python3.10/dist-packages (from shap) (1.13.1)\n",
            "Requirement already satisfied: scikit-learn in /usr/local/lib/python3.10/dist-packages (from shap) (1.5.2)\n",
            "Requirement already satisfied: pandas in /usr/local/lib/python3.10/dist-packages (from shap) (2.2.2)\n",
            "Requirement already satisfied: tqdm>=4.27.0 in /usr/local/lib/python3.10/dist-packages (from shap) (4.66.5)\n",
            "Requirement already satisfied: packaging>20.9 in /usr/local/lib/python3.10/dist-packages (from shap) (24.1)\n",
            "Collecting slicer==0.0.8 (from shap)\n",
            "  Downloading slicer-0.0.8-py3-none-any.whl.metadata (4.0 kB)\n",
            "Requirement already satisfied: numba in /usr/local/lib/python3.10/dist-packages (from shap) (0.60.0)\n",
            "Requirement already satisfied: cloudpickle in /usr/local/lib/python3.10/dist-packages (from shap) (3.1.0)\n",
            "Requirement already satisfied: llvmlite<0.44,>=0.43.0dev0 in /usr/local/lib/python3.10/dist-packages (from numba->shap) (0.43.0)\n",
            "Requirement already satisfied: python-dateutil>=2.8.2 in /usr/local/lib/python3.10/dist-packages (from pandas->shap) (2.9.0.post0)\n",
            "Requirement already satisfied: pytz>=2020.1 in /usr/local/lib/python3.10/dist-packages (from pandas->shap) (2024.2)\n",
            "Requirement already satisfied: tzdata>=2022.7 in /usr/local/lib/python3.10/dist-packages (from pandas->shap) (2024.2)\n",
            "Requirement already satisfied: joblib>=1.2.0 in /usr/local/lib/python3.10/dist-packages (from scikit-learn->shap) (1.4.2)\n",
            "Requirement already satisfied: threadpoolctl>=3.1.0 in /usr/local/lib/python3.10/dist-packages (from scikit-learn->shap) (3.5.0)\n",
            "Requirement already satisfied: six>=1.5 in /usr/local/lib/python3.10/dist-packages (from python-dateutil>=2.8.2->pandas->shap) (1.16.0)\n",
            "Downloading shap-0.46.0-cp310-cp310-manylinux_2_12_x86_64.manylinux2010_x86_64.manylinux_2_17_x86_64.manylinux2014_x86_64.whl (540 kB)\n",
            "\u001b[2K   \u001b[90m━━━━━━━━━━━━━━━━━━━━━━━━━━━━━━━━━━━━━━━━\u001b[0m \u001b[32m540.1/540.1 kB\u001b[0m \u001b[31m11.6 MB/s\u001b[0m eta \u001b[36m0:00:00\u001b[0m\n",
            "\u001b[?25hDownloading slicer-0.0.8-py3-none-any.whl (15 kB)\n",
            "Installing collected packages: slicer, shap\n",
            "Successfully installed shap-0.46.0 slicer-0.0.8\n"
          ]
        }
      ]
    },
    {
      "cell_type": "code",
      "source": [
        "import shap"
      ],
      "metadata": {
        "id": "zFUpcDYIsPq_"
      },
      "execution_count": 29,
      "outputs": []
    },
    {
      "cell_type": "code",
      "source": [
        "from shap import TreeExplainer,GPUTreeExplainer"
      ],
      "metadata": {
        "id": "kzlIwUsPmGAP"
      },
      "execution_count": 30,
      "outputs": []
    },
    {
      "cell_type": "code",
      "source": [
        "explainer=TreeExplainer(single_model,explain_df,model_output='probability')\n",
        "shap_values_adult = explainer(explain_df.iloc[:5000,:])"
      ],
      "metadata": {
        "id": "qUIdCFahmg27",
        "colab": {
          "base_uri": "https://localhost:8080/"
        },
        "outputId": "08d538d1-369f-4f30-9cd6-b3a7b85b9eed"
      },
      "execution_count": 34,
      "outputs": [
        {
          "output_type": "stream",
          "name": "stderr",
          "text": [
            "100%|===================| 4983/5000 [01:28<00:00]       "
          ]
        }
      ]
    },
    {
      "cell_type": "code",
      "source": [
        "import shap"
      ],
      "metadata": {
        "id": "nDZNoMdfJ-Rq"
      },
      "execution_count": null,
      "outputs": []
    },
    {
      "cell_type": "code",
      "source": [
        "required_indices = [explain_df.columns.get_loc(feature) for feature in list(ftt_df['columns'].head(50))]\n"
      ],
      "metadata": {
        "collapsed": true,
        "id": "ZN5TwUTv_QRU"
      },
      "execution_count": 46,
      "outputs": []
    },
    {
      "cell_type": "code",
      "source": [
        "shap.plots.beeswarm(shap_values_adult,max_display=20)"
      ],
      "metadata": {
        "id": "hV9W49qc0tCl",
        "collapsed": true,
        "colab": {
          "base_uri": "https://localhost:8080/",
          "height": 822
        },
        "outputId": "9b6dbb1a-4f20-42c0-f6ac-23a36b38c098"
      },
      "execution_count": 36,
      "outputs": [
        {
          "output_type": "display_data",
          "data": {
            "text/plain": [
              "<Figure size 800x950 with 2 Axes>"
            ],
            "image/png": "[encoded data removed]"
          },
          "metadata": {}
        }
      ]
    },
    {
      "cell_type": "code",
      "source": [
        "shap.plots.beeswarm(shap_values_adult[:,required_indices],max_display=20)"
      ],
      "metadata": {
        "colab": {
          "base_uri": "https://localhost:8080/",
          "height": 822
        },
        "id": "C_tegR9QT-vv",
        "outputId": "aa993d6b-f3cf-434d-b11d-f77a99187145"
      },
      "execution_count": 47,
      "outputs": [
        {
          "output_type": "display_data",
          "data": {
            "text/plain": [
              "<Figure size 800x950 with 2 Axes>"
            ],
            "image/png": "[encoded data removed]"
          },
          "metadata": {}
        }
      ]
    },
    {
      "cell_type": "code",
      "source": [
        "shap.plots.bar(shap_values_adult,max_display=20)"
      ],
      "metadata": {
        "colab": {
          "base_uri": "https://localhost:8080/",
          "height": 970
        },
        "id": "McXbr9CQSPLx",
        "outputId": "42103d57-c169-48fe-e08d-839c94baa8db"
      },
      "execution_count": 37,
      "outputs": [
        {
          "output_type": "display_data",
          "data": {
            "text/plain": [
              "<Figure size 800x1150 with 1 Axes>"
            ],
            "image/png": "[encoded data removed]"
          },
          "metadata": {}
        }
      ]
    },
    {
      "cell_type": "code",
      "source": [
        "shap.plots.bar(shap_values_adult[:,required_indices],max_display=20)"
      ],
      "metadata": {
        "colab": {
          "base_uri": "https://localhost:8080/",
          "height": 970
        },
        "id": "8bGTIJryVaXx",
        "outputId": "949b1db1-4211-4b64-a6a3-bdbaa0a4be0d"
      },
      "execution_count": 48,
      "outputs": [
        {
          "output_type": "display_data",
          "data": {
            "text/plain": [
              "<Figure size 800x1150 with 1 Axes>"
            ],
            "image/png": "[encoded data removed]"
          },
          "metadata": {}
        }
      ]
    },
    {
      "cell_type": "code",
      "source": [
        "shap.plots.waterfall(shap_values_adult[50], max_display=25)"
      ],
      "metadata": {
        "id": "nkShlWhLENHe",
        "collapsed": true
      },
      "execution_count": null,
      "outputs": []
    },
    {
      "cell_type": "code",
      "source": [
        "explain_df_TP=explain_df[(explain_df['predicted']==1)& (explain_df['preventive_visit_gap_ind']==1)][['id']+feature_cols]"
      ],
      "metadata": {
        "id": "WlHqyWda4-in"
      },
      "execution_count": null,
      "outputs": []
    },
    {
      "cell_type": "code",
      "source": [
        "explainer_tp=TreeExplainer(single_model,explain_df,model_output='probability')\n",
        "shap_values_tp = explainer_tp(explain_df_TP.sample(n=5000))"
      ],
      "metadata": {
        "id": "As63CfUV4546"
      },
      "execution_count": null,
      "outputs": []
    },
    {
      "cell_type": "code",
      "source": [
        "shap.plots.beeswarm(shap_values_tp,max_display=50)"
      ],
      "metadata": {
        "id": "ba1OV7eO5QdM",
        "collapsed": true
      },
      "execution_count": null,
      "outputs": []
    },
    {
      "cell_type": "code",
      "source": [
        "single_model"
      ],
      "metadata": {
        "id": "wjjP-HcOs_BO"
      },
      "execution_count": null,
      "outputs": []
    },
    {
      "cell_type": "code",
      "source": [
        "feat_imp=pd.DataFrame({'columns':feature_cols,'value':single_model.feature_importances_})"
      ],
      "metadata": {
        "id": "o9hd5G06sjI9"
      },
      "execution_count": null,
      "outputs": []
    },
    {
      "cell_type": "code",
      "source": [
        "feat_imp_short=feat_imp.loc[feat_imp['value']>0].sort_values(by='value', ascending=False)"
      ],
      "metadata": {
        "id": "Z4LKXJsVswl1"
      },
      "execution_count": null,
      "outputs": []
    },
    {
      "cell_type": "code",
      "source": [
        "feat_imp_short"
      ],
      "metadata": {
        "id": "dSw7zcpv8Zaw",
        "outputId": "2d07ac77-8694-45cf-fdd2-aae62dd67f2f",
        "colab": {
          "base_uri": "https://localhost:8080/",
          "height": 146
        }
      },
      "execution_count": null,
      "outputs": [
        {
          "output_type": "error",
          "ename": "NameError",
          "evalue": "name 'feat_imp_short' is not defined",
          "traceback": [
            "\u001b[0;31m---------------------------------------------------------------------------\u001b[0m",
            "\u001b[0;31mNameError\u001b[0m                                 Traceback (most recent call last)",
            "\u001b[0;32m<ipython-input-3-f56875dee0dd>\u001b[0m in \u001b[0;36m<cell line: 1>\u001b[0;34m()\u001b[0m\n\u001b[0;32m----> 1\u001b[0;31m \u001b[0mfeat_imp_short\u001b[0m\u001b[0;34m\u001b[0m\u001b[0;34m\u001b[0m\u001b[0m\n\u001b[0m",
            "\u001b[0;31mNameError\u001b[0m: name 'feat_imp_short' is not defined"
          ]
        }
      ]
    },
    {
      "cell_type": "code",
      "source": [
        "len(feature_cols),feat_imp_short.shape"
      ],
      "metadata": {
        "id": "ci9BMkMksxNb"
      },
      "execution_count": null,
      "outputs": []
    },
    {
      "cell_type": "code",
      "source": [
        "xgbc_new=xgb.XGBClassifier(objective='binary:logistic', learning_rate=0.05, colsample_bytree=0.9,  tree_method = \"hist\", device = \"cuda\", eval_metric='auc', early_stopping_rounds=50 ,\n",
        "                       colsample_bylevel=0.9,  max_depth=9,reg_lambda=200, reg_alpha=0.5,\n",
        "              min_child_weight=10,  n_estimators=5000, enable_categorical=True)\n",
        "xgbc_new.fit(X_train[feature_cols],y_train, eval_set=[(X_test[feature_cols], y_test)])\n"
      ],
      "metadata": {
        "id": "ldnn0_R7bP-l",
        "collapsed": true
      },
      "execution_count": null,
      "outputs": []
    },
    {
      "cell_type": "code",
      "source": [
        "xgbc_trian_score_new=xgbc_new.predict_proba(X_train[feature_cols])[:,1][:]\n",
        "#xgbc_val_score_new=xgbc_new.predict_proba(X_val[feature_cols])[:,1][:]\n",
        "xgbc_test_score_new=xgbc_new.predict_proba(X_test[feature_cols])[:,1][:]"
      ],
      "metadata": {
        "id": "8bWtFsnJbzoI"
      },
      "execution_count": null,
      "outputs": []
    },
    {
      "cell_type": "code",
      "source": [
        "# xgbc_new.save_model('/content/drive/MyDrive/humana_train_agg.csv/xgbc_best_ratio_new.json')"
      ],
      "metadata": {
        "id": "OvUGYmjjDZnz"
      },
      "execution_count": null,
      "outputs": []
    },
    {
      "cell_type": "code",
      "source": [
        "\n",
        "feat_cols2=pd.DataFrame({'columns':feature_cols,'values':xgbc_new.feature_importances_}).sort_values(by='values', ascending=False).loc[lambda x: x['values']>0, 'columns']"
      ],
      "metadata": {
        "collapsed": true,
        "id": "cLBA9KBcZ2R-"
      },
      "execution_count": null,
      "outputs": []
    },
    {
      "cell_type": "code",
      "source": [
        "feat_cols2"
      ],
      "metadata": {
        "id": "NGGKzWjOrl38"
      },
      "execution_count": null,
      "outputs": []
    },
    {
      "cell_type": "code",
      "source": [
        "from sklearn.metrics import *"
      ],
      "metadata": {
        "id": "VocguRfCf8_a"
      },
      "execution_count": null,
      "outputs": []
    },
    {
      "cell_type": "code",
      "source": [
        "roc_auc_score(y_train,xgbc_trian_score_new), roc_auc_score(y_test,xgbc_test_score_new)"
      ],
      "metadata": {
        "id": "Xrho9WZdpv7i"
      },
      "execution_count": null,
      "outputs": []
    },
    {
      "cell_type": "code",
      "source": [
        "xgbc_new2=xgb.XGBClassifier(objective='binary:logistic', learning_rate=0.05, colsample_bytree=0.9,  tree_method = \"hist\", device = \"cuda\", eval_metric='auc', early_stopping_rounds=50 ,\n",
        "                       colsample_bylevel=0.9,  max_depth=9,reg_lambda=100, reg_alpha=0.8,\n",
        "              min_child_weight=10,  n_estimators=5000, enable_categorical=True)\n",
        "xgbc_new2.fit(X_train[feat_cols2],y_train, eval_set=[(X_test[feat_cols2], y_test)])"
      ],
      "metadata": {
        "id": "JCTNZBAQqc-f"
      },
      "execution_count": null,
      "outputs": []
    },
    {
      "cell_type": "code",
      "source": [
        "df_feat_cols3=pd.DataFrame({'columns':feat_cols2,'values':xgbc_new2.feature_importances_}).sort_values(by='values', ascending=False).loc[lambda x: x['values']>0]"
      ],
      "metadata": {
        "id": "Ade8MdoLvepL"
      },
      "execution_count": null,
      "outputs": []
    },
    {
      "cell_type": "code",
      "source": [
        "df_feat_cols3['cum_sum']=df_feat_cols3['values'].cumsum()"
      ],
      "metadata": {
        "id": "0dcmiFBsvr6H"
      },
      "execution_count": null,
      "outputs": []
    },
    {
      "cell_type": "code",
      "source": [
        "feat_cols3 = df_feat_cols3[df_feat_cols3['cum_sum']<0.95]['columns']\n"
      ],
      "metadata": {
        "id": "JTiItXTrv8SA"
      },
      "execution_count": null,
      "outputs": []
    },
    {
      "cell_type": "code",
      "source": [
        "xgbc_new3=xgb.XGBClassifier(objective='binary:logistic', learning_rate=0.05, colsample_bytree=0.9,  tree_method = \"hist\", device = \"cuda\", eval_metric='auc', early_stopping_rounds=50 ,\n",
        "                       colsample_bylevel=0.9,  max_depth=9,reg_lambda=100, reg_alpha=0.5,\n",
        "              min_child_weight=10,  n_estimators=5000, enable_categorical=True)\n",
        "xgbc_new3.fit(X_train[feat_cols3],y_train, eval_set=[(X_test[feat_cols3], y_test)])"
      ],
      "metadata": {
        "id": "zLkxwa3Uwa5s"
      },
      "execution_count": null,
      "outputs": []
    },
    {
      "cell_type": "code",
      "source": [
        "df_feat_cols4=pd.DataFrame({'columns':feat_cols3,'values':xgbc_new3.feature_importances_}).sort_values(by='values', ascending=False).loc[lambda x: x['values']>0]"
      ],
      "metadata": {
        "id": "nG1_qXxOzFo0"
      },
      "execution_count": null,
      "outputs": []
    },
    {
      "cell_type": "code",
      "source": [
        "df_feat_cols4['cum_sum']=df_feat_cols4['values'].cumsum()"
      ],
      "metadata": {
        "id": "3YkKP9DwzUaH"
      },
      "execution_count": null,
      "outputs": []
    },
    {
      "cell_type": "code",
      "source": [
        "feat_cols4 = df_feat_cols4[df_feat_cols4['cum_sum']<0.90]['columns']"
      ],
      "metadata": {
        "id": "XiNdpeVWzY0o"
      },
      "execution_count": null,
      "outputs": []
    },
    {
      "cell_type": "code",
      "source": [
        "xgbc_new4=xgb.XGBClassifier(objective='binary:logistic', learning_rate=0.05, colsample_bytree=0.9,  tree_method = \"hist\", device = \"cuda\", eval_metric='auc', early_stopping_rounds=50 ,\n",
        "                       colsample_bylevel=0.9,  max_depth=10,reg_lambda=100, reg_alpha=0.4,\n",
        "              min_child_weight=10,  n_estimators=5000, enable_categorical=True)\n",
        "xgbc_new4.fit(X_train[feat_cols4],y_train, eval_set=[(X_test[feat_cols4], y_test)])"
      ],
      "metadata": {
        "id": "Xme_Eh2Ry98H"
      },
      "execution_count": null,
      "outputs": []
    },
    {
      "cell_type": "code",
      "source": [
        "df_feat_cols5=pd.DataFrame({'columns':feat_cols4,'values':xgbc_new3.feature_importances_}).sort_values(by='values', ascending=False).loc[lambda x: x['values']>0]"
      ],
      "metadata": {
        "id": "BilIRh4_zEle"
      },
      "execution_count": null,
      "outputs": []
    },
    {
      "cell_type": "code",
      "source": [
        "df_feat_cols5['cum_sum']=df_feat_cols5['values'].cumsum()"
      ],
      "metadata": {
        "id": "i9pGcBZx1usV"
      },
      "execution_count": null,
      "outputs": []
    },
    {
      "cell_type": "code",
      "source": [
        "feat_cols5 = df_feat_cols5[df_feat_cols5['cum_sum']<0.95]['columns']"
      ],
      "metadata": {
        "id": "jcU_guup1ybC"
      },
      "execution_count": null,
      "outputs": []
    },
    {
      "cell_type": "code",
      "source": [
        "xgbc_new5=xgb.XGBClassifier(objective='binary:logistic', learning_rate=0.03, colsample_bytree=0.9,  tree_method = \"hist\", device = \"cuda\", eval_metric='auc', early_stopping_rounds=50 ,\n",
        "                       colsample_bylevel=0.9,  max_depth=10,reg_lambda=100, reg_alpha=0.3,\n",
        "              min_child_weight=10,  n_estimators=5000, enable_categorical=True)\n",
        "xgbc_new5.fit(X_train[feat_cols5],y_train, eval_set=[(X_test[feat_cols5], y_test)])"
      ],
      "metadata": {
        "id": "HaGGTZkJ14gO"
      },
      "execution_count": null,
      "outputs": []
    },
    {
      "cell_type": "code",
      "source": [
        "df_feat_cols6=pd.DataFrame({'columns':feat_cols5,'values':xgbc_new5.feature_importances_}).sort_values(by='values', ascending=False).loc[lambda x: x['values']>0]"
      ],
      "metadata": {
        "id": "_2hxZBQLBbAk"
      },
      "execution_count": null,
      "outputs": []
    },
    {
      "cell_type": "code",
      "source": [
        "df_feat_cols6['cum_sum']=df_feat_cols6['values'].cumsum()"
      ],
      "metadata": {
        "id": "nSNteQqpBjgT"
      },
      "execution_count": null,
      "outputs": []
    },
    {
      "cell_type": "code",
      "source": [
        "feat_cols6 = df_feat_cols6[df_feat_cols6['cum_sum']<0.95]['columns']"
      ],
      "metadata": {
        "id": "H0pUkEJVBmv6"
      },
      "execution_count": null,
      "outputs": []
    },
    {
      "cell_type": "code",
      "source": [
        "xgbc_new5=xgb.XGBClassifier(objective='binary:logistic', learning_rate=0.01, colsample_bytree=0.9,  tree_method = \"hist\", device = \"cuda\", eval_metric='auc', early_stopping_rounds=50 ,\n",
        "                       colsample_bylevel=0.9,  max_depth=15,reg_lambda=100, reg_alpha=0.1,\n",
        "              min_child_weight=10,  n_estimators=5000, enable_categorical=True)\n",
        "xgbc_new5.fit(X_train[feat_cols6],y_train, eval_set=[(X_test[feat_cols6], y_test)])"
      ],
      "metadata": {
        "id": "9EknPStSBpBn"
      },
      "execution_count": null,
      "outputs": []
    },
    {
      "cell_type": "code",
      "source": [
        "df_feat_cols7=pd.DataFrame({'columns':feat_cols6,'values':xgbc_new5.feature_importances_}).sort_values(by='values', ascending=False).loc[lambda x: x['values']>0]"
      ],
      "metadata": {
        "id": "0ARHlYTjHJht"
      },
      "execution_count": null,
      "outputs": []
    },
    {
      "cell_type": "code",
      "source": [
        "df_feat_cols7['cum_sum']=df_feat_cols7['values'].cumsum()"
      ],
      "metadata": {
        "id": "fUoEg2irHTx1"
      },
      "execution_count": null,
      "outputs": []
    },
    {
      "cell_type": "code",
      "source": [
        "feat_cols7 = df_feat_cols7[df_feat_cols7['cum_sum']<0.95]['columns']"
      ],
      "metadata": {
        "id": "ToV9kS8IHYBq"
      },
      "execution_count": null,
      "outputs": []
    },
    {
      "cell_type": "code",
      "source": [
        "xgbc_new7=xgb.XGBClassifier(objective='binary:logistic', learning_rate=0.1, colsample_bytree=0.9,  tree_method = \"hist\", device = \"cuda\", eval_metric='auc', early_stopping_rounds=50 ,\n",
        "                       colsample_bylevel=0.9,  max_depth=16,reg_lambda=100, reg_alpha=0.1,\n",
        "              min_child_weight=10,  n_estimators=5000, enable_categorical=True)\n",
        "xgbc_new7.fit(X_train[feat_cols7],y_train, eval_set=[(X_test[feat_cols7], y_test)])"
      ],
      "metadata": {
        "id": "H1hqPg_kHcqk"
      },
      "execution_count": null,
      "outputs": []
    },
    {
      "cell_type": "code",
      "source": [
        "xgbc_new8=xgb.XGBClassifier(objective='binary:logistic', learning_rate=0.1, colsample_bytree=0.9,  tree_method = \"hist\", device = \"cuda\", eval_metric='auc', early_stopping_rounds=50 ,\n",
        "                       colsample_bylevel=0.9,  max_depth=14,reg_lambda=100, reg_alpha=0.3,\n",
        "              min_child_weight=10,  n_estimators=5000, enable_categorical=True)\n",
        "xgbc_new8.fit(X_train[feat_cols7],y_train, eval_set=[(X_test[feat_cols7], y_test)])"
      ],
      "metadata": {
        "id": "SWwVRcQ5MbiX"
      },
      "execution_count": null,
      "outputs": []
    },
    {
      "cell_type": "code",
      "source": [
        "xgbc_new9=xgb.XGBClassifier(objective='binary:logistic', learning_rate=0.01, colsample_bytree=0.9,  tree_method = \"hist\", device = \"cuda\", eval_metric='auc', early_stopping_rounds=50 ,\n",
        "                       colsample_bylevel=0.9,  max_depth=14,reg_lambda=100, reg_alpha=0.3,\n",
        "              min_child_weight=10,  n_estimators=5000, enable_categorical=True)\n",
        "xgbc_new9.fit(X_train[feat_cols6],y_train, eval_set=[(X_test[feat_cols6], y_test)])"
      ],
      "metadata": {
        "id": "nO5bh1ruNQl_"
      },
      "execution_count": null,
      "outputs": []
    },
    {
      "cell_type": "code",
      "source": [
        "xgbc_new9.save_model('/content/drive/MyDrive/humana_xgbcfinal.json')"
      ],
      "metadata": {
        "id": "2VcfoHljTkbN"
      },
      "execution_count": null,
      "outputs": []
    },
    {
      "cell_type": "code",
      "source": [
        "xgbc_trian_score_new9=xgbc_new9.predict_proba(X_train[feat_cols6])[:,1][:]\n",
        "#xgbc_val_score_new=xgbc_new.predict_proba(X_val[feature_cols])[:,1][:]\n",
        "xgbc_test_score_new9=xgbc_new9.predict_proba(X_test[feat_cols6])[:,1][:]"
      ],
      "metadata": {
        "id": "7QDRoTTDrRUN"
      },
      "execution_count": null,
      "outputs": []
    },
    {
      "cell_type": "code",
      "source": [
        "roc_auc_score(y_train,xgbc_trian_score_new9), roc_auc_score(y_test,xgbc_test_score_new9)"
      ],
      "metadata": {
        "id": "4G2GaDJ_rbF3"
      },
      "execution_count": null,
      "outputs": []
    },
    {
      "cell_type": "markdown",
      "source": [
        "##old_performances\n"
      ],
      "metadata": {
        "id": "DPa5AvM3r7kG"
      }
    },
    {
      "cell_type": "code",
      "source": [
        "roc_auc_score(y_train,xgbc_trian_score_new), roc_auc_score(y_test,xgbc_test_score_new)"
      ],
      "metadata": {
        "id": "BAvFDJpmcfuy"
      },
      "execution_count": null,
      "outputs": []
    },
    {
      "cell_type": "code",
      "source": [
        "roc_auc_score(y_train,xgbc_trian_score_new), roc_auc_score(y_test,xgbc_test_score_new) #max_depth=9"
      ],
      "metadata": {
        "id": "4L9Blnv6zml3"
      },
      "execution_count": null,
      "outputs": []
    },
    {
      "cell_type": "code",
      "source": [
        "#roc_auc_score(y_train,xgbc_trian_score_new), roc_auc_score(y_test,xgbc_test_score_new)  ##0.3 test"
      ],
      "metadata": {
        "id": "9x90Ovbva_Ok"
      },
      "execution_count": null,
      "outputs": []
    },
    {
      "cell_type": "code",
      "source": [
        "# roc_auc_score(y_train,xgbc_trian_score_new), roc_auc_score(y_test,xgbc_test_score_new)  #0.2 test"
      ],
      "metadata": {
        "id": "hkLaaxyAfzs6"
      },
      "execution_count": null,
      "outputs": []
    },
    {
      "cell_type": "code",
      "source": [
        "roc_auc_score(y_train,xgbc_trian_score_new),roc_auc_score(y_val,xgbc_val_score_new), roc_auc_score(y_test,xgbc_test_score_new)"
      ],
      "metadata": {
        "id": "EvilgvL7b7mO"
      },
      "execution_count": null,
      "outputs": []
    },
    {
      "cell_type": "code",
      "source": [
        "xgbc=xgb.XGBClassifier(objective='binary:logistic', learning_rate=0.2, colsample_bytree=0.9,  tree_method = \"hist\", device = \"cuda\", eval_metric='auc', early_stopping_rounds=50 ,\n",
        "                       colsample_bylevel=0.7,  max_depth=8,reg_lambda=300, reg_alpha=0.6,\n",
        "              min_child_weight=None,  n_estimators=1100)\n",
        "xgbc.fit(X_train[feat_imp_short['columns']],y_train, eval_set=[(X_val[feat_imp_short['columns']], y_val)])"
      ],
      "metadata": {
        "collapsed": true,
        "id": "MQi5IGH5u0-3"
      },
      "execution_count": null,
      "outputs": []
    },
    {
      "cell_type": "code",
      "source": [
        "xgbc_trian_score=xgbc.predict_proba(X_train[feat_imp_short['columns']])[:,1][:]\n",
        "xgbc_val_score=xgbc.predict_proba(X_val[feat_imp_short['columns']])[:,1][:]\n",
        "xgbc_test_score=xgbc.predict_proba(X_test[feat_imp_short['columns']])[:,1][:]"
      ],
      "metadata": {
        "id": "P9dr0bGRyuMo"
      },
      "execution_count": null,
      "outputs": []
    },
    {
      "cell_type": "code",
      "source": [
        "roc_auc_score(y_train,xgbc_trian_score),roc_auc_score(y_val,xgbc_val_score), roc_auc_score(y_test,xgbc_test_score)"
      ],
      "metadata": {
        "id": "E7mTyLQlyhqp"
      },
      "execution_count": null,
      "outputs": []
    },
    {
      "cell_type": "code",
      "source": [
        "len(pd.DataFrame({'columns':feat_imp_short['columns'],'values':xgbc.feature_importances_}).sort_values(by='values', ascending=False).loc[lambda x: x['values']>0])"
      ],
      "metadata": {
        "id": "HYPwfzYU0ldt"
      },
      "execution_count": null,
      "outputs": []
    },
    {
      "cell_type": "code",
      "source": [
        "xgbc_single=XGBClassifier(objective='binary:logistic', device='cuda', colsample_bytree=0.9,learning_rate=0.1,max_depth=9,min_child_weight=200,n_estimators=1250,reg_alpha=0.25,reg_lambda=100)\n",
        "xgbc_single.fit(train_df[feature_cols],train_df['preventive_visit_gap_ind'])"
      ],
      "metadata": {
        "id": "dh9GT92CxwKC"
      },
      "execution_count": null,
      "outputs": []
    },
    {
      "cell_type": "markdown",
      "source": [
        "#Holdout scoring"
      ],
      "metadata": {
        "id": "If209aMcg2c7"
      }
    },
    {
      "cell_type": "code",
      "source": [
        "df_hold=pd.read_csv(f'/content/drive/MyDrive/humana_hold_agg.csv/part-00000-79cb42e9-0a1a-4028-baa6-b76a6ebd108f-c000.csv')\n",
        "df_hold.head()"
      ],
      "metadata": {
        "id": "ZeDUbvIug1qq"
      },
      "execution_count": null,
      "outputs": []
    },
    {
      "cell_type": "code",
      "source": [
        "df_claims2021_hold = pd.read_csv('/content/claims_2021_hold.csv')#.drop(['Unnamed: 0', 'dos_year'], axis = 1)\n",
        "df_claims2022_hold = pd.read_csv('/content/claims_2022_hold.csv')#.drop(['Unnamed: 0', 'dos_year'], axis = 1)"
      ],
      "metadata": {
        "id": "KrVIXkfuo-Lk"
      },
      "execution_count": null,
      "outputs": []
    },
    {
      "cell_type": "code",
      "source": [
        "df_claims2021_hold.head()"
      ],
      "metadata": {
        "id": "1z-86sz2pEw8"
      },
      "execution_count": null,
      "outputs": []
    },
    {
      "cell_type": "code",
      "source": [
        "df_agg_hold = df_hold.merge(df_claims2021_hold, how='left', left_on='id', right_on='id').merge(df_claims2022_hold, how='left', left_on='id', right_on='id')#.to_csv('/content/drive/MyDrive/humana_train_agg.csv/humana_train_agg_claims.csv')"
      ],
      "metadata": {
        "id": "rJCnfZhTs14n"
      },
      "execution_count": null,
      "outputs": []
    },
    {
      "cell_type": "code",
      "source": [
        "del df_hold"
      ],
      "metadata": {
        "id": "HcgSlhsPvR1H"
      },
      "execution_count": null,
      "outputs": []
    },
    {
      "cell_type": "code",
      "source": [
        "df_agg_hold.fillna(dict_impute, inplace=True)"
      ],
      "metadata": {
        "id": "7PMnRTS9tGJH"
      },
      "execution_count": null,
      "outputs": []
    },
    {
      "cell_type": "code",
      "source": [
        "for i in lst:\n",
        "  df_agg_hold[i+'_ratio']=df_agg_hold[i+'_comp_cnt']/df_agg_hold[i+'_elig_cnt']"
      ],
      "metadata": {
        "id": "2atqwjaStRXh"
      },
      "execution_count": null,
      "outputs": []
    },
    {
      "cell_type": "code",
      "source": [
        "df_agg_hold.shape"
      ],
      "metadata": {
        "id": "rq33EyypFjLt"
      },
      "execution_count": null,
      "outputs": []
    },
    {
      "cell_type": "code",
      "source": [
        "for i in lst2:\n",
        "  df_agg_hold[i+'_ratio']=df_agg_hold['2022_'+i]/df_agg_hold['2021_'+i]"
      ],
      "metadata": {
        "id": "gOqc-HA0tkfJ"
      },
      "execution_count": null,
      "outputs": []
    },
    {
      "cell_type": "code",
      "source": [
        "for i in [x for x in df_agg.columns if x.endswith('_ratio') and not x.startswith('rwjf')]:\n",
        "  df_agg_hold[i]=df_agg_hold[i].fillna(0)"
      ],
      "metadata": {
        "id": "zOoCAB5fuXYJ"
      },
      "execution_count": null,
      "outputs": []
    },
    {
      "cell_type": "code",
      "source": [
        "for i in [x for x in df_agg.columns if x.endswith('_ratio') and not x.startswith('rwjf')]:\n",
        "  df_agg_hold[i]=df_agg_hold[i].replace(np.inf, 2)"
      ],
      "metadata": {
        "id": "3_fFyRINucHr"
      },
      "execution_count": null,
      "outputs": []
    },
    {
      "cell_type": "code",
      "source": [
        "# categorical=['cms_frailty_ind',\n",
        "#  'dual_eligible_ind',\n",
        "#  'disabled_ind',\n",
        "#  'lis_ind',\n",
        "#  'tenure_band_index',\n",
        "#  'generic_grouper',\n",
        "#  'unattributed_provider',\n",
        "#  'veteran_ind',\n",
        "#  'pbp_segment_id',\n",
        "#  'sex_cd_index',\n",
        "#  'region_index','lang_spoken_cd',\n",
        "#  'rucc_category',\n",
        "#  'riskarr_downside',\n",
        "#  'riskarr_upside',\n",
        "#  'riskarr_rewards',\n",
        "#  'riskarr_global','channelIndex', 'race_index']\n",
        "\n",
        "\n",
        "for i in categorical:\n",
        "  df_agg_hold[i]=df_agg_hold[i].astype('category')"
      ],
      "metadata": {
        "id": "_mF0rTVcd4IB"
      },
      "execution_count": null,
      "outputs": []
    },
    {
      "cell_type": "code",
      "source": [
        "df_agg_hold.fillna(imput_dict, inplace=True)"
      ],
      "metadata": {
        "id": "XVBn0uPCi0nC"
      },
      "execution_count": null,
      "outputs": []
    },
    {
      "cell_type": "code",
      "source": [],
      "metadata": {
        "id": "IrJkTzRausS6"
      },
      "execution_count": null,
      "outputs": []
    },
    {
      "cell_type": "code",
      "source": [
        "# from math import inf\n",
        "# df_hold[df_hold[[x for x in feature_cols if 'ratio' in x]]==np.inf][[x for x in feature_cols if 'ratio' in x]].sum()"
      ],
      "metadata": {
        "collapsed": true,
        "id": "TMNlypC-jQ92"
      },
      "execution_count": null,
      "outputs": []
    },
    {
      "cell_type": "code",
      "source": [
        "'generic_grouper' in df_agg_hold.columns"
      ],
      "metadata": {
        "id": "i7j0kCtpUvmO"
      },
      "execution_count": null,
      "outputs": []
    },
    {
      "cell_type": "code",
      "source": [
        "df_agg_hold['predicted_score']=xgbc_new9.predict_proba(df_agg_hold[feat_cols6])[:,1][:]"
      ],
      "metadata": {
        "id": "BU8J56PwjGtX"
      },
      "execution_count": null,
      "outputs": []
    },
    {
      "cell_type": "code",
      "source": [
        "df_agg_hold_final=df_agg_hold[['id','predicted_score']].sort_values(by='predicted_score', ascending=False).reset_index(drop=True)"
      ],
      "metadata": {
        "id": "PylIsIxxjYd1"
      },
      "execution_count": null,
      "outputs": []
    },
    {
      "cell_type": "code",
      "source": [
        "df_agg_hold_final.to_csv('/content/drive/MyDrive/humana_hold_agg.csv/2024CaseCompetition_Akula_Raahul_20241011.csv')"
      ],
      "metadata": {
        "id": "kTGrUCFiFP92"
      },
      "execution_count": null,
      "outputs": []
    }
  ]
}