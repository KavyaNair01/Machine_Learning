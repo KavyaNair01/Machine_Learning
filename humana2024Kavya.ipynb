{
  "nbformat": 4,
  "nbformat_minor": 0,
  "metadata": {
    "colab": {
      "provenance": [],
      "authorship_tag": "ABX9TyNyi6uW8IFHwx0N5M4kFea7",
      "include_colab_link": true
    },
    "kernelspec": {
      "name": "python3",
      "display_name": "Python 3"
    },
    "language_info": {
      "name": "python"
    }
  },
  "cells": [
    {
      "cell_type": "markdown",
      "metadata": {
        "id": "view-in-github",
        "colab_type": "text"
      },
      "source": [
        "<a href=\"https://colab.research.google.com/github/KavyaNair01/Machine_Learning/blob/main/humana2024Kavya.ipynb\" target=\"_parent\"><img src=\"https://colab.research.google.com/assets/colab-badge.svg\" alt=\"Open In Colab\"/></a>"
      ]
    },
    {
      "cell_type": "code",
      "execution_count": null,
      "metadata": {
        "id": "htiq36T9gQge"
      },
      "outputs": [],
      "source": [
        "import pandas as pd\n",
        "import numpy as np\n"
      ]
    },
    {
      "cell_type": "code",
      "source": [
        "df=pd.read_csv('humana_mays_target_member_visit_claims.csv', low_memory=False)"
      ],
      "metadata": {
        "id": "VxhDQTeNge1B"
      },
      "execution_count": null,
      "outputs": []
    },
    {
      "cell_type": "code",
      "source": [
        "df.head()"
      ],
      "metadata": {
        "colab": {
          "base_uri": "https://localhost:8080/",
          "height": 255
        },
        "id": "PS13732AguPB",
        "outputId": "d22f3ef9-1517-48cd-dfaa-a73452450ad4"
      },
      "execution_count": null,
      "outputs": [
        {
          "output_type": "execute_result",
          "data": {
            "text/plain": [
              "   dos_year  clm_unique_key  serv_date_skey  pcp_visit  annual_wellness  \\\n",
              "0      2021     90000007336        20210105        NaN              NaN   \n",
              "1      2021     90000030533        20210107        NaN              NaN   \n",
              "2      2021     90000039180        20210111        NaN              NaN   \n",
              "3      2021     90000048032        20210112        NaN              NaN   \n",
              "4      2021     90000070091        20210118        NaN              NaN   \n",
              "\n",
              "   humana_paf  preventative_visit  comp_physical_exam  ihwa  fqhc_visit  ...  \\\n",
              "0         NaN                 NaN                 NaN   NaN         NaN  ...   \n",
              "1         NaN                 NaN                 NaN   NaN         NaN  ...   \n",
              "2         NaN                 NaN                 NaN   NaN         NaN  ...   \n",
              "3         NaN                 NaN                 NaN   NaN         NaN  ...   \n",
              "4         NaN                 NaN                 NaN   NaN         NaN  ...   \n",
              "\n",
              "   physical_therapist_visit  cardiologist_visit  gastroenterologist_visit  \\\n",
              "0                       NaN                 NaN                       NaN   \n",
              "1                       1.0                 NaN                       NaN   \n",
              "2                       NaN                 NaN                       NaN   \n",
              "3                       NaN                 1.0                       NaN   \n",
              "4                       NaN                 NaN                       NaN   \n",
              "\n",
              "   orthopedist_visit  obgyn_visit  nephroloogist_visit  pulmonologist_visit  \\\n",
              "0                NaN          NaN                  NaN                  NaN   \n",
              "1                NaN          NaN                  NaN                  NaN   \n",
              "2                NaN          NaN                  NaN                  NaN   \n",
              "3                NaN          NaN                  NaN                  NaN   \n",
              "4                NaN          NaN                  NaN                  NaN   \n",
              "\n",
              "   urgent_care_visit  er_visit       id  \n",
              "0                NaN       NaN   733133  \n",
              "1                NaN       NaN  1296887  \n",
              "2                NaN       NaN  1331806  \n",
              "3                NaN       NaN  1548280  \n",
              "4                NaN       NaN   689644  \n",
              "\n",
              "[5 rows x 27 columns]"
            ],
            "text/html": [
              "\n",
              "  <div id=\"df-2479f802-cae3-4300-b7bb-c7a1d6f74084\" class=\"colab-df-container\">\n",
              "    <div>\n",
              "<style scoped>\n",
              "    .dataframe tbody tr th:only-of-type {\n",
              "        vertical-align: middle;\n",
              "    }\n",
              "\n",
              "    .dataframe tbody tr th {\n",
              "        vertical-align: top;\n",
              "    }\n",
              "\n",
              "    .dataframe thead th {\n",
              "        text-align: right;\n",
              "    }\n",
              "</style>\n",
              "<table border=\"1\" class=\"dataframe\">\n",
              "  <thead>\n",
              "    <tr style=\"text-align: right;\">\n",
              "      <th></th>\n",
              "      <th>dos_year</th>\n",
              "      <th>clm_unique_key</th>\n",
              "      <th>serv_date_skey</th>\n",
              "      <th>pcp_visit</th>\n",
              "      <th>annual_wellness</th>\n",
              "      <th>humana_paf</th>\n",
              "      <th>preventative_visit</th>\n",
              "      <th>comp_physical_exam</th>\n",
              "      <th>ihwa</th>\n",
              "      <th>fqhc_visit</th>\n",
              "      <th>...</th>\n",
              "      <th>physical_therapist_visit</th>\n",
              "      <th>cardiologist_visit</th>\n",
              "      <th>gastroenterologist_visit</th>\n",
              "      <th>orthopedist_visit</th>\n",
              "      <th>obgyn_visit</th>\n",
              "      <th>nephroloogist_visit</th>\n",
              "      <th>pulmonologist_visit</th>\n",
              "      <th>urgent_care_visit</th>\n",
              "      <th>er_visit</th>\n",
              "      <th>id</th>\n",
              "    </tr>\n",
              "  </thead>\n",
              "  <tbody>\n",
              "    <tr>\n",
              "      <th>0</th>\n",
              "      <td>2021</td>\n",
              "      <td>90000007336</td>\n",
              "      <td>20210105</td>\n",
              "      <td>NaN</td>\n",
              "      <td>NaN</td>\n",
              "      <td>NaN</td>\n",
              "      <td>NaN</td>\n",
              "      <td>NaN</td>\n",
              "      <td>NaN</td>\n",
              "      <td>NaN</td>\n",
              "      <td>...</td>\n",
              "      <td>NaN</td>\n",
              "      <td>NaN</td>\n",
              "      <td>NaN</td>\n",
              "      <td>NaN</td>\n",
              "      <td>NaN</td>\n",
              "      <td>NaN</td>\n",
              "      <td>NaN</td>\n",
              "      <td>NaN</td>\n",
              "      <td>NaN</td>\n",
              "      <td>733133</td>\n",
              "    </tr>\n",
              "    <tr>\n",
              "      <th>1</th>\n",
              "      <td>2021</td>\n",
              "      <td>90000030533</td>\n",
              "      <td>20210107</td>\n",
              "      <td>NaN</td>\n",
              "      <td>NaN</td>\n",
              "      <td>NaN</td>\n",
              "      <td>NaN</td>\n",
              "      <td>NaN</td>\n",
              "      <td>NaN</td>\n",
              "      <td>NaN</td>\n",
              "      <td>...</td>\n",
              "      <td>1.0</td>\n",
              "      <td>NaN</td>\n",
              "      <td>NaN</td>\n",
              "      <td>NaN</td>\n",
              "      <td>NaN</td>\n",
              "      <td>NaN</td>\n",
              "      <td>NaN</td>\n",
              "      <td>NaN</td>\n",
              "      <td>NaN</td>\n",
              "      <td>1296887</td>\n",
              "    </tr>\n",
              "    <tr>\n",
              "      <th>2</th>\n",
              "      <td>2021</td>\n",
              "      <td>90000039180</td>\n",
              "      <td>20210111</td>\n",
              "      <td>NaN</td>\n",
              "      <td>NaN</td>\n",
              "      <td>NaN</td>\n",
              "      <td>NaN</td>\n",
              "      <td>NaN</td>\n",
              "      <td>NaN</td>\n",
              "      <td>NaN</td>\n",
              "      <td>...</td>\n",
              "      <td>NaN</td>\n",
              "      <td>NaN</td>\n",
              "      <td>NaN</td>\n",
              "      <td>NaN</td>\n",
              "      <td>NaN</td>\n",
              "      <td>NaN</td>\n",
              "      <td>NaN</td>\n",
              "      <td>NaN</td>\n",
              "      <td>NaN</td>\n",
              "      <td>1331806</td>\n",
              "    </tr>\n",
              "    <tr>\n",
              "      <th>3</th>\n",
              "      <td>2021</td>\n",
              "      <td>90000048032</td>\n",
              "      <td>20210112</td>\n",
              "      <td>NaN</td>\n",
              "      <td>NaN</td>\n",
              "      <td>NaN</td>\n",
              "      <td>NaN</td>\n",
              "      <td>NaN</td>\n",
              "      <td>NaN</td>\n",
              "      <td>NaN</td>\n",
              "      <td>...</td>\n",
              "      <td>NaN</td>\n",
              "      <td>1.0</td>\n",
              "      <td>NaN</td>\n",
              "      <td>NaN</td>\n",
              "      <td>NaN</td>\n",
              "      <td>NaN</td>\n",
              "      <td>NaN</td>\n",
              "      <td>NaN</td>\n",
              "      <td>NaN</td>\n",
              "      <td>1548280</td>\n",
              "    </tr>\n",
              "    <tr>\n",
              "      <th>4</th>\n",
              "      <td>2021</td>\n",
              "      <td>90000070091</td>\n",
              "      <td>20210118</td>\n",
              "      <td>NaN</td>\n",
              "      <td>NaN</td>\n",
              "      <td>NaN</td>\n",
              "      <td>NaN</td>\n",
              "      <td>NaN</td>\n",
              "      <td>NaN</td>\n",
              "      <td>NaN</td>\n",
              "      <td>...</td>\n",
              "      <td>NaN</td>\n",
              "      <td>NaN</td>\n",
              "      <td>NaN</td>\n",
              "      <td>NaN</td>\n",
              "      <td>NaN</td>\n",
              "      <td>NaN</td>\n",
              "      <td>NaN</td>\n",
              "      <td>NaN</td>\n",
              "      <td>NaN</td>\n",
              "      <td>689644</td>\n",
              "    </tr>\n",
              "  </tbody>\n",
              "</table>\n",
              "<p>5 rows × 27 columns</p>\n",
              "</div>\n",
              "    <div class=\"colab-df-buttons\">\n",
              "\n",
              "  <div class=\"colab-df-container\">\n",
              "    <button class=\"colab-df-convert\" onclick=\"convertToInteractive('df-2479f802-cae3-4300-b7bb-c7a1d6f74084')\"\n",
              "            title=\"Convert this dataframe to an interactive table.\"\n",
              "            style=\"display:none;\">\n",
              "\n",
              "  <svg xmlns=\"http://www.w3.org/2000/svg\" height=\"24px\" viewBox=\"0 -960 960 960\">\n",
              "    <path d=\"M120-120v-720h720v720H120Zm60-500h600v-160H180v160Zm220 220h160v-160H400v160Zm0 220h160v-160H400v160ZM180-400h160v-160H180v160Zm440 0h160v-160H620v160ZM180-180h160v-160H180v160Zm440 0h160v-160H620v160Z\"/>\n",
              "  </svg>\n",
              "    </button>\n",
              "\n",
              "  <style>\n",
              "    .colab-df-container {\n",
              "      display:flex;\n",
              "      gap: 12px;\n",
              "    }\n",
              "\n",
              "    .colab-df-convert {\n",
              "      background-color: #E8F0FE;\n",
              "      border: none;\n",
              "      border-radius: 50%;\n",
              "      cursor: pointer;\n",
              "      display: none;\n",
              "      fill: #1967D2;\n",
              "      height: 32px;\n",
              "      padding: 0 0 0 0;\n",
              "      width: 32px;\n",
              "    }\n",
              "\n",
              "    .colab-df-convert:hover {\n",
              "      background-color: #E2EBFA;\n",
              "      box-shadow: 0px 1px 2px rgba(60, 64, 67, 0.3), 0px 1px 3px 1px rgba(60, 64, 67, 0.15);\n",
              "      fill: #174EA6;\n",
              "    }\n",
              "\n",
              "    .colab-df-buttons div {\n",
              "      margin-bottom: 4px;\n",
              "    }\n",
              "\n",
              "    [theme=dark] .colab-df-convert {\n",
              "      background-color: #3B4455;\n",
              "      fill: #D2E3FC;\n",
              "    }\n",
              "\n",
              "    [theme=dark] .colab-df-convert:hover {\n",
              "      background-color: #434B5C;\n",
              "      box-shadow: 0px 1px 3px 1px rgba(0, 0, 0, 0.15);\n",
              "      filter: drop-shadow(0px 1px 2px rgba(0, 0, 0, 0.3));\n",
              "      fill: #FFFFFF;\n",
              "    }\n",
              "  </style>\n",
              "\n",
              "    <script>\n",
              "      const buttonEl =\n",
              "        document.querySelector('#df-2479f802-cae3-4300-b7bb-c7a1d6f74084 button.colab-df-convert');\n",
              "      buttonEl.style.display =\n",
              "        google.colab.kernel.accessAllowed ? 'block' : 'none';\n",
              "\n",
              "      async function convertToInteractive(key) {\n",
              "        const element = document.querySelector('#df-2479f802-cae3-4300-b7bb-c7a1d6f74084');\n",
              "        const dataTable =\n",
              "          await google.colab.kernel.invokeFunction('convertToInteractive',\n",
              "                                                    [key], {});\n",
              "        if (!dataTable) return;\n",
              "\n",
              "        const docLinkHtml = 'Like what you see? Visit the ' +\n",
              "          '<a target=\"_blank\" href=https://colab.research.google.com/notebooks/data_table.ipynb>data table notebook</a>'\n",
              "          + ' to learn more about interactive tables.';\n",
              "        element.innerHTML = '';\n",
              "        dataTable['output_type'] = 'display_data';\n",
              "        await google.colab.output.renderOutput(dataTable, element);\n",
              "        const docLink = document.createElement('div');\n",
              "        docLink.innerHTML = docLinkHtml;\n",
              "        element.appendChild(docLink);\n",
              "      }\n",
              "    </script>\n",
              "  </div>\n",
              "\n",
              "\n",
              "<div id=\"df-718ceaf4-abc6-4e97-96a7-6288d6c3ed5f\">\n",
              "  <button class=\"colab-df-quickchart\" onclick=\"quickchart('df-718ceaf4-abc6-4e97-96a7-6288d6c3ed5f')\"\n",
              "            title=\"Suggest charts\"\n",
              "            style=\"display:none;\">\n",
              "\n",
              "<svg xmlns=\"http://www.w3.org/2000/svg\" height=\"24px\"viewBox=\"0 0 24 24\"\n",
              "     width=\"24px\">\n",
              "    <g>\n",
              "        <path d=\"M19 3H5c-1.1 0-2 .9-2 2v14c0 1.1.9 2 2 2h14c1.1 0 2-.9 2-2V5c0-1.1-.9-2-2-2zM9 17H7v-7h2v7zm4 0h-2V7h2v10zm4 0h-2v-4h2v4z\"/>\n",
              "    </g>\n",
              "</svg>\n",
              "  </button>\n",
              "\n",
              "<style>\n",
              "  .colab-df-quickchart {\n",
              "      --bg-color: #E8F0FE;\n",
              "      --fill-color: #1967D2;\n",
              "      --hover-bg-color: #E2EBFA;\n",
              "      --hover-fill-color: #174EA6;\n",
              "      --disabled-fill-color: #AAA;\n",
              "      --disabled-bg-color: #DDD;\n",
              "  }\n",
              "\n",
              "  [theme=dark] .colab-df-quickchart {\n",
              "      --bg-color: #3B4455;\n",
              "      --fill-color: #D2E3FC;\n",
              "      --hover-bg-color: #434B5C;\n",
              "      --hover-fill-color: #FFFFFF;\n",
              "      --disabled-bg-color: #3B4455;\n",
              "      --disabled-fill-color: #666;\n",
              "  }\n",
              "\n",
              "  .colab-df-quickchart {\n",
              "    background-color: var(--bg-color);\n",
              "    border: none;\n",
              "    border-radius: 50%;\n",
              "    cursor: pointer;\n",
              "    display: none;\n",
              "    fill: var(--fill-color);\n",
              "    height: 32px;\n",
              "    padding: 0;\n",
              "    width: 32px;\n",
              "  }\n",
              "\n",
              "  .colab-df-quickchart:hover {\n",
              "    background-color: var(--hover-bg-color);\n",
              "    box-shadow: 0 1px 2px rgba(60, 64, 67, 0.3), 0 1px 3px 1px rgba(60, 64, 67, 0.15);\n",
              "    fill: var(--button-hover-fill-color);\n",
              "  }\n",
              "\n",
              "  .colab-df-quickchart-complete:disabled,\n",
              "  .colab-df-quickchart-complete:disabled:hover {\n",
              "    background-color: var(--disabled-bg-color);\n",
              "    fill: var(--disabled-fill-color);\n",
              "    box-shadow: none;\n",
              "  }\n",
              "\n",
              "  .colab-df-spinner {\n",
              "    border: 2px solid var(--fill-color);\n",
              "    border-color: transparent;\n",
              "    border-bottom-color: var(--fill-color);\n",
              "    animation:\n",
              "      spin 1s steps(1) infinite;\n",
              "  }\n",
              "\n",
              "  @keyframes spin {\n",
              "    0% {\n",
              "      border-color: transparent;\n",
              "      border-bottom-color: var(--fill-color);\n",
              "      border-left-color: var(--fill-color);\n",
              "    }\n",
              "    20% {\n",
              "      border-color: transparent;\n",
              "      border-left-color: var(--fill-color);\n",
              "      border-top-color: var(--fill-color);\n",
              "    }\n",
              "    30% {\n",
              "      border-color: transparent;\n",
              "      border-left-color: var(--fill-color);\n",
              "      border-top-color: var(--fill-color);\n",
              "      border-right-color: var(--fill-color);\n",
              "    }\n",
              "    40% {\n",
              "      border-color: transparent;\n",
              "      border-right-color: var(--fill-color);\n",
              "      border-top-color: var(--fill-color);\n",
              "    }\n",
              "    60% {\n",
              "      border-color: transparent;\n",
              "      border-right-color: var(--fill-color);\n",
              "    }\n",
              "    80% {\n",
              "      border-color: transparent;\n",
              "      border-right-color: var(--fill-color);\n",
              "      border-bottom-color: var(--fill-color);\n",
              "    }\n",
              "    90% {\n",
              "      border-color: transparent;\n",
              "      border-bottom-color: var(--fill-color);\n",
              "    }\n",
              "  }\n",
              "</style>\n",
              "\n",
              "  <script>\n",
              "    async function quickchart(key) {\n",
              "      const quickchartButtonEl =\n",
              "        document.querySelector('#' + key + ' button');\n",
              "      quickchartButtonEl.disabled = true;  // To prevent multiple clicks.\n",
              "      quickchartButtonEl.classList.add('colab-df-spinner');\n",
              "      try {\n",
              "        const charts = await google.colab.kernel.invokeFunction(\n",
              "            'suggestCharts', [key], {});\n",
              "      } catch (error) {\n",
              "        console.error('Error during call to suggestCharts:', error);\n",
              "      }\n",
              "      quickchartButtonEl.classList.remove('colab-df-spinner');\n",
              "      quickchartButtonEl.classList.add('colab-df-quickchart-complete');\n",
              "    }\n",
              "    (() => {\n",
              "      let quickchartButtonEl =\n",
              "        document.querySelector('#df-718ceaf4-abc6-4e97-96a7-6288d6c3ed5f button');\n",
              "      quickchartButtonEl.style.display =\n",
              "        google.colab.kernel.accessAllowed ? 'block' : 'none';\n",
              "    })();\n",
              "  </script>\n",
              "</div>\n",
              "\n",
              "    </div>\n",
              "  </div>\n"
            ],
            "application/vnd.google.colaboratory.intrinsic+json": {
              "type": "dataframe",
              "variable_name": "df"
            }
          },
          "metadata": {},
          "execution_count": 23
        }
      ]
    },
    {
      "cell_type": "code",
      "source": [
        "df['ihwa'].sum()"
      ],
      "metadata": {
        "colab": {
          "base_uri": "https://localhost:8080/"
        },
        "id": "uXT23Xtvg3jg",
        "outputId": "ba0f478c-9248-404e-e932-4c369e1d181a"
      },
      "execution_count": null,
      "outputs": [
        {
          "output_type": "execute_result",
          "data": {
            "text/plain": [
              "0.0"
            ]
          },
          "metadata": {},
          "execution_count": 32
        }
      ]
    },
    {
      "cell_type": "code",
      "source": [
        "df['serv_date_skey'].min(),df['serv_date_skey'].max()"
      ],
      "metadata": {
        "colab": {
          "base_uri": "https://localhost:8080/"
        },
        "id": "imM98hJ_g8gU",
        "outputId": "72dc9616-5edc-4b7a-8b31-6cbe28a2a97a"
      },
      "execution_count": null,
      "outputs": [
        {
          "output_type": "execute_result",
          "data": {
            "text/plain": [
              "(20210101, 20221231)"
            ]
          },
          "metadata": {},
          "execution_count": 11
        }
      ]
    },
    {
      "cell_type": "code",
      "source": [
        "df['dos_year'].value_counts()"
      ],
      "metadata": {
        "colab": {
          "base_uri": "https://localhost:8080/",
          "height": 178
        },
        "id": "R8Gl7C9CiJJf",
        "outputId": "c044f2b3-7187-4272-8a1c-bd2a1e9b2741"
      },
      "execution_count": null,
      "outputs": [
        {
          "output_type": "execute_result",
          "data": {
            "text/plain": [
              "dos_year\n",
              "2022    1499437\n",
              "2021    1165768\n",
              "Name: count, dtype: int64"
            ],
            "text/html": [
              "<div>\n",
              "<style scoped>\n",
              "    .dataframe tbody tr th:only-of-type {\n",
              "        vertical-align: middle;\n",
              "    }\n",
              "\n",
              "    .dataframe tbody tr th {\n",
              "        vertical-align: top;\n",
              "    }\n",
              "\n",
              "    .dataframe thead th {\n",
              "        text-align: right;\n",
              "    }\n",
              "</style>\n",
              "<table border=\"1\" class=\"dataframe\">\n",
              "  <thead>\n",
              "    <tr style=\"text-align: right;\">\n",
              "      <th></th>\n",
              "      <th>count</th>\n",
              "    </tr>\n",
              "    <tr>\n",
              "      <th>dos_year</th>\n",
              "      <th></th>\n",
              "    </tr>\n",
              "  </thead>\n",
              "  <tbody>\n",
              "    <tr>\n",
              "      <th>2022</th>\n",
              "      <td>1499437</td>\n",
              "    </tr>\n",
              "    <tr>\n",
              "      <th>2021</th>\n",
              "      <td>1165768</td>\n",
              "    </tr>\n",
              "  </tbody>\n",
              "</table>\n",
              "</div><br><label><b>dtype:</b> int64</label>"
            ]
          },
          "metadata": {},
          "execution_count": 14
        }
      ]
    },
    {
      "cell_type": "code",
      "source": [
        "df.replace(to_replace='Y',value=1, inplace=True)"
      ],
      "metadata": {
        "id": "4gJHgBwqkNt9"
      },
      "execution_count": null,
      "outputs": []
    },
    {
      "cell_type": "code",
      "source": [
        "cols=[x for x in df.columns if x not in ['id','dos_year', 'serv_date_skey', 'ihwa']]\n",
        "agg_dict = dict()\n",
        "for i in cols:\n",
        "  if i == 'clm_unique_key':\n",
        "    agg_dict[i] = 'nunique'\n",
        "  else:\n",
        "    agg_dict[i] = 'sum'\n",
        "agg_dict\n"
      ],
      "metadata": {
        "colab": {
          "base_uri": "https://localhost:8080/"
        },
        "id": "Rm_51ibBjRfJ",
        "outputId": "dadb3427-459b-4083-8cde-334a8e88f2d8"
      },
      "execution_count": null,
      "outputs": [
        {
          "output_type": "execute_result",
          "data": {
            "text/plain": [
              "{'clm_unique_key': 'nunique',\n",
              " 'pcp_visit': 'sum',\n",
              " 'annual_wellness': 'sum',\n",
              " 'humana_paf': 'sum',\n",
              " 'preventative_visit': 'sum',\n",
              " 'comp_physical_exam': 'sum',\n",
              " 'fqhc_visit': 'sum',\n",
              " 'telehealth': 'sum',\n",
              " 'endocrinologist_visit': 'sum',\n",
              " 'oncolologist_visit': 'sum',\n",
              " 'radiologist_visit': 'sum',\n",
              " 'podiatrist_visit': 'sum',\n",
              " 'ophthalmologist_visit': 'sum',\n",
              " 'optometrist_visit': 'sum',\n",
              " 'physical_therapist_visit': 'sum',\n",
              " 'cardiologist_visit': 'sum',\n",
              " 'gastroenterologist_visit': 'sum',\n",
              " 'orthopedist_visit': 'sum',\n",
              " 'obgyn_visit': 'sum',\n",
              " 'nephroloogist_visit': 'sum',\n",
              " 'pulmonologist_visit': 'sum',\n",
              " 'urgent_care_visit': 'sum',\n",
              " 'er_visit': 'sum'}"
            ]
          },
          "metadata": {},
          "execution_count": 54
        }
      ]
    },
    {
      "cell_type": "code",
      "source": [
        "df2=df.groupby(['id','dos_year']).agg(agg_dict).reset_index()"
      ],
      "metadata": {
        "id": "We7_VBZqiUfA"
      },
      "execution_count": null,
      "outputs": []
    },
    {
      "cell_type": "code",
      "source": [
        "dct_2021=dict()\n",
        "for i in df2.columns:\n",
        "  if i not in ['id','dos_year']:\n",
        "    dct_2021[i]='2021_'+i\n",
        "dct_2021"
      ],
      "metadata": {
        "colab": {
          "base_uri": "https://localhost:8080/"
        },
        "id": "4fdgzmXbonhp",
        "outputId": "fa657ab4-95ef-41ac-c9c3-96ae525d683a"
      },
      "execution_count": null,
      "outputs": [
        {
          "output_type": "execute_result",
          "data": {
            "text/plain": [
              "{'clm_unique_key': '2021_clm_unique_key',\n",
              " 'pcp_visit': '2021_pcp_visit',\n",
              " 'annual_wellness': '2021_annual_wellness',\n",
              " 'humana_paf': '2021_humana_paf',\n",
              " 'preventative_visit': '2021_preventative_visit',\n",
              " 'comp_physical_exam': '2021_comp_physical_exam',\n",
              " 'fqhc_visit': '2021_fqhc_visit',\n",
              " 'telehealth': '2021_telehealth',\n",
              " 'endocrinologist_visit': '2021_endocrinologist_visit',\n",
              " 'oncolologist_visit': '2021_oncolologist_visit',\n",
              " 'radiologist_visit': '2021_radiologist_visit',\n",
              " 'podiatrist_visit': '2021_podiatrist_visit',\n",
              " 'ophthalmologist_visit': '2021_ophthalmologist_visit',\n",
              " 'optometrist_visit': '2021_optometrist_visit',\n",
              " 'physical_therapist_visit': '2021_physical_therapist_visit',\n",
              " 'cardiologist_visit': '2021_cardiologist_visit',\n",
              " 'gastroenterologist_visit': '2021_gastroenterologist_visit',\n",
              " 'orthopedist_visit': '2021_orthopedist_visit',\n",
              " 'obgyn_visit': '2021_obgyn_visit',\n",
              " 'nephroloogist_visit': '2021_nephroloogist_visit',\n",
              " 'pulmonologist_visit': '2021_pulmonologist_visit',\n",
              " 'urgent_care_visit': '2021_urgent_care_visit',\n",
              " 'er_visit': '2021_er_visit'}"
            ]
          },
          "metadata": {},
          "execution_count": 56
        }
      ]
    },
    {
      "cell_type": "code",
      "source": [
        "df2[df2['dos_year']==2021].rename(columns=dct_2021).to_csv('claims_2021')"
      ],
      "metadata": {
        "id": "ORYzuKHlofQI"
      },
      "execution_count": null,
      "outputs": []
    },
    {
      "cell_type": "code",
      "source": [
        "dct_2022=dict()\n",
        "for i in df2.columns:\n",
        "  if i not in ['id','dos_year']:\n",
        "    dct_2022[i]='2022_'+i\n",
        "dct_2022"
      ],
      "metadata": {
        "colab": {
          "base_uri": "https://localhost:8080/"
        },
        "id": "xuit0Qp2pX5P",
        "outputId": "fd1fbb39-f4f9-4297-91eb-63d3cc4a94af"
      },
      "execution_count": null,
      "outputs": [
        {
          "output_type": "execute_result",
          "data": {
            "text/plain": [
              "{'clm_unique_key': '2022_clm_unique_key',\n",
              " 'pcp_visit': '2022_pcp_visit',\n",
              " 'annual_wellness': '2022_annual_wellness',\n",
              " 'humana_paf': '2022_humana_paf',\n",
              " 'preventative_visit': '2022_preventative_visit',\n",
              " 'comp_physical_exam': '2022_comp_physical_exam',\n",
              " 'fqhc_visit': '2022_fqhc_visit',\n",
              " 'telehealth': '2022_telehealth',\n",
              " 'endocrinologist_visit': '2022_endocrinologist_visit',\n",
              " 'oncolologist_visit': '2022_oncolologist_visit',\n",
              " 'radiologist_visit': '2022_radiologist_visit',\n",
              " 'podiatrist_visit': '2022_podiatrist_visit',\n",
              " 'ophthalmologist_visit': '2022_ophthalmologist_visit',\n",
              " 'optometrist_visit': '2022_optometrist_visit',\n",
              " 'physical_therapist_visit': '2022_physical_therapist_visit',\n",
              " 'cardiologist_visit': '2022_cardiologist_visit',\n",
              " 'gastroenterologist_visit': '2022_gastroenterologist_visit',\n",
              " 'orthopedist_visit': '2022_orthopedist_visit',\n",
              " 'obgyn_visit': '2022_obgyn_visit',\n",
              " 'nephroloogist_visit': '2022_nephroloogist_visit',\n",
              " 'pulmonologist_visit': '2022_pulmonologist_visit',\n",
              " 'urgent_care_visit': '2022_urgent_care_visit',\n",
              " 'er_visit': '2022_er_visit'}"
            ]
          },
          "metadata": {},
          "execution_count": 58
        }
      ]
    },
    {
      "cell_type": "code",
      "source": [
        "df2[df2['dos_year']==2022].rename(columns=dct_2022).to_csv('claims_2022')"
      ],
      "metadata": {
        "id": "mFw1HOLFpTqZ"
      },
      "execution_count": null,
      "outputs": []
    },
    {
      "cell_type": "code",
      "source": [
        "for i in df2.columns:\n",
        "  print(i,df2[i].sum(),df2[i].max())"
      ],
      "metadata": {
        "colab": {
          "base_uri": "https://localhost:8080/"
        },
        "collapsed": true,
        "id": "QIQmMXGWlrt5",
        "outputId": "bf351460-c437-48a1-f336-d64bc4add46d"
      },
      "execution_count": null,
      "outputs": [
        {
          "output_type": "stream",
          "name": "stdout",
          "text": [
            "id 1241916954358 2000000\n",
            "dos_year 2509430758 2022\n",
            "pcp_visit 3592.0 5.0\n",
            "annual_wellness 711.0 2.0\n",
            "humana_paf 342.0 2.0\n",
            "preventative_visit 12611.0 3.0\n",
            "comp_physical_exam 6353.0 3.0\n",
            "ihwa 0.0 0.0\n",
            "fqhc_visit 132.0 3.0\n",
            "telehealth 9813.0 11.0\n",
            "endocrinologist_visit 50283.0 11.0\n",
            "oncolologist_visit 93103.0 36.0\n",
            "radiologist_visit 400805.0 27.0\n",
            "podiatrist_visit 98056.0 17.0\n",
            "ophthalmologist_visit 272229.0 13.0\n",
            "optometrist_visit 163372.0 12.0\n",
            "physical_therapist_visit 164339.0 30.0\n",
            "cardiologist_visit 512118.0 84.0\n",
            "gastroenterologist_visit 109589.0 15.0\n",
            "orthopedist_visit 211381.0 20.0\n",
            "obgyn_visit 45142.0 15.0\n",
            "nephroloogist_visit 81808.0 43.0\n",
            "pulmonologist_visit 86719.0 25.0\n",
            "urgent_care_visit 64116.0 10.0\n",
            "er_visit 314417.0 46.0\n"
          ]
        }
      ]
    },
    {
      "cell_type": "code",
      "source": [
        "df3=pd.read_csv('humana_mays_target_members.csv',low_memory=False)"
      ],
      "metadata": {
        "id": "jwvc4xn2mlzw"
      },
      "execution_count": null,
      "outputs": []
    },
    {
      "cell_type": "code",
      "source": [
        "df3['calendar_year'].value_counts()"
      ],
      "metadata": {
        "colab": {
          "base_uri": "https://localhost:8080/",
          "height": 147
        },
        "id": "Ob-Ar77wnwuP",
        "outputId": "bf894423-369a-48da-f3a9-076b07a2bc56"
      },
      "execution_count": null,
      "outputs": [
        {
          "output_type": "execute_result",
          "data": {
            "text/plain": [
              "calendar_year\n",
              "2023    1527904\n",
              "Name: count, dtype: int64"
            ],
            "text/html": [
              "<div>\n",
              "<style scoped>\n",
              "    .dataframe tbody tr th:only-of-type {\n",
              "        vertical-align: middle;\n",
              "    }\n",
              "\n",
              "    .dataframe tbody tr th {\n",
              "        vertical-align: top;\n",
              "    }\n",
              "\n",
              "    .dataframe thead th {\n",
              "        text-align: right;\n",
              "    }\n",
              "</style>\n",
              "<table border=\"1\" class=\"dataframe\">\n",
              "  <thead>\n",
              "    <tr style=\"text-align: right;\">\n",
              "      <th></th>\n",
              "      <th>count</th>\n",
              "    </tr>\n",
              "    <tr>\n",
              "      <th>calendar_year</th>\n",
              "      <th></th>\n",
              "    </tr>\n",
              "  </thead>\n",
              "  <tbody>\n",
              "    <tr>\n",
              "      <th>2023</th>\n",
              "      <td>1527904</td>\n",
              "    </tr>\n",
              "  </tbody>\n",
              "</table>\n",
              "</div><br><label><b>dtype:</b> int64</label>"
            ]
          },
          "metadata": {},
          "execution_count": 38
        }
      ]
    }
  ]
}