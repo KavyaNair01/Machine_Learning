{
  "cells": [
    {
      "cell_type": "markdown",
      "metadata": {
        "id": "view-in-github",
        "colab_type": "text"
      },
      "source": [
        "<a href=\"https://colab.research.google.com/github/KavyaNair01/Machine_Learning/blob/main/humana2024Kavya.ipynb\" target=\"_parent\"><img src=\"https://colab.research.google.com/assets/colab-badge.svg\" alt=\"Open In Colab\"/></a>"
      ]
    },
    {
      "cell_type": "code",
      "execution_count": 6,
      "metadata": {
        "id": "htiq36T9gQge"
      },
      "outputs": [],
      "source": [
        "import pandas as pd\n",
        "import numpy as np\n",
        "\n"
      ]
    },
    {
      "cell_type": "code",
      "execution_count": 47,
      "metadata": {
        "colab": {
          "base_uri": "https://localhost:8080/"
        },
        "id": "CnO2wEMj5AnQ",
        "outputId": "414f5b4b-5084-4d00-f640-536e34c094aa"
      },
      "outputs": [
        {
          "output_type": "stream",
          "name": "stdout",
          "text": [
            "root\n",
            " |-- dos_year: string (nullable = true)\n",
            " |-- clm_unique_key: string (nullable = true)\n",
            " |-- serv_date_skey: string (nullable = true)\n",
            " |-- pcp_visit: string (nullable = true)\n",
            " |-- annual_wellness: string (nullable = true)\n",
            " |-- humana_paf: string (nullable = true)\n",
            " |-- preventative_visit: string (nullable = true)\n",
            " |-- comp_physical_exam: string (nullable = true)\n",
            " |-- ihwa: string (nullable = true)\n",
            " |-- fqhc_visit: string (nullable = true)\n",
            " |-- telehealth: string (nullable = true)\n",
            " |-- endocrinologist_visit: string (nullable = true)\n",
            " |-- oncolologist_visit: string (nullable = true)\n",
            " |-- radiologist_visit: string (nullable = true)\n",
            " |-- podiatrist_visit: string (nullable = true)\n",
            " |-- ophthalmologist_visit: string (nullable = true)\n",
            " |-- optometrist_visit: string (nullable = true)\n",
            " |-- physical_therapist_visit: string (nullable = true)\n",
            " |-- cardiologist_visit: string (nullable = true)\n",
            " |-- gastroenterologist_visit: string (nullable = true)\n",
            " |-- orthopedist_visit: string (nullable = true)\n",
            " |-- obgyn_visit: string (nullable = true)\n",
            " |-- nephroloogist_visit: string (nullable = true)\n",
            " |-- pulmonologist_visit: string (nullable = true)\n",
            " |-- urgent_care_visit: string (nullable = true)\n",
            " |-- er_visit: string (nullable = true)\n",
            " |-- id: string (nullable = true)\n",
            "\n"
          ]
        }
      ],
      "source": [
        "from pyspark.sql import SparkSession\n",
        "\n",
        "# Create SparkSession\n",
        "spark = SparkSession.builder.master(\"local[1]\").appName(\"SparkByExamples.com\").getOrCreate()\n",
        "\n",
        "# Read CSV File\n",
        "df = spark.read.option(\"header\",True).csv(\"humana_mays_target_member_visit_claims.csv\",)\n",
        "df.printSchema()"
      ]
    },
    {
      "cell_type": "code",
      "source": [
        "df.show()"
      ],
      "metadata": {
        "colab": {
          "base_uri": "https://localhost:8080/"
        },
        "id": "Zt7LtmFu_E8q",
        "outputId": "145cd831-441f-4f2d-cb03-ef7787df5e91"
      },
      "execution_count": 42,
      "outputs": [
        {
          "output_type": "stream",
          "name": "stdout",
          "text": [
            "+--------+--------------+--------------+---------+---------------+----------+------------------+------------------+----+----------+----------+---------------------+------------------+-----------------+----------------+---------------------+-----------------+------------------------+------------------+------------------------+-----------------+-----------+-------------------+-------------------+-----------------+--------+-------+\n",
            "|dos_year|clm_unique_key|serv_date_skey|pcp_visit|annual_wellness|humana_paf|preventative_visit|comp_physical_exam|ihwa|fqhc_visit|telehealth|endocrinologist_visit|oncolologist_visit|radiologist_visit|podiatrist_visit|ophthalmologist_visit|optometrist_visit|physical_therapist_visit|cardiologist_visit|gastroenterologist_visit|orthopedist_visit|obgyn_visit|nephroloogist_visit|pulmonologist_visit|urgent_care_visit|er_visit|     id|\n",
            "+--------+--------------+--------------+---------+---------------+----------+------------------+------------------+----+----------+----------+---------------------+------------------+-----------------+----------------+---------------------+-----------------+------------------------+------------------+------------------------+-----------------+-----------+-------------------+-------------------+-----------------+--------+-------+\n",
            "|    2021|   90000007336|      20210105|     NULL|           NULL|      NULL|              NULL|              NULL|NULL|      NULL|      NULL|                 NULL|              NULL|             NULL|            NULL|                    Y|             NULL|                    NULL|              NULL|                    NULL|             NULL|       NULL|               NULL|               NULL|             NULL|    NULL| 733133|\n",
            "|    2021|   90000030533|      20210107|     NULL|           NULL|      NULL|              NULL|              NULL|NULL|      NULL|      NULL|                 NULL|              NULL|             NULL|            NULL|                 NULL|             NULL|                       Y|              NULL|                    NULL|             NULL|       NULL|               NULL|               NULL|             NULL|    NULL|1296887|\n",
            "|    2021|   90000039180|      20210111|     NULL|           NULL|      NULL|              NULL|              NULL|NULL|      NULL|      NULL|                 NULL|              NULL|             NULL|            NULL|                    Y|             NULL|                    NULL|              NULL|                    NULL|             NULL|       NULL|               NULL|               NULL|             NULL|    NULL|1331806|\n",
            "|    2021|   90000048032|      20210112|     NULL|           NULL|      NULL|              NULL|              NULL|NULL|      NULL|      NULL|                 NULL|              NULL|             NULL|            NULL|                 NULL|             NULL|                    NULL|                 Y|                    NULL|             NULL|       NULL|               NULL|               NULL|             NULL|    NULL|1548280|\n",
            "|    2021|   90000070091|      20210118|     NULL|           NULL|      NULL|              NULL|              NULL|NULL|      NULL|      NULL|                 NULL|              NULL|             NULL|            NULL|                    Y|             NULL|                    NULL|              NULL|                    NULL|             NULL|       NULL|               NULL|               NULL|             NULL|    NULL| 689644|\n",
            "|    2021|   90000076209|      20210113|     NULL|           NULL|      NULL|              NULL|              NULL|NULL|      NULL|      NULL|                 NULL|              NULL|             NULL|            NULL|                 NULL|             NULL|                       Y|              NULL|                    NULL|             NULL|       NULL|               NULL|               NULL|             NULL|    NULL| 535795|\n",
            "|    2021|   90000117406|      20210116|     NULL|           NULL|      NULL|              NULL|              NULL|NULL|      NULL|      NULL|                 NULL|              NULL|             NULL|            NULL|                 NULL|             NULL|                    NULL|              NULL|                    NULL|             NULL|       NULL|               NULL|               NULL|             NULL|       Y|1809363|\n",
            "|    2021|   90000167054|      20210202|     NULL|           NULL|      NULL|              NULL|              NULL|NULL|      NULL|      NULL|                 NULL|              NULL|             NULL|            NULL|                    Y|             NULL|                    NULL|              NULL|                    NULL|             NULL|       NULL|               NULL|               NULL|             NULL|    NULL|1643047|\n",
            "|    2021|   90000267295|      20210210|     NULL|           NULL|      NULL|              NULL|              NULL|NULL|      NULL|      NULL|                 NULL|              NULL|             NULL|            NULL|                 NULL|             NULL|                    NULL|              NULL|                    NULL|             NULL|       NULL|               NULL|                  Y|             NULL|    NULL| 678864|\n",
            "|    2021|   90000325408|      20210201|     NULL|           NULL|      NULL|              NULL|              NULL|NULL|      NULL|      NULL|                 NULL|                 Y|             NULL|            NULL|                 NULL|             NULL|                    NULL|              NULL|                    NULL|             NULL|       NULL|               NULL|               NULL|             NULL|    NULL| 422607|\n",
            "|    2021|   90000325454|      20210205|     NULL|           NULL|      NULL|              NULL|              NULL|NULL|      NULL|      NULL|                 NULL|              NULL|             NULL|            NULL|                 NULL|             NULL|                    NULL|              NULL|                       Y|             NULL|       NULL|               NULL|               NULL|             NULL|    NULL| 335330|\n",
            "|    2021|   90000537777|      20210223|     NULL|           NULL|      NULL|              NULL|              NULL|NULL|      NULL|      NULL|                 NULL|              NULL|             NULL|            NULL|                 NULL|             NULL|                    NULL|              NULL|                    NULL|             NULL|       NULL|               NULL|               NULL|                Y|    NULL|1696923|\n",
            "|    2021|   90000554818|      20210303|     NULL|           NULL|      NULL|              NULL|              NULL|NULL|      NULL|      NULL|                 NULL|                 Y|             NULL|            NULL|                 NULL|             NULL|                    NULL|              NULL|                    NULL|             NULL|       NULL|               NULL|               NULL|             NULL|    NULL|1840799|\n",
            "|    2021|   90000568291|      20210303|     NULL|           NULL|      NULL|              NULL|              NULL|NULL|      NULL|      NULL|                 NULL|              NULL|             NULL|            NULL|                 NULL|             NULL|                    NULL|              NULL|                    NULL|                Y|       NULL|               NULL|               NULL|             NULL|    NULL|1833489|\n",
            "|    2021|   90000600154|      20210211|     NULL|           NULL|      NULL|              NULL|              NULL|NULL|      NULL|      NULL|                 NULL|              NULL|             NULL|            NULL|                 NULL|             NULL|                    NULL|                 Y|                    NULL|             NULL|       NULL|               NULL|               NULL|             NULL|    NULL|1639672|\n",
            "|    2021|   90000643987|      20210308|     NULL|           NULL|      NULL|              NULL|              NULL|NULL|      NULL|      NULL|                 NULL|              NULL|             NULL|            NULL|                 NULL|                Y|                    NULL|              NULL|                    NULL|             NULL|       NULL|               NULL|               NULL|             NULL|    NULL|1784611|\n",
            "|    2021|   90000999907|      20210309|     NULL|           NULL|      NULL|              NULL|              NULL|NULL|      NULL|      NULL|                 NULL|              NULL|             NULL|            NULL|                 NULL|             NULL|                    NULL|              NULL|                       Y|             NULL|       NULL|               NULL|               NULL|             NULL|    NULL| 597593|\n",
            "|    2021|   90001000129|      20210223|     NULL|           NULL|      NULL|              NULL|              NULL|NULL|      NULL|      NULL|                 NULL|                 Y|             NULL|            NULL|                 NULL|             NULL|                    NULL|              NULL|                    NULL|             NULL|       NULL|               NULL|               NULL|             NULL|    NULL|1883475|\n",
            "|    2021|   90001064588|      20210313|     NULL|           NULL|      NULL|              NULL|              NULL|NULL|      NULL|      NULL|                 NULL|              NULL|             NULL|            NULL|                 NULL|             NULL|                    NULL|              NULL|                    NULL|             NULL|       NULL|               NULL|               NULL|             NULL|       Y| 429147|\n",
            "|    2021|   90001065502|      20210311|     NULL|           NULL|      NULL|              NULL|              NULL|NULL|      NULL|      NULL|                 NULL|              NULL|             NULL|            NULL|                 NULL|             NULL|                    NULL|                 Y|                    NULL|             NULL|       NULL|               NULL|               NULL|             NULL|    NULL| 663402|\n",
            "+--------+--------------+--------------+---------+---------------+----------+------------------+------------------+----+----------+----------+---------------------+------------------+-----------------+----------------+---------------------+-----------------+------------------------+------------------+------------------------+-----------------+-----------+-------------------+-------------------+-----------------+--------+-------+\n",
            "only showing top 20 rows\n",
            "\n"
          ]
        }
      ]
    },
    {
      "cell_type": "code",
      "execution_count": 18,
      "metadata": {
        "id": "VxhDQTeNge1B",
        "colab": {
          "base_uri": "https://localhost:8080/"
        },
        "outputId": "d477c19b-cb0d-450d-f2cb-ccefb465d1a9"
      },
      "outputs": [
        {
          "output_type": "execute_result",
          "data": {
            "text/plain": [
              "[('dos_year', 'string'),\n",
              " ('clm_unique_key', 'string'),\n",
              " ('serv_date_skey', 'string'),\n",
              " ('pcp_visit', 'string'),\n",
              " ('annual_wellness', 'string'),\n",
              " ('humana_paf', 'string'),\n",
              " ('preventative_visit', 'string'),\n",
              " ('comp_physical_exam', 'string'),\n",
              " ('ihwa', 'string'),\n",
              " ('fqhc_visit', 'string'),\n",
              " ('telehealth', 'string'),\n",
              " ('endocrinologist_visit', 'string'),\n",
              " ('oncolologist_visit', 'string'),\n",
              " ('radiologist_visit', 'string'),\n",
              " ('podiatrist_visit', 'string'),\n",
              " ('ophthalmologist_visit', 'string'),\n",
              " ('optometrist_visit', 'string'),\n",
              " ('physical_therapist_visit', 'string'),\n",
              " ('cardiologist_visit', 'string'),\n",
              " ('gastroenterologist_visit', 'string'),\n",
              " ('orthopedist_visit', 'string'),\n",
              " ('obgyn_visit', 'string'),\n",
              " ('nephroloogist_visit', 'string'),\n",
              " ('pulmonologist_visit', 'string'),\n",
              " ('urgent_care_visit', 'string'),\n",
              " ('er_visit', 'string'),\n",
              " ('id', 'string')]"
            ]
          },
          "metadata": {},
          "execution_count": 18
        }
      ],
      "source": [
        "df.dtypes"
      ]
    },
    {
      "cell_type": "code",
      "source": [
        "df.replace(to_replace='Y',value='1.0')"
      ],
      "metadata": {
        "colab": {
          "base_uri": "https://localhost:8080/"
        },
        "id": "XZC7QsofDcw8",
        "outputId": "7a41d2c4-1f1c-484a-da21-3c30ceb1e5ba"
      },
      "execution_count": 43,
      "outputs": [
        {
          "output_type": "execute_result",
          "data": {
            "text/plain": [
              "DataFrame[dos_year: string, clm_unique_key: string, serv_date_skey: string, pcp_visit: string, annual_wellness: string, humana_paf: string, preventative_visit: string, comp_physical_exam: string, ihwa: string, fqhc_visit: string, telehealth: string, endocrinologist_visit: string, oncolologist_visit: string, radiologist_visit: string, podiatrist_visit: string, ophthalmologist_visit: string, optometrist_visit: string, physical_therapist_visit: string, cardiologist_visit: string, gastroenterologist_visit: string, orthopedist_visit: string, obgyn_visit: string, nephroloogist_visit: string, pulmonologist_visit: string, urgent_care_visit: string, er_visit: string, id: string]"
            ]
          },
          "metadata": {},
          "execution_count": 43
        }
      ]
    },
    {
      "cell_type": "code",
      "source": [
        "df.show()"
      ],
      "metadata": {
        "colab": {
          "base_uri": "https://localhost:8080/"
        },
        "id": "SdpcgVUpGVxo",
        "outputId": "cdd85dd6-9c6c-41f3-d14d-12ddcc106db7"
      },
      "execution_count": 44,
      "outputs": [
        {
          "output_type": "stream",
          "name": "stdout",
          "text": [
            "+--------+--------------+--------------+---------+---------------+----------+------------------+------------------+----+----------+----------+---------------------+------------------+-----------------+----------------+---------------------+-----------------+------------------------+------------------+------------------------+-----------------+-----------+-------------------+-------------------+-----------------+--------+-------+\n",
            "|dos_year|clm_unique_key|serv_date_skey|pcp_visit|annual_wellness|humana_paf|preventative_visit|comp_physical_exam|ihwa|fqhc_visit|telehealth|endocrinologist_visit|oncolologist_visit|radiologist_visit|podiatrist_visit|ophthalmologist_visit|optometrist_visit|physical_therapist_visit|cardiologist_visit|gastroenterologist_visit|orthopedist_visit|obgyn_visit|nephroloogist_visit|pulmonologist_visit|urgent_care_visit|er_visit|     id|\n",
            "+--------+--------------+--------------+---------+---------------+----------+------------------+------------------+----+----------+----------+---------------------+------------------+-----------------+----------------+---------------------+-----------------+------------------------+------------------+------------------------+-----------------+-----------+-------------------+-------------------+-----------------+--------+-------+\n",
            "|    2021|   90000007336|      20210105|     NULL|           NULL|      NULL|              NULL|              NULL|NULL|      NULL|      NULL|                 NULL|              NULL|             NULL|            NULL|                    Y|             NULL|                    NULL|              NULL|                    NULL|             NULL|       NULL|               NULL|               NULL|             NULL|    NULL| 733133|\n",
            "|    2021|   90000030533|      20210107|     NULL|           NULL|      NULL|              NULL|              NULL|NULL|      NULL|      NULL|                 NULL|              NULL|             NULL|            NULL|                 NULL|             NULL|                       Y|              NULL|                    NULL|             NULL|       NULL|               NULL|               NULL|             NULL|    NULL|1296887|\n",
            "|    2021|   90000039180|      20210111|     NULL|           NULL|      NULL|              NULL|              NULL|NULL|      NULL|      NULL|                 NULL|              NULL|             NULL|            NULL|                    Y|             NULL|                    NULL|              NULL|                    NULL|             NULL|       NULL|               NULL|               NULL|             NULL|    NULL|1331806|\n",
            "|    2021|   90000048032|      20210112|     NULL|           NULL|      NULL|              NULL|              NULL|NULL|      NULL|      NULL|                 NULL|              NULL|             NULL|            NULL|                 NULL|             NULL|                    NULL|                 Y|                    NULL|             NULL|       NULL|               NULL|               NULL|             NULL|    NULL|1548280|\n",
            "|    2021|   90000070091|      20210118|     NULL|           NULL|      NULL|              NULL|              NULL|NULL|      NULL|      NULL|                 NULL|              NULL|             NULL|            NULL|                    Y|             NULL|                    NULL|              NULL|                    NULL|             NULL|       NULL|               NULL|               NULL|             NULL|    NULL| 689644|\n",
            "|    2021|   90000076209|      20210113|     NULL|           NULL|      NULL|              NULL|              NULL|NULL|      NULL|      NULL|                 NULL|              NULL|             NULL|            NULL|                 NULL|             NULL|                       Y|              NULL|                    NULL|             NULL|       NULL|               NULL|               NULL|             NULL|    NULL| 535795|\n",
            "|    2021|   90000117406|      20210116|     NULL|           NULL|      NULL|              NULL|              NULL|NULL|      NULL|      NULL|                 NULL|              NULL|             NULL|            NULL|                 NULL|             NULL|                    NULL|              NULL|                    NULL|             NULL|       NULL|               NULL|               NULL|             NULL|       Y|1809363|\n",
            "|    2021|   90000167054|      20210202|     NULL|           NULL|      NULL|              NULL|              NULL|NULL|      NULL|      NULL|                 NULL|              NULL|             NULL|            NULL|                    Y|             NULL|                    NULL|              NULL|                    NULL|             NULL|       NULL|               NULL|               NULL|             NULL|    NULL|1643047|\n",
            "|    2021|   90000267295|      20210210|     NULL|           NULL|      NULL|              NULL|              NULL|NULL|      NULL|      NULL|                 NULL|              NULL|             NULL|            NULL|                 NULL|             NULL|                    NULL|              NULL|                    NULL|             NULL|       NULL|               NULL|                  Y|             NULL|    NULL| 678864|\n",
            "|    2021|   90000325408|      20210201|     NULL|           NULL|      NULL|              NULL|              NULL|NULL|      NULL|      NULL|                 NULL|                 Y|             NULL|            NULL|                 NULL|             NULL|                    NULL|              NULL|                    NULL|             NULL|       NULL|               NULL|               NULL|             NULL|    NULL| 422607|\n",
            "|    2021|   90000325454|      20210205|     NULL|           NULL|      NULL|              NULL|              NULL|NULL|      NULL|      NULL|                 NULL|              NULL|             NULL|            NULL|                 NULL|             NULL|                    NULL|              NULL|                       Y|             NULL|       NULL|               NULL|               NULL|             NULL|    NULL| 335330|\n",
            "|    2021|   90000537777|      20210223|     NULL|           NULL|      NULL|              NULL|              NULL|NULL|      NULL|      NULL|                 NULL|              NULL|             NULL|            NULL|                 NULL|             NULL|                    NULL|              NULL|                    NULL|             NULL|       NULL|               NULL|               NULL|                Y|    NULL|1696923|\n",
            "|    2021|   90000554818|      20210303|     NULL|           NULL|      NULL|              NULL|              NULL|NULL|      NULL|      NULL|                 NULL|                 Y|             NULL|            NULL|                 NULL|             NULL|                    NULL|              NULL|                    NULL|             NULL|       NULL|               NULL|               NULL|             NULL|    NULL|1840799|\n",
            "|    2021|   90000568291|      20210303|     NULL|           NULL|      NULL|              NULL|              NULL|NULL|      NULL|      NULL|                 NULL|              NULL|             NULL|            NULL|                 NULL|             NULL|                    NULL|              NULL|                    NULL|                Y|       NULL|               NULL|               NULL|             NULL|    NULL|1833489|\n",
            "|    2021|   90000600154|      20210211|     NULL|           NULL|      NULL|              NULL|              NULL|NULL|      NULL|      NULL|                 NULL|              NULL|             NULL|            NULL|                 NULL|             NULL|                    NULL|                 Y|                    NULL|             NULL|       NULL|               NULL|               NULL|             NULL|    NULL|1639672|\n",
            "|    2021|   90000643987|      20210308|     NULL|           NULL|      NULL|              NULL|              NULL|NULL|      NULL|      NULL|                 NULL|              NULL|             NULL|            NULL|                 NULL|                Y|                    NULL|              NULL|                    NULL|             NULL|       NULL|               NULL|               NULL|             NULL|    NULL|1784611|\n",
            "|    2021|   90000999907|      20210309|     NULL|           NULL|      NULL|              NULL|              NULL|NULL|      NULL|      NULL|                 NULL|              NULL|             NULL|            NULL|                 NULL|             NULL|                    NULL|              NULL|                       Y|             NULL|       NULL|               NULL|               NULL|             NULL|    NULL| 597593|\n",
            "|    2021|   90001000129|      20210223|     NULL|           NULL|      NULL|              NULL|              NULL|NULL|      NULL|      NULL|                 NULL|                 Y|             NULL|            NULL|                 NULL|             NULL|                    NULL|              NULL|                    NULL|             NULL|       NULL|               NULL|               NULL|             NULL|    NULL|1883475|\n",
            "|    2021|   90001064588|      20210313|     NULL|           NULL|      NULL|              NULL|              NULL|NULL|      NULL|      NULL|                 NULL|              NULL|             NULL|            NULL|                 NULL|             NULL|                    NULL|              NULL|                    NULL|             NULL|       NULL|               NULL|               NULL|             NULL|       Y| 429147|\n",
            "|    2021|   90001065502|      20210311|     NULL|           NULL|      NULL|              NULL|              NULL|NULL|      NULL|      NULL|                 NULL|              NULL|             NULL|            NULL|                 NULL|             NULL|                    NULL|                 Y|                    NULL|             NULL|       NULL|               NULL|               NULL|             NULL|    NULL| 663402|\n",
            "+--------+--------------+--------------+---------+---------------+----------+------------------+------------------+----+----------+----------+---------------------+------------------+-----------------+----------------+---------------------+-----------------+------------------------+------------------+------------------------+-----------------+-----------+-------------------+-------------------+-----------------+--------+-------+\n",
            "only showing top 20 rows\n",
            "\n"
          ]
        }
      ]
    },
    {
      "cell_type": "code",
      "source": [
        "df.columns"
      ],
      "metadata": {
        "colab": {
          "base_uri": "https://localhost:8080/"
        },
        "collapsed": true,
        "id": "jlCdga1cEIMv",
        "outputId": "3cddb766-9335-4951-be06-e19e28721d7f"
      },
      "execution_count": 21,
      "outputs": [
        {
          "output_type": "execute_result",
          "data": {
            "text/plain": [
              "['dos_year',\n",
              " 'clm_unique_key',\n",
              " 'serv_date_skey',\n",
              " 'pcp_visit',\n",
              " 'annual_wellness',\n",
              " 'humana_paf',\n",
              " 'preventative_visit',\n",
              " 'comp_physical_exam',\n",
              " 'ihwa',\n",
              " 'fqhc_visit',\n",
              " 'telehealth',\n",
              " 'endocrinologist_visit',\n",
              " 'oncolologist_visit',\n",
              " 'radiologist_visit',\n",
              " 'podiatrist_visit',\n",
              " 'ophthalmologist_visit',\n",
              " 'optometrist_visit',\n",
              " 'physical_therapist_visit',\n",
              " 'cardiologist_visit',\n",
              " 'gastroenterologist_visit',\n",
              " 'orthopedist_visit',\n",
              " 'obgyn_visit',\n",
              " 'nephroloogist_visit',\n",
              " 'pulmonologist_visit',\n",
              " 'urgent_care_visit',\n",
              " 'er_visit',\n",
              " 'id']"
            ]
          },
          "metadata": {},
          "execution_count": 21
        }
      ]
    },
    {
      "cell_type": "code",
      "source": [
        "from pyspark.sql.types import IntegerType, StringType, DoubleType, LongType, BooleanType\n",
        "from pyspark.sql.functions import col\n",
        "new_data_types={}\n",
        "for i in df.columns:\n",
        "  if i in ['dos_year','id','clm_unique_key','serv_date_skey']:\n",
        "    new_data_types[i]=LongType()\n",
        "  else:\n",
        "    new_data_types[i]=BooleanType()\n",
        "\n",
        "# Iterate through columns and apply cast\n",
        "for column_name, new_type in new_data_types.items():\n",
        "    df = df.withColumn(column_name, col(column_name).cast(new_type))\n",
        "\n",
        "df.printSchema()"
      ],
      "metadata": {
        "colab": {
          "base_uri": "https://localhost:8080/"
        },
        "id": "fUy_AMwGEAVp",
        "outputId": "2ee2af35-8ce2-4d21-e977-8396552e7d04"
      },
      "execution_count": 48,
      "outputs": [
        {
          "output_type": "stream",
          "name": "stdout",
          "text": [
            "root\n",
            " |-- dos_year: long (nullable = true)\n",
            " |-- clm_unique_key: long (nullable = true)\n",
            " |-- serv_date_skey: long (nullable = true)\n",
            " |-- pcp_visit: boolean (nullable = true)\n",
            " |-- annual_wellness: boolean (nullable = true)\n",
            " |-- humana_paf: boolean (nullable = true)\n",
            " |-- preventative_visit: boolean (nullable = true)\n",
            " |-- comp_physical_exam: boolean (nullable = true)\n",
            " |-- ihwa: boolean (nullable = true)\n",
            " |-- fqhc_visit: boolean (nullable = true)\n",
            " |-- telehealth: boolean (nullable = true)\n",
            " |-- endocrinologist_visit: boolean (nullable = true)\n",
            " |-- oncolologist_visit: boolean (nullable = true)\n",
            " |-- radiologist_visit: boolean (nullable = true)\n",
            " |-- podiatrist_visit: boolean (nullable = true)\n",
            " |-- ophthalmologist_visit: boolean (nullable = true)\n",
            " |-- optometrist_visit: boolean (nullable = true)\n",
            " |-- physical_therapist_visit: boolean (nullable = true)\n",
            " |-- cardiologist_visit: boolean (nullable = true)\n",
            " |-- gastroenterologist_visit: boolean (nullable = true)\n",
            " |-- orthopedist_visit: boolean (nullable = true)\n",
            " |-- obgyn_visit: boolean (nullable = true)\n",
            " |-- nephroloogist_visit: boolean (nullable = true)\n",
            " |-- pulmonologist_visit: boolean (nullable = true)\n",
            " |-- urgent_care_visit: boolean (nullable = true)\n",
            " |-- er_visit: boolean (nullable = true)\n",
            " |-- id: long (nullable = true)\n",
            "\n"
          ]
        }
      ]
    },
    {
      "cell_type": "code",
      "source": [
        "df.show()"
      ],
      "metadata": {
        "colab": {
          "base_uri": "https://localhost:8080/"
        },
        "id": "1x_xwNlVEnKQ",
        "outputId": "2a3bfa89-9bc4-4452-b2ec-e6d51051f89b"
      },
      "execution_count": 49,
      "outputs": [
        {
          "output_type": "stream",
          "name": "stdout",
          "text": [
            "+--------+--------------+--------------+---------+---------------+----------+------------------+------------------+----+----------+----------+---------------------+------------------+-----------------+----------------+---------------------+-----------------+------------------------+------------------+------------------------+-----------------+-----------+-------------------+-------------------+-----------------+--------+-------+\n",
            "|dos_year|clm_unique_key|serv_date_skey|pcp_visit|annual_wellness|humana_paf|preventative_visit|comp_physical_exam|ihwa|fqhc_visit|telehealth|endocrinologist_visit|oncolologist_visit|radiologist_visit|podiatrist_visit|ophthalmologist_visit|optometrist_visit|physical_therapist_visit|cardiologist_visit|gastroenterologist_visit|orthopedist_visit|obgyn_visit|nephroloogist_visit|pulmonologist_visit|urgent_care_visit|er_visit|     id|\n",
            "+--------+--------------+--------------+---------+---------------+----------+------------------+------------------+----+----------+----------+---------------------+------------------+-----------------+----------------+---------------------+-----------------+------------------------+------------------+------------------------+-----------------+-----------+-------------------+-------------------+-----------------+--------+-------+\n",
            "|    2021|   90000007336|      20210105|     NULL|           NULL|      NULL|              NULL|              NULL|NULL|      NULL|      NULL|                 NULL|              NULL|             NULL|            NULL|                 true|             NULL|                    NULL|              NULL|                    NULL|             NULL|       NULL|               NULL|               NULL|             NULL|    NULL| 733133|\n",
            "|    2021|   90000030533|      20210107|     NULL|           NULL|      NULL|              NULL|              NULL|NULL|      NULL|      NULL|                 NULL|              NULL|             NULL|            NULL|                 NULL|             NULL|                    true|              NULL|                    NULL|             NULL|       NULL|               NULL|               NULL|             NULL|    NULL|1296887|\n",
            "|    2021|   90000039180|      20210111|     NULL|           NULL|      NULL|              NULL|              NULL|NULL|      NULL|      NULL|                 NULL|              NULL|             NULL|            NULL|                 true|             NULL|                    NULL|              NULL|                    NULL|             NULL|       NULL|               NULL|               NULL|             NULL|    NULL|1331806|\n",
            "|    2021|   90000048032|      20210112|     NULL|           NULL|      NULL|              NULL|              NULL|NULL|      NULL|      NULL|                 NULL|              NULL|             NULL|            NULL|                 NULL|             NULL|                    NULL|              true|                    NULL|             NULL|       NULL|               NULL|               NULL|             NULL|    NULL|1548280|\n",
            "|    2021|   90000070091|      20210118|     NULL|           NULL|      NULL|              NULL|              NULL|NULL|      NULL|      NULL|                 NULL|              NULL|             NULL|            NULL|                 true|             NULL|                    NULL|              NULL|                    NULL|             NULL|       NULL|               NULL|               NULL|             NULL|    NULL| 689644|\n",
            "|    2021|   90000076209|      20210113|     NULL|           NULL|      NULL|              NULL|              NULL|NULL|      NULL|      NULL|                 NULL|              NULL|             NULL|            NULL|                 NULL|             NULL|                    true|              NULL|                    NULL|             NULL|       NULL|               NULL|               NULL|             NULL|    NULL| 535795|\n",
            "|    2021|   90000117406|      20210116|     NULL|           NULL|      NULL|              NULL|              NULL|NULL|      NULL|      NULL|                 NULL|              NULL|             NULL|            NULL|                 NULL|             NULL|                    NULL|              NULL|                    NULL|             NULL|       NULL|               NULL|               NULL|             NULL|    true|1809363|\n",
            "|    2021|   90000167054|      20210202|     NULL|           NULL|      NULL|              NULL|              NULL|NULL|      NULL|      NULL|                 NULL|              NULL|             NULL|            NULL|                 true|             NULL|                    NULL|              NULL|                    NULL|             NULL|       NULL|               NULL|               NULL|             NULL|    NULL|1643047|\n",
            "|    2021|   90000267295|      20210210|     NULL|           NULL|      NULL|              NULL|              NULL|NULL|      NULL|      NULL|                 NULL|              NULL|             NULL|            NULL|                 NULL|             NULL|                    NULL|              NULL|                    NULL|             NULL|       NULL|               NULL|               true|             NULL|    NULL| 678864|\n",
            "|    2021|   90000325408|      20210201|     NULL|           NULL|      NULL|              NULL|              NULL|NULL|      NULL|      NULL|                 NULL|              true|             NULL|            NULL|                 NULL|             NULL|                    NULL|              NULL|                    NULL|             NULL|       NULL|               NULL|               NULL|             NULL|    NULL| 422607|\n",
            "|    2021|   90000325454|      20210205|     NULL|           NULL|      NULL|              NULL|              NULL|NULL|      NULL|      NULL|                 NULL|              NULL|             NULL|            NULL|                 NULL|             NULL|                    NULL|              NULL|                    true|             NULL|       NULL|               NULL|               NULL|             NULL|    NULL| 335330|\n",
            "|    2021|   90000537777|      20210223|     NULL|           NULL|      NULL|              NULL|              NULL|NULL|      NULL|      NULL|                 NULL|              NULL|             NULL|            NULL|                 NULL|             NULL|                    NULL|              NULL|                    NULL|             NULL|       NULL|               NULL|               NULL|             true|    NULL|1696923|\n",
            "|    2021|   90000554818|      20210303|     NULL|           NULL|      NULL|              NULL|              NULL|NULL|      NULL|      NULL|                 NULL|              true|             NULL|            NULL|                 NULL|             NULL|                    NULL|              NULL|                    NULL|             NULL|       NULL|               NULL|               NULL|             NULL|    NULL|1840799|\n",
            "|    2021|   90000568291|      20210303|     NULL|           NULL|      NULL|              NULL|              NULL|NULL|      NULL|      NULL|                 NULL|              NULL|             NULL|            NULL|                 NULL|             NULL|                    NULL|              NULL|                    NULL|             true|       NULL|               NULL|               NULL|             NULL|    NULL|1833489|\n",
            "|    2021|   90000600154|      20210211|     NULL|           NULL|      NULL|              NULL|              NULL|NULL|      NULL|      NULL|                 NULL|              NULL|             NULL|            NULL|                 NULL|             NULL|                    NULL|              true|                    NULL|             NULL|       NULL|               NULL|               NULL|             NULL|    NULL|1639672|\n",
            "|    2021|   90000643987|      20210308|     NULL|           NULL|      NULL|              NULL|              NULL|NULL|      NULL|      NULL|                 NULL|              NULL|             NULL|            NULL|                 NULL|             true|                    NULL|              NULL|                    NULL|             NULL|       NULL|               NULL|               NULL|             NULL|    NULL|1784611|\n",
            "|    2021|   90000999907|      20210309|     NULL|           NULL|      NULL|              NULL|              NULL|NULL|      NULL|      NULL|                 NULL|              NULL|             NULL|            NULL|                 NULL|             NULL|                    NULL|              NULL|                    true|             NULL|       NULL|               NULL|               NULL|             NULL|    NULL| 597593|\n",
            "|    2021|   90001000129|      20210223|     NULL|           NULL|      NULL|              NULL|              NULL|NULL|      NULL|      NULL|                 NULL|              true|             NULL|            NULL|                 NULL|             NULL|                    NULL|              NULL|                    NULL|             NULL|       NULL|               NULL|               NULL|             NULL|    NULL|1883475|\n",
            "|    2021|   90001064588|      20210313|     NULL|           NULL|      NULL|              NULL|              NULL|NULL|      NULL|      NULL|                 NULL|              NULL|             NULL|            NULL|                 NULL|             NULL|                    NULL|              NULL|                    NULL|             NULL|       NULL|               NULL|               NULL|             NULL|    true| 429147|\n",
            "|    2021|   90001065502|      20210311|     NULL|           NULL|      NULL|              NULL|              NULL|NULL|      NULL|      NULL|                 NULL|              NULL|             NULL|            NULL|                 NULL|             NULL|                    NULL|              true|                    NULL|             NULL|       NULL|               NULL|               NULL|             NULL|    NULL| 663402|\n",
            "+--------+--------------+--------------+---------+---------------+----------+------------------+------------------+----+----------+----------+---------------------+------------------+-----------------+----------------+---------------------+-----------------+------------------------+------------------+------------------------+-----------------+-----------+-------------------+-------------------+-----------------+--------+-------+\n",
            "only showing top 20 rows\n",
            "\n"
          ]
        }
      ]
    },
    {
      "cell_type": "code",
      "source": [
        "from pyspark.sql.types import IntegerType, StringType, DoubleType, LongType, BooleanType\n",
        "from pyspark.sql.functions import col\n",
        "new_data_types={}\n",
        "for i in df.columns:\n",
        "  if i in ['dos_year','id','clm_unique_key','serv_date_skey']:\n",
        "    new_data_types[i]=LongType()\n",
        "  else:\n",
        "    new_data_types[i]=IntegerType()\n",
        "\n",
        "# Iterate through columns and apply cast\n",
        "for column_name, new_type in new_data_types.items():\n",
        "    df = df.withColumn(column_name, col(column_name).cast(new_type))\n",
        "\n",
        "df.printSchema()"
      ],
      "metadata": {
        "colab": {
          "base_uri": "https://localhost:8080/"
        },
        "id": "LbmAnvi1IwIT",
        "outputId": "ff3a74a2-7cff-44dd-a8cf-f374362a7666"
      },
      "execution_count": 54,
      "outputs": [
        {
          "output_type": "stream",
          "name": "stdout",
          "text": [
            "root\n",
            " |-- dos_year: long (nullable = true)\n",
            " |-- clm_unique_key: long (nullable = true)\n",
            " |-- serv_date_skey: long (nullable = true)\n",
            " |-- pcp_visit: integer (nullable = true)\n",
            " |-- annual_wellness: integer (nullable = true)\n",
            " |-- humana_paf: integer (nullable = true)\n",
            " |-- preventative_visit: integer (nullable = true)\n",
            " |-- comp_physical_exam: integer (nullable = true)\n",
            " |-- ihwa: integer (nullable = true)\n",
            " |-- fqhc_visit: integer (nullable = true)\n",
            " |-- telehealth: integer (nullable = true)\n",
            " |-- endocrinologist_visit: integer (nullable = true)\n",
            " |-- oncolologist_visit: integer (nullable = true)\n",
            " |-- radiologist_visit: integer (nullable = true)\n",
            " |-- podiatrist_visit: integer (nullable = true)\n",
            " |-- ophthalmologist_visit: integer (nullable = true)\n",
            " |-- optometrist_visit: integer (nullable = true)\n",
            " |-- physical_therapist_visit: integer (nullable = true)\n",
            " |-- cardiologist_visit: integer (nullable = true)\n",
            " |-- gastroenterologist_visit: integer (nullable = true)\n",
            " |-- orthopedist_visit: integer (nullable = true)\n",
            " |-- obgyn_visit: integer (nullable = true)\n",
            " |-- nephroloogist_visit: integer (nullable = true)\n",
            " |-- pulmonologist_visit: integer (nullable = true)\n",
            " |-- urgent_care_visit: integer (nullable = true)\n",
            " |-- er_visit: integer (nullable = true)\n",
            " |-- id: long (nullable = true)\n",
            "\n"
          ]
        }
      ]
    },
    {
      "cell_type": "code",
      "source": [
        "df.show()"
      ],
      "metadata": {
        "colab": {
          "base_uri": "https://localhost:8080/"
        },
        "id": "blb5WJKcI0QV",
        "outputId": "3d1e424b-bdf1-441b-942f-daa73230dfc7"
      },
      "execution_count": 55,
      "outputs": [
        {
          "output_type": "stream",
          "name": "stdout",
          "text": [
            "+--------+--------------+--------------+---------+---------------+----------+------------------+------------------+----+----------+----------+---------------------+------------------+-----------------+----------------+---------------------+-----------------+------------------------+------------------+------------------------+-----------------+-----------+-------------------+-------------------+-----------------+--------+-------+\n",
            "|dos_year|clm_unique_key|serv_date_skey|pcp_visit|annual_wellness|humana_paf|preventative_visit|comp_physical_exam|ihwa|fqhc_visit|telehealth|endocrinologist_visit|oncolologist_visit|radiologist_visit|podiatrist_visit|ophthalmologist_visit|optometrist_visit|physical_therapist_visit|cardiologist_visit|gastroenterologist_visit|orthopedist_visit|obgyn_visit|nephroloogist_visit|pulmonologist_visit|urgent_care_visit|er_visit|     id|\n",
            "+--------+--------------+--------------+---------+---------------+----------+------------------+------------------+----+----------+----------+---------------------+------------------+-----------------+----------------+---------------------+-----------------+------------------------+------------------+------------------------+-----------------+-----------+-------------------+-------------------+-----------------+--------+-------+\n",
            "|    2021|   90000007336|      20210105|     NULL|           NULL|      NULL|              NULL|              NULL|NULL|      NULL|      NULL|                 NULL|              NULL|             NULL|            NULL|                    1|             NULL|                    NULL|              NULL|                    NULL|             NULL|       NULL|               NULL|               NULL|             NULL|    NULL| 733133|\n",
            "|    2021|   90000030533|      20210107|     NULL|           NULL|      NULL|              NULL|              NULL|NULL|      NULL|      NULL|                 NULL|              NULL|             NULL|            NULL|                 NULL|             NULL|                       1|              NULL|                    NULL|             NULL|       NULL|               NULL|               NULL|             NULL|    NULL|1296887|\n",
            "|    2021|   90000039180|      20210111|     NULL|           NULL|      NULL|              NULL|              NULL|NULL|      NULL|      NULL|                 NULL|              NULL|             NULL|            NULL|                    1|             NULL|                    NULL|              NULL|                    NULL|             NULL|       NULL|               NULL|               NULL|             NULL|    NULL|1331806|\n",
            "|    2021|   90000048032|      20210112|     NULL|           NULL|      NULL|              NULL|              NULL|NULL|      NULL|      NULL|                 NULL|              NULL|             NULL|            NULL|                 NULL|             NULL|                    NULL|                 1|                    NULL|             NULL|       NULL|               NULL|               NULL|             NULL|    NULL|1548280|\n",
            "|    2021|   90000070091|      20210118|     NULL|           NULL|      NULL|              NULL|              NULL|NULL|      NULL|      NULL|                 NULL|              NULL|             NULL|            NULL|                    1|             NULL|                    NULL|              NULL|                    NULL|             NULL|       NULL|               NULL|               NULL|             NULL|    NULL| 689644|\n",
            "|    2021|   90000076209|      20210113|     NULL|           NULL|      NULL|              NULL|              NULL|NULL|      NULL|      NULL|                 NULL|              NULL|             NULL|            NULL|                 NULL|             NULL|                       1|              NULL|                    NULL|             NULL|       NULL|               NULL|               NULL|             NULL|    NULL| 535795|\n",
            "|    2021|   90000117406|      20210116|     NULL|           NULL|      NULL|              NULL|              NULL|NULL|      NULL|      NULL|                 NULL|              NULL|             NULL|            NULL|                 NULL|             NULL|                    NULL|              NULL|                    NULL|             NULL|       NULL|               NULL|               NULL|             NULL|       1|1809363|\n",
            "|    2021|   90000167054|      20210202|     NULL|           NULL|      NULL|              NULL|              NULL|NULL|      NULL|      NULL|                 NULL|              NULL|             NULL|            NULL|                    1|             NULL|                    NULL|              NULL|                    NULL|             NULL|       NULL|               NULL|               NULL|             NULL|    NULL|1643047|\n",
            "|    2021|   90000267295|      20210210|     NULL|           NULL|      NULL|              NULL|              NULL|NULL|      NULL|      NULL|                 NULL|              NULL|             NULL|            NULL|                 NULL|             NULL|                    NULL|              NULL|                    NULL|             NULL|       NULL|               NULL|                  1|             NULL|    NULL| 678864|\n",
            "|    2021|   90000325408|      20210201|     NULL|           NULL|      NULL|              NULL|              NULL|NULL|      NULL|      NULL|                 NULL|                 1|             NULL|            NULL|                 NULL|             NULL|                    NULL|              NULL|                    NULL|             NULL|       NULL|               NULL|               NULL|             NULL|    NULL| 422607|\n",
            "|    2021|   90000325454|      20210205|     NULL|           NULL|      NULL|              NULL|              NULL|NULL|      NULL|      NULL|                 NULL|              NULL|             NULL|            NULL|                 NULL|             NULL|                    NULL|              NULL|                       1|             NULL|       NULL|               NULL|               NULL|             NULL|    NULL| 335330|\n",
            "|    2021|   90000537777|      20210223|     NULL|           NULL|      NULL|              NULL|              NULL|NULL|      NULL|      NULL|                 NULL|              NULL|             NULL|            NULL|                 NULL|             NULL|                    NULL|              NULL|                    NULL|             NULL|       NULL|               NULL|               NULL|                1|    NULL|1696923|\n",
            "|    2021|   90000554818|      20210303|     NULL|           NULL|      NULL|              NULL|              NULL|NULL|      NULL|      NULL|                 NULL|                 1|             NULL|            NULL|                 NULL|             NULL|                    NULL|              NULL|                    NULL|             NULL|       NULL|               NULL|               NULL|             NULL|    NULL|1840799|\n",
            "|    2021|   90000568291|      20210303|     NULL|           NULL|      NULL|              NULL|              NULL|NULL|      NULL|      NULL|                 NULL|              NULL|             NULL|            NULL|                 NULL|             NULL|                    NULL|              NULL|                    NULL|                1|       NULL|               NULL|               NULL|             NULL|    NULL|1833489|\n",
            "|    2021|   90000600154|      20210211|     NULL|           NULL|      NULL|              NULL|              NULL|NULL|      NULL|      NULL|                 NULL|              NULL|             NULL|            NULL|                 NULL|             NULL|                    NULL|                 1|                    NULL|             NULL|       NULL|               NULL|               NULL|             NULL|    NULL|1639672|\n",
            "|    2021|   90000643987|      20210308|     NULL|           NULL|      NULL|              NULL|              NULL|NULL|      NULL|      NULL|                 NULL|              NULL|             NULL|            NULL|                 NULL|                1|                    NULL|              NULL|                    NULL|             NULL|       NULL|               NULL|               NULL|             NULL|    NULL|1784611|\n",
            "|    2021|   90000999907|      20210309|     NULL|           NULL|      NULL|              NULL|              NULL|NULL|      NULL|      NULL|                 NULL|              NULL|             NULL|            NULL|                 NULL|             NULL|                    NULL|              NULL|                       1|             NULL|       NULL|               NULL|               NULL|             NULL|    NULL| 597593|\n",
            "|    2021|   90001000129|      20210223|     NULL|           NULL|      NULL|              NULL|              NULL|NULL|      NULL|      NULL|                 NULL|                 1|             NULL|            NULL|                 NULL|             NULL|                    NULL|              NULL|                    NULL|             NULL|       NULL|               NULL|               NULL|             NULL|    NULL|1883475|\n",
            "|    2021|   90001064588|      20210313|     NULL|           NULL|      NULL|              NULL|              NULL|NULL|      NULL|      NULL|                 NULL|              NULL|             NULL|            NULL|                 NULL|             NULL|                    NULL|              NULL|                    NULL|             NULL|       NULL|               NULL|               NULL|             NULL|       1| 429147|\n",
            "|    2021|   90001065502|      20210311|     NULL|           NULL|      NULL|              NULL|              NULL|NULL|      NULL|      NULL|                 NULL|              NULL|             NULL|            NULL|                 NULL|             NULL|                    NULL|                 1|                    NULL|             NULL|       NULL|               NULL|               NULL|             NULL|    NULL| 663402|\n",
            "+--------+--------------+--------------+---------+---------------+----------+------------------+------------------+----+----------+----------+---------------------+------------------+-----------------+----------------+---------------------+-----------------+------------------------+------------------+------------------------+-----------------+-----------+-------------------+-------------------+-----------------+--------+-------+\n",
            "only showing top 20 rows\n",
            "\n"
          ]
        }
      ]
    },
    {
      "cell_type": "code",
      "source": [
        "cols=[x for x in df.columns if x not in ['id','dos_year', 'serv_date_skey', 'ihwa']]\n",
        "agg_dict = dict()\n",
        "for i in cols:\n",
        "  if i == 'clm_unique_key':\n",
        "    agg_dict[i] = 'count'\n",
        "  else:\n",
        "    agg_dict[i] = 'sum'\n",
        "agg_dict"
      ],
      "metadata": {
        "colab": {
          "base_uri": "https://localhost:8080/"
        },
        "id": "MZF5SRxwHeWa",
        "outputId": "7634b4b2-9577-4437-d3dd-7f74a09336a8"
      },
      "execution_count": 56,
      "outputs": [
        {
          "output_type": "execute_result",
          "data": {
            "text/plain": [
              "{'clm_unique_key': 'count',\n",
              " 'pcp_visit': 'sum',\n",
              " 'annual_wellness': 'sum',\n",
              " 'humana_paf': 'sum',\n",
              " 'preventative_visit': 'sum',\n",
              " 'comp_physical_exam': 'sum',\n",
              " 'fqhc_visit': 'sum',\n",
              " 'telehealth': 'sum',\n",
              " 'endocrinologist_visit': 'sum',\n",
              " 'oncolologist_visit': 'sum',\n",
              " 'radiologist_visit': 'sum',\n",
              " 'podiatrist_visit': 'sum',\n",
              " 'ophthalmologist_visit': 'sum',\n",
              " 'optometrist_visit': 'sum',\n",
              " 'physical_therapist_visit': 'sum',\n",
              " 'cardiologist_visit': 'sum',\n",
              " 'gastroenterologist_visit': 'sum',\n",
              " 'orthopedist_visit': 'sum',\n",
              " 'obgyn_visit': 'sum',\n",
              " 'nephroloogist_visit': 'sum',\n",
              " 'pulmonologist_visit': 'sum',\n",
              " 'urgent_care_visit': 'sum',\n",
              " 'er_visit': 'sum'}"
            ]
          },
          "metadata": {},
          "execution_count": 56
        }
      ]
    },
    {
      "cell_type": "code",
      "execution_count": 62,
      "metadata": {
        "id": "oQuSpUJxxRxq"
      },
      "outputs": [],
      "source": [
        "df.groupby(['id','dos_year']).agg(agg_dict).fillna(0).toPandas().to_csv('claims.csv')"
      ]
    },
    {
      "cell_type": "code",
      "source": [
        "dct_2021=dict()\n",
        "for i in df2.columns:\n",
        "  if i not in ['id','dos_year']:\n",
        "    dct_2021[i]='2021_'+i\n",
        "dct_2021"
      ],
      "metadata": {
        "id": "pW3ZmHqBI7qg"
      },
      "execution_count": null,
      "outputs": []
    },
    {
      "cell_type": "code",
      "source": [
        "dct_2022=dict()\n",
        "for i in df2.columns:\n",
        "  if i not in ['id','dos_year']:\n",
        "    dct_2022[i]='2022_'+i\n",
        "dct_2022"
      ],
      "metadata": {
        "id": "-jhlEKykJW5T"
      },
      "execution_count": null,
      "outputs": []
    },
    {
      "cell_type": "code",
      "execution_count": null,
      "metadata": {
        "colab": {
          "base_uri": "https://localhost:8080/",
          "height": 255
        },
        "id": "PS13732AguPB",
        "outputId": "d22f3ef9-1517-48cd-dfaa-a73452450ad4"
      },
      "outputs": [
        {
          "data": {
            "application/vnd.google.colaboratory.intrinsic+json": {
              "type": "dataframe",
              "variable_name": "df"
            },
            "text/html": [
              "\n",
              "  <div id=\"df-2479f802-cae3-4300-b7bb-c7a1d6f74084\" class=\"colab-df-container\">\n",
              "    <div>\n",
              "<style scoped>\n",
              "    .dataframe tbody tr th:only-of-type {\n",
              "        vertical-align: middle;\n",
              "    }\n",
              "\n",
              "    .dataframe tbody tr th {\n",
              "        vertical-align: top;\n",
              "    }\n",
              "\n",
              "    .dataframe thead th {\n",
              "        text-align: right;\n",
              "    }\n",
              "</style>\n",
              "<table border=\"1\" class=\"dataframe\">\n",
              "  <thead>\n",
              "    <tr style=\"text-align: right;\">\n",
              "      <th></th>\n",
              "      <th>dos_year</th>\n",
              "      <th>clm_unique_key</th>\n",
              "      <th>serv_date_skey</th>\n",
              "      <th>pcp_visit</th>\n",
              "      <th>annual_wellness</th>\n",
              "      <th>humana_paf</th>\n",
              "      <th>preventative_visit</th>\n",
              "      <th>comp_physical_exam</th>\n",
              "      <th>ihwa</th>\n",
              "      <th>fqhc_visit</th>\n",
              "      <th>...</th>\n",
              "      <th>physical_therapist_visit</th>\n",
              "      <th>cardiologist_visit</th>\n",
              "      <th>gastroenterologist_visit</th>\n",
              "      <th>orthopedist_visit</th>\n",
              "      <th>obgyn_visit</th>\n",
              "      <th>nephroloogist_visit</th>\n",
              "      <th>pulmonologist_visit</th>\n",
              "      <th>urgent_care_visit</th>\n",
              "      <th>er_visit</th>\n",
              "      <th>id</th>\n",
              "    </tr>\n",
              "  </thead>\n",
              "  <tbody>\n",
              "    <tr>\n",
              "      <th>0</th>\n",
              "      <td>2021</td>\n",
              "      <td>90000007336</td>\n",
              "      <td>20210105</td>\n",
              "      <td>NaN</td>\n",
              "      <td>NaN</td>\n",
              "      <td>NaN</td>\n",
              "      <td>NaN</td>\n",
              "      <td>NaN</td>\n",
              "      <td>NaN</td>\n",
              "      <td>NaN</td>\n",
              "      <td>...</td>\n",
              "      <td>NaN</td>\n",
              "      <td>NaN</td>\n",
              "      <td>NaN</td>\n",
              "      <td>NaN</td>\n",
              "      <td>NaN</td>\n",
              "      <td>NaN</td>\n",
              "      <td>NaN</td>\n",
              "      <td>NaN</td>\n",
              "      <td>NaN</td>\n",
              "      <td>733133</td>\n",
              "    </tr>\n",
              "    <tr>\n",
              "      <th>1</th>\n",
              "      <td>2021</td>\n",
              "      <td>90000030533</td>\n",
              "      <td>20210107</td>\n",
              "      <td>NaN</td>\n",
              "      <td>NaN</td>\n",
              "      <td>NaN</td>\n",
              "      <td>NaN</td>\n",
              "      <td>NaN</td>\n",
              "      <td>NaN</td>\n",
              "      <td>NaN</td>\n",
              "      <td>...</td>\n",
              "      <td>1.0</td>\n",
              "      <td>NaN</td>\n",
              "      <td>NaN</td>\n",
              "      <td>NaN</td>\n",
              "      <td>NaN</td>\n",
              "      <td>NaN</td>\n",
              "      <td>NaN</td>\n",
              "      <td>NaN</td>\n",
              "      <td>NaN</td>\n",
              "      <td>1296887</td>\n",
              "    </tr>\n",
              "    <tr>\n",
              "      <th>2</th>\n",
              "      <td>2021</td>\n",
              "      <td>90000039180</td>\n",
              "      <td>20210111</td>\n",
              "      <td>NaN</td>\n",
              "      <td>NaN</td>\n",
              "      <td>NaN</td>\n",
              "      <td>NaN</td>\n",
              "      <td>NaN</td>\n",
              "      <td>NaN</td>\n",
              "      <td>NaN</td>\n",
              "      <td>...</td>\n",
              "      <td>NaN</td>\n",
              "      <td>NaN</td>\n",
              "      <td>NaN</td>\n",
              "      <td>NaN</td>\n",
              "      <td>NaN</td>\n",
              "      <td>NaN</td>\n",
              "      <td>NaN</td>\n",
              "      <td>NaN</td>\n",
              "      <td>NaN</td>\n",
              "      <td>1331806</td>\n",
              "    </tr>\n",
              "    <tr>\n",
              "      <th>3</th>\n",
              "      <td>2021</td>\n",
              "      <td>90000048032</td>\n",
              "      <td>20210112</td>\n",
              "      <td>NaN</td>\n",
              "      <td>NaN</td>\n",
              "      <td>NaN</td>\n",
              "      <td>NaN</td>\n",
              "      <td>NaN</td>\n",
              "      <td>NaN</td>\n",
              "      <td>NaN</td>\n",
              "      <td>...</td>\n",
              "      <td>NaN</td>\n",
              "      <td>1.0</td>\n",
              "      <td>NaN</td>\n",
              "      <td>NaN</td>\n",
              "      <td>NaN</td>\n",
              "      <td>NaN</td>\n",
              "      <td>NaN</td>\n",
              "      <td>NaN</td>\n",
              "      <td>NaN</td>\n",
              "      <td>1548280</td>\n",
              "    </tr>\n",
              "    <tr>\n",
              "      <th>4</th>\n",
              "      <td>2021</td>\n",
              "      <td>90000070091</td>\n",
              "      <td>20210118</td>\n",
              "      <td>NaN</td>\n",
              "      <td>NaN</td>\n",
              "      <td>NaN</td>\n",
              "      <td>NaN</td>\n",
              "      <td>NaN</td>\n",
              "      <td>NaN</td>\n",
              "      <td>NaN</td>\n",
              "      <td>...</td>\n",
              "      <td>NaN</td>\n",
              "      <td>NaN</td>\n",
              "      <td>NaN</td>\n",
              "      <td>NaN</td>\n",
              "      <td>NaN</td>\n",
              "      <td>NaN</td>\n",
              "      <td>NaN</td>\n",
              "      <td>NaN</td>\n",
              "      <td>NaN</td>\n",
              "      <td>689644</td>\n",
              "    </tr>\n",
              "  </tbody>\n",
              "</table>\n",
              "<p>5 rows × 27 columns</p>\n",
              "</div>\n",
              "    <div class=\"colab-df-buttons\">\n",
              "\n",
              "  <div class=\"colab-df-container\">\n",
              "    <button class=\"colab-df-convert\" onclick=\"convertToInteractive('df-2479f802-cae3-4300-b7bb-c7a1d6f74084')\"\n",
              "            title=\"Convert this dataframe to an interactive table.\"\n",
              "            style=\"display:none;\">\n",
              "\n",
              "  <svg xmlns=\"http://www.w3.org/2000/svg\" height=\"24px\" viewBox=\"0 -960 960 960\">\n",
              "    <path d=\"M120-120v-720h720v720H120Zm60-500h600v-160H180v160Zm220 220h160v-160H400v160Zm0 220h160v-160H400v160ZM180-400h160v-160H180v160Zm440 0h160v-160H620v160ZM180-180h160v-160H180v160Zm440 0h160v-160H620v160Z\"/>\n",
              "  </svg>\n",
              "    </button>\n",
              "\n",
              "  <style>\n",
              "    .colab-df-container {\n",
              "      display:flex;\n",
              "      gap: 12px;\n",
              "    }\n",
              "\n",
              "    .colab-df-convert {\n",
              "      background-color: #E8F0FE;\n",
              "      border: none;\n",
              "      border-radius: 50%;\n",
              "      cursor: pointer;\n",
              "      display: none;\n",
              "      fill: #1967D2;\n",
              "      height: 32px;\n",
              "      padding: 0 0 0 0;\n",
              "      width: 32px;\n",
              "    }\n",
              "\n",
              "    .colab-df-convert:hover {\n",
              "      background-color: #E2EBFA;\n",
              "      box-shadow: 0px 1px 2px rgba(60, 64, 67, 0.3), 0px 1px 3px 1px rgba(60, 64, 67, 0.15);\n",
              "      fill: #174EA6;\n",
              "    }\n",
              "\n",
              "    .colab-df-buttons div {\n",
              "      margin-bottom: 4px;\n",
              "    }\n",
              "\n",
              "    [theme=dark] .colab-df-convert {\n",
              "      background-color: #3B4455;\n",
              "      fill: #D2E3FC;\n",
              "    }\n",
              "\n",
              "    [theme=dark] .colab-df-convert:hover {\n",
              "      background-color: #434B5C;\n",
              "      box-shadow: 0px 1px 3px 1px rgba(0, 0, 0, 0.15);\n",
              "      filter: drop-shadow(0px 1px 2px rgba(0, 0, 0, 0.3));\n",
              "      fill: #FFFFFF;\n",
              "    }\n",
              "  </style>\n",
              "\n",
              "    <script>\n",
              "      const buttonEl =\n",
              "        document.querySelector('#df-2479f802-cae3-4300-b7bb-c7a1d6f74084 button.colab-df-convert');\n",
              "      buttonEl.style.display =\n",
              "        google.colab.kernel.accessAllowed ? 'block' : 'none';\n",
              "\n",
              "      async function convertToInteractive(key) {\n",
              "        const element = document.querySelector('#df-2479f802-cae3-4300-b7bb-c7a1d6f74084');\n",
              "        const dataTable =\n",
              "          await google.colab.kernel.invokeFunction('convertToInteractive',\n",
              "                                                    [key], {});\n",
              "        if (!dataTable) return;\n",
              "\n",
              "        const docLinkHtml = 'Like what you see? Visit the ' +\n",
              "          '<a target=\"_blank\" href=https://colab.research.google.com/notebooks/data_table.ipynb>data table notebook</a>'\n",
              "          + ' to learn more about interactive tables.';\n",
              "        element.innerHTML = '';\n",
              "        dataTable['output_type'] = 'display_data';\n",
              "        await google.colab.output.renderOutput(dataTable, element);\n",
              "        const docLink = document.createElement('div');\n",
              "        docLink.innerHTML = docLinkHtml;\n",
              "        element.appendChild(docLink);\n",
              "      }\n",
              "    </script>\n",
              "  </div>\n",
              "\n",
              "\n",
              "<div id=\"df-718ceaf4-abc6-4e97-96a7-6288d6c3ed5f\">\n",
              "  <button class=\"colab-df-quickchart\" onclick=\"quickchart('df-718ceaf4-abc6-4e97-96a7-6288d6c3ed5f')\"\n",
              "            title=\"Suggest charts\"\n",
              "            style=\"display:none;\">\n",
              "\n",
              "<svg xmlns=\"http://www.w3.org/2000/svg\" height=\"24px\"viewBox=\"0 0 24 24\"\n",
              "     width=\"24px\">\n",
              "    <g>\n",
              "        <path d=\"M19 3H5c-1.1 0-2 .9-2 2v14c0 1.1.9 2 2 2h14c1.1 0 2-.9 2-2V5c0-1.1-.9-2-2-2zM9 17H7v-7h2v7zm4 0h-2V7h2v10zm4 0h-2v-4h2v4z\"/>\n",
              "    </g>\n",
              "</svg>\n",
              "  </button>\n",
              "\n",
              "<style>\n",
              "  .colab-df-quickchart {\n",
              "      --bg-color: #E8F0FE;\n",
              "      --fill-color: #1967D2;\n",
              "      --hover-bg-color: #E2EBFA;\n",
              "      --hover-fill-color: #174EA6;\n",
              "      --disabled-fill-color: #AAA;\n",
              "      --disabled-bg-color: #DDD;\n",
              "  }\n",
              "\n",
              "  [theme=dark] .colab-df-quickchart {\n",
              "      --bg-color: #3B4455;\n",
              "      --fill-color: #D2E3FC;\n",
              "      --hover-bg-color: #434B5C;\n",
              "      --hover-fill-color: #FFFFFF;\n",
              "      --disabled-bg-color: #3B4455;\n",
              "      --disabled-fill-color: #666;\n",
              "  }\n",
              "\n",
              "  .colab-df-quickchart {\n",
              "    background-color: var(--bg-color);\n",
              "    border: none;\n",
              "    border-radius: 50%;\n",
              "    cursor: pointer;\n",
              "    display: none;\n",
              "    fill: var(--fill-color);\n",
              "    height: 32px;\n",
              "    padding: 0;\n",
              "    width: 32px;\n",
              "  }\n",
              "\n",
              "  .colab-df-quickchart:hover {\n",
              "    background-color: var(--hover-bg-color);\n",
              "    box-shadow: 0 1px 2px rgba(60, 64, 67, 0.3), 0 1px 3px 1px rgba(60, 64, 67, 0.15);\n",
              "    fill: var(--button-hover-fill-color);\n",
              "  }\n",
              "\n",
              "  .colab-df-quickchart-complete:disabled,\n",
              "  .colab-df-quickchart-complete:disabled:hover {\n",
              "    background-color: var(--disabled-bg-color);\n",
              "    fill: var(--disabled-fill-color);\n",
              "    box-shadow: none;\n",
              "  }\n",
              "\n",
              "  .colab-df-spinner {\n",
              "    border: 2px solid var(--fill-color);\n",
              "    border-color: transparent;\n",
              "    border-bottom-color: var(--fill-color);\n",
              "    animation:\n",
              "      spin 1s steps(1) infinite;\n",
              "  }\n",
              "\n",
              "  @keyframes spin {\n",
              "    0% {\n",
              "      border-color: transparent;\n",
              "      border-bottom-color: var(--fill-color);\n",
              "      border-left-color: var(--fill-color);\n",
              "    }\n",
              "    20% {\n",
              "      border-color: transparent;\n",
              "      border-left-color: var(--fill-color);\n",
              "      border-top-color: var(--fill-color);\n",
              "    }\n",
              "    30% {\n",
              "      border-color: transparent;\n",
              "      border-left-color: var(--fill-color);\n",
              "      border-top-color: var(--fill-color);\n",
              "      border-right-color: var(--fill-color);\n",
              "    }\n",
              "    40% {\n",
              "      border-color: transparent;\n",
              "      border-right-color: var(--fill-color);\n",
              "      border-top-color: var(--fill-color);\n",
              "    }\n",
              "    60% {\n",
              "      border-color: transparent;\n",
              "      border-right-color: var(--fill-color);\n",
              "    }\n",
              "    80% {\n",
              "      border-color: transparent;\n",
              "      border-right-color: var(--fill-color);\n",
              "      border-bottom-color: var(--fill-color);\n",
              "    }\n",
              "    90% {\n",
              "      border-color: transparent;\n",
              "      border-bottom-color: var(--fill-color);\n",
              "    }\n",
              "  }\n",
              "</style>\n",
              "\n",
              "  <script>\n",
              "    async function quickchart(key) {\n",
              "      const quickchartButtonEl =\n",
              "        document.querySelector('#' + key + ' button');\n",
              "      quickchartButtonEl.disabled = true;  // To prevent multiple clicks.\n",
              "      quickchartButtonEl.classList.add('colab-df-spinner');\n",
              "      try {\n",
              "        const charts = await google.colab.kernel.invokeFunction(\n",
              "            'suggestCharts', [key], {});\n",
              "      } catch (error) {\n",
              "        console.error('Error during call to suggestCharts:', error);\n",
              "      }\n",
              "      quickchartButtonEl.classList.remove('colab-df-spinner');\n",
              "      quickchartButtonEl.classList.add('colab-df-quickchart-complete');\n",
              "    }\n",
              "    (() => {\n",
              "      let quickchartButtonEl =\n",
              "        document.querySelector('#df-718ceaf4-abc6-4e97-96a7-6288d6c3ed5f button');\n",
              "      quickchartButtonEl.style.display =\n",
              "        google.colab.kernel.accessAllowed ? 'block' : 'none';\n",
              "    })();\n",
              "  </script>\n",
              "</div>\n",
              "\n",
              "    </div>\n",
              "  </div>\n"
            ],
            "text/plain": [
              "   dos_year  clm_unique_key  serv_date_skey  pcp_visit  annual_wellness  \\\n",
              "0      2021     90000007336        20210105        NaN              NaN   \n",
              "1      2021     90000030533        20210107        NaN              NaN   \n",
              "2      2021     90000039180        20210111        NaN              NaN   \n",
              "3      2021     90000048032        20210112        NaN              NaN   \n",
              "4      2021     90000070091        20210118        NaN              NaN   \n",
              "\n",
              "   humana_paf  preventative_visit  comp_physical_exam  ihwa  fqhc_visit  ...  \\\n",
              "0         NaN                 NaN                 NaN   NaN         NaN  ...   \n",
              "1         NaN                 NaN                 NaN   NaN         NaN  ...   \n",
              "2         NaN                 NaN                 NaN   NaN         NaN  ...   \n",
              "3         NaN                 NaN                 NaN   NaN         NaN  ...   \n",
              "4         NaN                 NaN                 NaN   NaN         NaN  ...   \n",
              "\n",
              "   physical_therapist_visit  cardiologist_visit  gastroenterologist_visit  \\\n",
              "0                       NaN                 NaN                       NaN   \n",
              "1                       1.0                 NaN                       NaN   \n",
              "2                       NaN                 NaN                       NaN   \n",
              "3                       NaN                 1.0                       NaN   \n",
              "4                       NaN                 NaN                       NaN   \n",
              "\n",
              "   orthopedist_visit  obgyn_visit  nephroloogist_visit  pulmonologist_visit  \\\n",
              "0                NaN          NaN                  NaN                  NaN   \n",
              "1                NaN          NaN                  NaN                  NaN   \n",
              "2                NaN          NaN                  NaN                  NaN   \n",
              "3                NaN          NaN                  NaN                  NaN   \n",
              "4                NaN          NaN                  NaN                  NaN   \n",
              "\n",
              "   urgent_care_visit  er_visit       id  \n",
              "0                NaN       NaN   733133  \n",
              "1                NaN       NaN  1296887  \n",
              "2                NaN       NaN  1331806  \n",
              "3                NaN       NaN  1548280  \n",
              "4                NaN       NaN   689644  \n",
              "\n",
              "[5 rows x 27 columns]"
            ]
          },
          "execution_count": 23,
          "metadata": {},
          "output_type": "execute_result"
        }
      ],
      "source": [
        "df.head()"
      ]
    },
    {
      "cell_type": "code",
      "execution_count": null,
      "metadata": {
        "colab": {
          "base_uri": "https://localhost:8080/"
        },
        "id": "imM98hJ_g8gU",
        "outputId": "72dc9616-5edc-4b7a-8b31-6cbe28a2a97a"
      },
      "outputs": [
        {
          "data": {
            "text/plain": [
              "(20210101, 20221231)"
            ]
          },
          "execution_count": 11,
          "metadata": {},
          "output_type": "execute_result"
        }
      ],
      "source": [
        "df['serv_date_skey'].min(),df['serv_date_skey'].max()"
      ]
    },
    {
      "cell_type": "code",
      "execution_count": null,
      "metadata": {
        "colab": {
          "base_uri": "https://localhost:8080/",
          "height": 178
        },
        "id": "R8Gl7C9CiJJf",
        "outputId": "c044f2b3-7187-4272-8a1c-bd2a1e9b2741"
      },
      "outputs": [
        {
          "data": {
            "text/html": [
              "<div>\n",
              "<style scoped>\n",
              "    .dataframe tbody tr th:only-of-type {\n",
              "        vertical-align: middle;\n",
              "    }\n",
              "\n",
              "    .dataframe tbody tr th {\n",
              "        vertical-align: top;\n",
              "    }\n",
              "\n",
              "    .dataframe thead th {\n",
              "        text-align: right;\n",
              "    }\n",
              "</style>\n",
              "<table border=\"1\" class=\"dataframe\">\n",
              "  <thead>\n",
              "    <tr style=\"text-align: right;\">\n",
              "      <th></th>\n",
              "      <th>count</th>\n",
              "    </tr>\n",
              "    <tr>\n",
              "      <th>dos_year</th>\n",
              "      <th></th>\n",
              "    </tr>\n",
              "  </thead>\n",
              "  <tbody>\n",
              "    <tr>\n",
              "      <th>2022</th>\n",
              "      <td>1499437</td>\n",
              "    </tr>\n",
              "    <tr>\n",
              "      <th>2021</th>\n",
              "      <td>1165768</td>\n",
              "    </tr>\n",
              "  </tbody>\n",
              "</table>\n",
              "</div><br><label><b>dtype:</b> int64</label>"
            ],
            "text/plain": [
              "dos_year\n",
              "2022    1499437\n",
              "2021    1165768\n",
              "Name: count, dtype: int64"
            ]
          },
          "execution_count": 14,
          "metadata": {},
          "output_type": "execute_result"
        }
      ],
      "source": [
        "df['dos_year'].value_counts()"
      ]
    },
    {
      "cell_type": "code",
      "execution_count": null,
      "metadata": {
        "colab": {
          "base_uri": "https://localhost:8080/"
        },
        "id": "Rm_51ibBjRfJ",
        "outputId": "dadb3427-459b-4083-8cde-334a8e88f2d8"
      },
      "outputs": [
        {
          "data": {
            "text/plain": [
              "{'clm_unique_key': 'nunique',\n",
              " 'pcp_visit': 'sum',\n",
              " 'annual_wellness': 'sum',\n",
              " 'humana_paf': 'sum',\n",
              " 'preventative_visit': 'sum',\n",
              " 'comp_physical_exam': 'sum',\n",
              " 'fqhc_visit': 'sum',\n",
              " 'telehealth': 'sum',\n",
              " 'endocrinologist_visit': 'sum',\n",
              " 'oncolologist_visit': 'sum',\n",
              " 'radiologist_visit': 'sum',\n",
              " 'podiatrist_visit': 'sum',\n",
              " 'ophthalmologist_visit': 'sum',\n",
              " 'optometrist_visit': 'sum',\n",
              " 'physical_therapist_visit': 'sum',\n",
              " 'cardiologist_visit': 'sum',\n",
              " 'gastroenterologist_visit': 'sum',\n",
              " 'orthopedist_visit': 'sum',\n",
              " 'obgyn_visit': 'sum',\n",
              " 'nephroloogist_visit': 'sum',\n",
              " 'pulmonologist_visit': 'sum',\n",
              " 'urgent_care_visit': 'sum',\n",
              " 'er_visit': 'sum'}"
            ]
          },
          "execution_count": 54,
          "metadata": {},
          "output_type": "execute_result"
        }
      ],
      "source": [
        "cols=[x for x in df.columns if x not in ['id','dos_year', 'serv_date_skey', 'ihwa']]\n",
        "agg_dict = dict()\n",
        "for i in cols:\n",
        "  if i == 'clm_unique_key':\n",
        "    agg_dict[i] = 'nunique'\n",
        "  else:\n",
        "    agg_dict[i] = 'sum'\n",
        "agg_dict\n"
      ]
    },
    {
      "cell_type": "code",
      "execution_count": null,
      "metadata": {
        "id": "We7_VBZqiUfA"
      },
      "outputs": [],
      "source": [
        "df2=df.groupby(['id','dos_year']).agg(agg_dict).reset_index()"
      ]
    },
    {
      "cell_type": "code",
      "execution_count": null,
      "metadata": {
        "colab": {
          "base_uri": "https://localhost:8080/"
        },
        "id": "4fdgzmXbonhp",
        "outputId": "fa657ab4-95ef-41ac-c9c3-96ae525d683a"
      },
      "outputs": [
        {
          "data": {
            "text/plain": [
              "{'clm_unique_key': '2021_clm_unique_key',\n",
              " 'pcp_visit': '2021_pcp_visit',\n",
              " 'annual_wellness': '2021_annual_wellness',\n",
              " 'humana_paf': '2021_humana_paf',\n",
              " 'preventative_visit': '2021_preventative_visit',\n",
              " 'comp_physical_exam': '2021_comp_physical_exam',\n",
              " 'fqhc_visit': '2021_fqhc_visit',\n",
              " 'telehealth': '2021_telehealth',\n",
              " 'endocrinologist_visit': '2021_endocrinologist_visit',\n",
              " 'oncolologist_visit': '2021_oncolologist_visit',\n",
              " 'radiologist_visit': '2021_radiologist_visit',\n",
              " 'podiatrist_visit': '2021_podiatrist_visit',\n",
              " 'ophthalmologist_visit': '2021_ophthalmologist_visit',\n",
              " 'optometrist_visit': '2021_optometrist_visit',\n",
              " 'physical_therapist_visit': '2021_physical_therapist_visit',\n",
              " 'cardiologist_visit': '2021_cardiologist_visit',\n",
              " 'gastroenterologist_visit': '2021_gastroenterologist_visit',\n",
              " 'orthopedist_visit': '2021_orthopedist_visit',\n",
              " 'obgyn_visit': '2021_obgyn_visit',\n",
              " 'nephroloogist_visit': '2021_nephroloogist_visit',\n",
              " 'pulmonologist_visit': '2021_pulmonologist_visit',\n",
              " 'urgent_care_visit': '2021_urgent_care_visit',\n",
              " 'er_visit': '2021_er_visit'}"
            ]
          },
          "execution_count": 56,
          "metadata": {},
          "output_type": "execute_result"
        }
      ],
      "source": []
    },
    {
      "cell_type": "code",
      "execution_count": null,
      "metadata": {
        "id": "ORYzuKHlofQI"
      },
      "outputs": [],
      "source": [
        "df2[df2['dos_year']==2021].rename(columns=dct_2021).to_csv('claims_2021.csv')"
      ]
    },
    {
      "cell_type": "code",
      "execution_count": null,
      "metadata": {
        "colab": {
          "base_uri": "https://localhost:8080/"
        },
        "id": "xuit0Qp2pX5P",
        "outputId": "fd1fbb39-f4f9-4297-91eb-63d3cc4a94af"
      },
      "outputs": [
        {
          "data": {
            "text/plain": [
              "{'clm_unique_key': '2022_clm_unique_key',\n",
              " 'pcp_visit': '2022_pcp_visit',\n",
              " 'annual_wellness': '2022_annual_wellness',\n",
              " 'humana_paf': '2022_humana_paf',\n",
              " 'preventative_visit': '2022_preventative_visit',\n",
              " 'comp_physical_exam': '2022_comp_physical_exam',\n",
              " 'fqhc_visit': '2022_fqhc_visit',\n",
              " 'telehealth': '2022_telehealth',\n",
              " 'endocrinologist_visit': '2022_endocrinologist_visit',\n",
              " 'oncolologist_visit': '2022_oncolologist_visit',\n",
              " 'radiologist_visit': '2022_radiologist_visit',\n",
              " 'podiatrist_visit': '2022_podiatrist_visit',\n",
              " 'ophthalmologist_visit': '2022_ophthalmologist_visit',\n",
              " 'optometrist_visit': '2022_optometrist_visit',\n",
              " 'physical_therapist_visit': '2022_physical_therapist_visit',\n",
              " 'cardiologist_visit': '2022_cardiologist_visit',\n",
              " 'gastroenterologist_visit': '2022_gastroenterologist_visit',\n",
              " 'orthopedist_visit': '2022_orthopedist_visit',\n",
              " 'obgyn_visit': '2022_obgyn_visit',\n",
              " 'nephroloogist_visit': '2022_nephroloogist_visit',\n",
              " 'pulmonologist_visit': '2022_pulmonologist_visit',\n",
              " 'urgent_care_visit': '2022_urgent_care_visit',\n",
              " 'er_visit': '2022_er_visit'}"
            ]
          },
          "execution_count": 58,
          "metadata": {},
          "output_type": "execute_result"
        }
      ],
      "source": [
        "dct_2022=dict()\n",
        "for i in df2.columns:\n",
        "  if i not in ['id','dos_year']:\n",
        "    dct_2022[i]='2022_'+i\n",
        "dct_2022"
      ]
    },
    {
      "cell_type": "code",
      "execution_count": null,
      "metadata": {
        "id": "mFw1HOLFpTqZ"
      },
      "outputs": [],
      "source": [
        "df2[df2['dos_year']==2022].rename(columns=dct_2022).to_csv('claims_2022.csv')"
      ]
    },
    {
      "cell_type": "code",
      "execution_count": null,
      "metadata": {
        "colab": {
          "base_uri": "https://localhost:8080/"
        },
        "collapsed": true,
        "id": "QIQmMXGWlrt5",
        "outputId": "bf351460-c437-48a1-f336-d64bc4add46d"
      },
      "outputs": [
        {
          "name": "stdout",
          "output_type": "stream",
          "text": [
            "id 1241916954358 2000000\n",
            "dos_year 2509430758 2022\n",
            "pcp_visit 3592.0 5.0\n",
            "annual_wellness 711.0 2.0\n",
            "humana_paf 342.0 2.0\n",
            "preventative_visit 12611.0 3.0\n",
            "comp_physical_exam 6353.0 3.0\n",
            "ihwa 0.0 0.0\n",
            "fqhc_visit 132.0 3.0\n",
            "telehealth 9813.0 11.0\n",
            "endocrinologist_visit 50283.0 11.0\n",
            "oncolologist_visit 93103.0 36.0\n",
            "radiologist_visit 400805.0 27.0\n",
            "podiatrist_visit 98056.0 17.0\n",
            "ophthalmologist_visit 272229.0 13.0\n",
            "optometrist_visit 163372.0 12.0\n",
            "physical_therapist_visit 164339.0 30.0\n",
            "cardiologist_visit 512118.0 84.0\n",
            "gastroenterologist_visit 109589.0 15.0\n",
            "orthopedist_visit 211381.0 20.0\n",
            "obgyn_visit 45142.0 15.0\n",
            "nephroloogist_visit 81808.0 43.0\n",
            "pulmonologist_visit 86719.0 25.0\n",
            "urgent_care_visit 64116.0 10.0\n",
            "er_visit 314417.0 46.0\n"
          ]
        }
      ],
      "source": [
        "for i in df2.columns:\n",
        "  print(i,df2[i].sum(),df2[i].max())"
      ]
    },
    {
      "cell_type": "code",
      "execution_count": null,
      "metadata": {
        "id": "jwvc4xn2mlzw"
      },
      "outputs": [],
      "source": [
        "df3=pd.read_csv('humana_mays_target_members.csv',low_memory=False)"
      ]
    },
    {
      "cell_type": "code",
      "execution_count": null,
      "metadata": {
        "colab": {
          "base_uri": "https://localhost:8080/",
          "height": 147
        },
        "id": "Ob-Ar77wnwuP",
        "outputId": "bf894423-369a-48da-f3a9-076b07a2bc56"
      },
      "outputs": [
        {
          "data": {
            "text/html": [
              "<div>\n",
              "<style scoped>\n",
              "    .dataframe tbody tr th:only-of-type {\n",
              "        vertical-align: middle;\n",
              "    }\n",
              "\n",
              "    .dataframe tbody tr th {\n",
              "        vertical-align: top;\n",
              "    }\n",
              "\n",
              "    .dataframe thead th {\n",
              "        text-align: right;\n",
              "    }\n",
              "</style>\n",
              "<table border=\"1\" class=\"dataframe\">\n",
              "  <thead>\n",
              "    <tr style=\"text-align: right;\">\n",
              "      <th></th>\n",
              "      <th>count</th>\n",
              "    </tr>\n",
              "    <tr>\n",
              "      <th>calendar_year</th>\n",
              "      <th></th>\n",
              "    </tr>\n",
              "  </thead>\n",
              "  <tbody>\n",
              "    <tr>\n",
              "      <th>2023</th>\n",
              "      <td>1527904</td>\n",
              "    </tr>\n",
              "  </tbody>\n",
              "</table>\n",
              "</div><br><label><b>dtype:</b> int64</label>"
            ],
            "text/plain": [
              "calendar_year\n",
              "2023    1527904\n",
              "Name: count, dtype: int64"
            ]
          },
          "execution_count": 38,
          "metadata": {},
          "output_type": "execute_result"
        }
      ],
      "source": [
        "df3['calendar_year'].value_counts()"
      ]
    },
    {
      "cell_type": "code",
      "execution_count": 63,
      "metadata": {
        "colab": {
          "base_uri": "https://localhost:8080/",
          "height": 17
        },
        "id": "tlBp5TahvSmK",
        "outputId": "58e87030-d460-4fe5-93a3-a6f8478f6d0c"
      },
      "outputs": [
        {
          "output_type": "display_data",
          "data": {
            "text/plain": [
              "<IPython.core.display.Javascript object>"
            ],
            "application/javascript": [
              "\n",
              "    async function download(id, filename, size) {\n",
              "      if (!google.colab.kernel.accessAllowed) {\n",
              "        return;\n",
              "      }\n",
              "      const div = document.createElement('div');\n",
              "      const label = document.createElement('label');\n",
              "      label.textContent = `Downloading \"${filename}\": `;\n",
              "      div.appendChild(label);\n",
              "      const progress = document.createElement('progress');\n",
              "      progress.max = size;\n",
              "      div.appendChild(progress);\n",
              "      document.body.appendChild(div);\n",
              "\n",
              "      const buffers = [];\n",
              "      let downloaded = 0;\n",
              "\n",
              "      const channel = await google.colab.kernel.comms.open(id);\n",
              "      // Send a message to notify the kernel that we're ready.\n",
              "      channel.send({})\n",
              "\n",
              "      for await (const message of channel.messages) {\n",
              "        // Send a message to notify the kernel that we're ready.\n",
              "        channel.send({})\n",
              "        if (message.buffers) {\n",
              "          for (const buffer of message.buffers) {\n",
              "            buffers.push(buffer);\n",
              "            downloaded += buffer.byteLength;\n",
              "            progress.value = downloaded;\n",
              "          }\n",
              "        }\n",
              "      }\n",
              "      const blob = new Blob(buffers, {type: 'application/binary'});\n",
              "      const a = document.createElement('a');\n",
              "      a.href = window.URL.createObjectURL(blob);\n",
              "      a.download = filename;\n",
              "      div.appendChild(a);\n",
              "      a.click();\n",
              "      div.remove();\n",
              "    }\n",
              "  "
            ]
          },
          "metadata": {}
        },
        {
          "output_type": "display_data",
          "data": {
            "text/plain": [
              "<IPython.core.display.Javascript object>"
            ],
            "application/javascript": [
              "download(\"download_ab505b58-ec06-41d4-a7ef-1ee14aa9b596\", \"claims.csv\", 147846845)"
            ]
          },
          "metadata": {}
        }
      ],
      "source": [
        "from google.colab import files\n",
        "files.download('claims.csv')"
      ]
    },
    {
      "cell_type": "code",
      "execution_count": null,
      "metadata": {
        "colab": {
          "base_uri": "https://localhost:8080/",
          "height": 17
        },
        "id": "GuYrpGG_wBBT",
        "outputId": "898bd447-929c-45f0-c6b9-499d72929a39"
      },
      "outputs": [
        {
          "data": {
            "application/javascript": [
              "\n",
              "    async function download(id, filename, size) {\n",
              "      if (!google.colab.kernel.accessAllowed) {\n",
              "        return;\n",
              "      }\n",
              "      const div = document.createElement('div');\n",
              "      const label = document.createElement('label');\n",
              "      label.textContent = `Downloading \"${filename}\": `;\n",
              "      div.appendChild(label);\n",
              "      const progress = document.createElement('progress');\n",
              "      progress.max = size;\n",
              "      div.appendChild(progress);\n",
              "      document.body.appendChild(div);\n",
              "\n",
              "      const buffers = [];\n",
              "      let downloaded = 0;\n",
              "\n",
              "      const channel = await google.colab.kernel.comms.open(id);\n",
              "      // Send a message to notify the kernel that we're ready.\n",
              "      channel.send({})\n",
              "\n",
              "      for await (const message of channel.messages) {\n",
              "        // Send a message to notify the kernel that we're ready.\n",
              "        channel.send({})\n",
              "        if (message.buffers) {\n",
              "          for (const buffer of message.buffers) {\n",
              "            buffers.push(buffer);\n",
              "            downloaded += buffer.byteLength;\n",
              "            progress.value = downloaded;\n",
              "          }\n",
              "        }\n",
              "      }\n",
              "      const blob = new Blob(buffers, {type: 'application/binary'});\n",
              "      const a = document.createElement('a');\n",
              "      a.href = window.URL.createObjectURL(blob);\n",
              "      a.download = filename;\n",
              "      div.appendChild(a);\n",
              "      a.click();\n",
              "      div.remove();\n",
              "    }\n",
              "  "
            ],
            "text/plain": [
              "<IPython.core.display.Javascript object>"
            ]
          },
          "metadata": {},
          "output_type": "display_data"
        },
        {
          "data": {
            "application/javascript": [
              "download(\"download_c235bb95-3426-46ac-87b8-8f8d867cdee7\", \"claims_2022.csv\", 75675386)"
            ],
            "text/plain": [
              "<IPython.core.display.Javascript object>"
            ]
          },
          "metadata": {},
          "output_type": "display_data"
        }
      ],
      "source": [
        "from google.colab import files\n",
        "files.download('claims_2022.csv')"
      ]
    },
    {
      "cell_type": "code",
      "execution_count": null,
      "metadata": {
        "colab": {
          "base_uri": "https://localhost:8080/"
        },
        "id": "IPy7r9J3w3F8",
        "outputId": "36675253-e244-45f3-9fcd-54a75e0e6ece"
      },
      "outputs": [
        {
          "data": {
            "text/plain": [
              "(2665205, 27)"
            ]
          },
          "execution_count": 65,
          "metadata": {},
          "output_type": "execute_result"
        }
      ],
      "source": [
        "df.shape"
      ]
    }
  ],
  "metadata": {
    "accelerator": "GPU",
    "colab": {
      "gpuType": "T4",
      "provenance": [],
      "authorship_tag": "ABX9TyP4BItK6p0eGpC/j3HDlZvu",
      "include_colab_link": true
    },
    "kernelspec": {
      "display_name": "Python 3",
      "name": "python3"
    },
    "language_info": {
      "name": "python"
    }
  },
  "nbformat": 4,
  "nbformat_minor": 0
}